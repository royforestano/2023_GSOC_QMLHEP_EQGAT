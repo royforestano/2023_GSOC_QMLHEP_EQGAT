{
 "cells": [
  {
   "cell_type": "markdown",
   "metadata": {},
   "source": [
    "# Simple Invariant and Equivariant Networks\n",
    "\n",
    "Author: Roy Forestano\n",
    "\n",
    "Date: 1 June 2023\n",
    "\n",
    "Based on ideas from:\n",
    "- E(n) Equivariant Graph Neural Networks: https://arxiv.org/abs/2102.09844\n",
    "\n",
    "\n",
    "- What is an equivariant neural network?: https://arxiv.org/abs/2205.07362\n",
    "- Equivariant Architectures for Learning in Deep Weight Spaces: https://arxiv.org/abs/2301.12780\n",
    "- Invariant and Equivariant Graph Networks: https://arxiv.org/abs/1812.09902\n",
    "- On the Universality of Invariant Networks: https://arxiv.org/abs/1901.09342\n",
    "- Provably Powerful Graph Networks: https://arxiv.org/abs/1905.11136\n",
    "- An Introduction To Invariant Graph Networks: http://irregulardeep.org/An-introduction-to-Invariant-Graph-Networks-(1-2)/\n",
    "- Lorentz Group Equivariant Autoencoders: https://indico.cern.ch/event/1256618/\n",
    "- Geometric Deep Learning and Equivariant Neural Networks: https://arxiv.org/abs/2105.13926\n",
    "- A General Theory of Equivariant CNNs on Homogeneous Spaces: https://arxiv.org/abs/1811.02017\n",
    "- Geometrical aspects of lattice gauge equivariant convolutional neural networks: https://arxiv.org/abs/2303.11448\n",
    "- Equivariant Architectures for Learning in Deep Weight Spaces: https://arxiv.org/abs/2301.12780\n",
    "- Equivariance: https://dmol.pub/dl/data.html#running-this-notebook"
   ]
  },
  {
   "cell_type": "code",
   "execution_count": 1,
   "metadata": {},
   "outputs": [
    {
     "name": "stdout",
     "output_type": "stream",
     "text": [
      "Using cpu device\n"
     ]
    }
   ],
   "source": [
    "import random\n",
    "import numpy as np\n",
    "import matplotlib.pyplot as plt\n",
    "import matplotlib as mpl\n",
    "%matplotlib inline\n",
    "import scipy\n",
    "import os\n",
    "import copy\n",
    "from tqdm import tqdm\n",
    "from time import time\n",
    "import itertools\n",
    "\n",
    "import torch\n",
    "from torch import nn\n",
    "from torch.utils.data import DataLoader\n",
    "from torch.utils.data import Dataset\n",
    "from torchvision import datasets\n",
    "from torchvision.transforms import ToTensor\n",
    "torch.set_default_dtype(torch.float64)\n",
    "plt.rcParams[\"font.family\"] = 'sans-serif'\n",
    "np.set_printoptions(formatter={'float_kind':'{:f}'.format}) \n",
    "\n",
    "# Get cpu or gpu device for training.\n",
    "device = \"cuda\" if torch.cuda.is_available() else \"cpu\"\n",
    "print(f\"Using {device} device\")"
   ]
  },
  {
   "cell_type": "markdown",
   "metadata": {},
   "source": [
    "## Make Squares and Triangles"
   ]
  },
  {
   "cell_type": "code",
   "execution_count": 2,
   "metadata": {},
   "outputs": [],
   "source": [
    "# make_rectangle = np.array([[0.1,0.9],\n",
    "#                            [0.9,0.9],\n",
    "#                            [0.1,0.1],\n",
    "#                            [0.9,0.1]]).reshape(4,2)\n",
    "\n",
    "# make_triangle = np.array([[0.5,0.9],\n",
    "#                           [0.5,0.45],\n",
    "#                           [0.1,0.1],\n",
    "#                           [0.9,0.1]]).reshape(4,2)"
   ]
  },
  {
   "cell_type": "code",
   "execution_count": 2,
   "metadata": {},
   "outputs": [
    {
     "name": "stdout",
     "output_type": "stream",
     "text": [
      "25\n",
      "Dropping Extra Indices Shapes\n"
     ]
    }
   ],
   "source": [
    "s=0.\n",
    "l=1.\n",
    "dsize = 30\n",
    "np.random.seed(0)\n",
    "make_rectangle = np.hstack([ np.random.uniform(s,l, dsize).reshape(dsize,1), np.random.uniform(s, l, dsize).reshape(dsize,1)]).reshape(dsize,2)\n",
    "\n",
    "np.random.seed(1)\n",
    "middle =0.5\n",
    "new1_rectangle = np.hstack([ np.random.uniform(s,middle, dsize).reshape(dsize,1), np.random.uniform(s, l, dsize).reshape(dsize,1)]).reshape(dsize,2)\n",
    "new2_rectangle = np.hstack([ np.random.uniform(middle,l, dsize).reshape(dsize,1), np.random.uniform(s, l, dsize).reshape(dsize,1)]).reshape(dsize,2)\n",
    "make_triangle = np.zeros((dsize,2))\n",
    "found = 0\n",
    "for i in range(dsize):\n",
    "    if found<dsize:\n",
    "        if (new1_rectangle[i,1]-2*new1_rectangle[i,0])<0:\n",
    "            make_triangle[found] =copy.deepcopy(new1_rectangle[i])\n",
    "            found+=1\n",
    "    if found<dsize:\n",
    "        if (new2_rectangle[i,1]-2+2*new2_rectangle[i,0])<0:\n",
    "            make_triangle[found] =copy.deepcopy(new2_rectangle[i])\n",
    "            found+=1\n",
    "print(found)\n",
    "\n",
    "if make_rectangle.shape[0]>found:\n",
    "    print('Dropping Extra Indices Shapes')\n",
    "    make_rectangle = copy.deepcopy(make_rectangle)[:found,:]\n",
    "    make_triangle = copy.deepcopy(make_triangle)[:found,:]"
   ]
  },
  {
   "cell_type": "code",
   "execution_count": 3,
   "metadata": {},
   "outputs": [
    {
     "data": {
      "text/plain": [
       "(25, 2)"
      ]
     },
     "execution_count": 3,
     "metadata": {},
     "output_type": "execute_result"
    }
   ],
   "source": [
    "make_rectangle.shape"
   ]
  },
  {
   "cell_type": "code",
   "execution_count": 4,
   "metadata": {},
   "outputs": [
    {
     "data": {
      "text/plain": [
       "(25, 2)"
      ]
     },
     "execution_count": 4,
     "metadata": {},
     "output_type": "execute_result"
    }
   ],
   "source": [
    "make_triangle.shape"
   ]
  },
  {
   "cell_type": "code",
   "execution_count": 5,
   "metadata": {},
   "outputs": [],
   "source": [
    "# new1_rectangle"
   ]
  },
  {
   "cell_type": "code",
   "execution_count": 6,
   "metadata": {},
   "outputs": [
    {
     "data": {
      "text/plain": [
       "0.9695957483196745"
      ]
     },
     "execution_count": 6,
     "metadata": {},
     "output_type": "execute_result"
    }
   ],
   "source": [
    "np.max(np.random.uniform(s, l, dsize))"
   ]
  },
  {
   "cell_type": "code",
   "execution_count": 7,
   "metadata": {},
   "outputs": [
    {
     "data": {
      "text/plain": [
       "[<matplotlib.lines.Line2D at 0x7faf4131bbb0>]"
      ]
     },
     "execution_count": 7,
     "metadata": {},
     "output_type": "execute_result"
    },
    {
     "data": {
      "image/png": "[encoded data removed]",
      "text/plain": [
       "<Figure size 432x288 with 1 Axes>"
      ]
     },
     "metadata": {
      "needs_background": "light"
     },
     "output_type": "display_data"
    }
   ],
   "source": [
    "plt.scatter(make_rectangle[:,0],make_rectangle[:,1],c='r',s=20,marker='s')\n",
    "plt.scatter(make_triangle[:,0],make_triangle[:,1],c='b',s=10,marker='v')\n",
    "plt.plot([0.,0.5,1.0,0.0],[0.,1.0,0.,0.])"
   ]
  },
  {
   "cell_type": "code",
   "execution_count": 8,
   "metadata": {},
   "outputs": [],
   "source": [
    "np.random.seed(0)\n",
    "translations = np.random.uniform(low=-5,high=5,size=10)\n",
    "\n",
    "def rot_matrix(theta):\n",
    "    return np.array([[np.cos(theta),-np.sin(theta)],\n",
    "                     [np.sin(theta),np.cos(theta)]]).reshape(2,2)\n",
    "\n",
    "angles = np.linspace(start=0,stop=2*np.pi,num=10)\n",
    "rotations = [rot_matrix(angle) for angle in angles]"
   ]
  },
  {
   "cell_type": "code",
   "execution_count": 9,
   "metadata": {},
   "outputs": [
    {
     "data": {
      "text/plain": [
       "array([[0.766044, -0.642788],\n",
       "       [0.642788, 0.766044]])"
      ]
     },
     "execution_count": 9,
     "metadata": {},
     "output_type": "execute_result"
    }
   ],
   "source": [
    "rotations[1]"
   ]
  },
  {
   "cell_type": "code",
   "execution_count": 10,
   "metadata": {},
   "outputs": [],
   "source": [
    "#rotations[1]@make_rectangle.transpose()"
   ]
  },
  {
   "cell_type": "code",
   "execution_count": 11,
   "metadata": {},
   "outputs": [],
   "source": [
    "new_square = rotations[1]@make_rectangle.transpose()"
   ]
  },
  {
   "cell_type": "code",
   "execution_count": 12,
   "metadata": {},
   "outputs": [
    {
     "data": {
      "text/plain": [
       "<matplotlib.collections.PathCollection at 0x7faf414a4a90>"
      ]
     },
     "execution_count": 12,
     "metadata": {},
     "output_type": "execute_result"
    },
    {
     "data": {
      "image/png": "[encoded data removed]",
      "text/plain": [
       "<Figure size 432x288 with 1 Axes>"
      ]
     },
     "metadata": {
      "needs_background": "light"
     },
     "output_type": "display_data"
    }
   ],
   "source": [
    "plt.scatter(new_square[0,:],new_square[1,:])"
   ]
  },
  {
   "cell_type": "code",
   "execution_count": 13,
   "metadata": {},
   "outputs": [],
   "source": [
    "np.random.seed(0)\n",
    "squares  = [  [(rotation@(make_rectangle+np.random.uniform(low=0,high=0.5,size=(found,2))).transpose()+translation).transpose(),0] for rotation in rotations for translation in translations ]\n",
    "np.random.seed(0)\n",
    "triangle = [  [(rotation@(make_triangle+np.random.uniform(low=0,high=0.5,size=(found,2))).transpose()+translation).transpose(),1] for rotation in rotations for translation in translations ]"
   ]
  },
  {
   "cell_type": "code",
   "execution_count": 14,
   "metadata": {},
   "outputs": [
    {
     "data": {
      "text/plain": [
       "200"
      ]
     },
     "execution_count": 14,
     "metadata": {},
     "output_type": "execute_result"
    }
   ],
   "source": [
    "shapes = squares+triangle\n",
    "random.seed(0)\n",
    "random.shuffle(shapes)\n",
    "len(shapes)"
   ]
  },
  {
   "cell_type": "code",
   "execution_count": 47,
   "metadata": {},
   "outputs": [
    {
     "data": {
      "text/plain": [
       "1"
      ]
     },
     "execution_count": 47,
     "metadata": {},
     "output_type": "execute_result"
    }
   ],
   "source": [
    "shapes[0][0]"
   ]
  },
  {
   "cell_type": "code",
   "execution_count": 52,
   "metadata": {},
   "outputs": [
    {
     "data": {
      "text/plain": [
       "0"
      ]
     },
     "execution_count": 52,
     "metadata": {},
     "output_type": "execute_result"
    }
   ],
   "source": [
    "shapes[27][1]"
   ]
  },
  {
   "cell_type": "code",
   "execution_count": 55,
   "metadata": {},
   "outputs": [
    {
     "data": {
      "text/plain": [
       "(-5.0, 5.0)"
      ]
     },
     "execution_count": 55,
     "metadata": {},
     "output_type": "execute_result"
    },
    {
     "data": {
      "image/png": "[encoded data removed]",
      "text/plain": [
       "<Figure size 360x360 with 1 Axes>"
      ]
     },
     "metadata": {
      "needs_background": "light"
     },
     "output_type": "display_data"
    }
   ],
   "source": [
    "plt.figure(figsize=(5,5))\n",
    "plt.scatter(shapes[0][0][:,0],shapes[0][0][:,1],marker='^')\n",
    "plt.scatter(shapes[27][0][:,0],shapes[27][0][:,1],marker='s')\n",
    "plt.xlim([-5,5])\n",
    "plt.ylim([-5,5])\n",
    "#plt.axis('equal')"
   ]
  },
  {
   "cell_type": "code",
   "execution_count": 17,
   "metadata": {},
   "outputs": [],
   "source": [
    "points_in_shape = shapes[0][0].shape[0]\n",
    "data = torch.zeros((len(shapes),points_in_shape*2+1))\n",
    "for i,shape in enumerate(shapes):\n",
    "    data[i,:]=torch.hstack([torch.tensor(shape[0].flatten()),torch.tensor(shape[1])])"
   ]
  },
  {
   "cell_type": "code",
   "execution_count": 18,
   "metadata": {},
   "outputs": [
    {
     "data": {
      "text/plain": [
       "torch.Size([200, 51])"
      ]
     },
     "execution_count": 18,
     "metadata": {},
     "output_type": "execute_result"
    }
   ],
   "source": [
    "data.shape"
   ]
  },
  {
   "cell_type": "code",
   "execution_count": 19,
   "metadata": {},
   "outputs": [
    {
     "data": {
      "text/plain": [
       "tensor([1.3289, 2.3822, 1.3856, 2.8351, 1.2112, 2.0983, 1.1308, 2.4134, 0.8900,\n",
       "        2.5605, 1.1043, 2.8037, 1.8035, 2.2043, 1.3793, 3.1443, 1.2948, 2.3534,\n",
       "        0.9709, 2.1837, 1.1359, 2.2935, 1.0989, 2.4001, 1.6337, 2.9769, 1.3730,\n",
       "        2.1736, 1.4994, 2.2523, 1.3718, 2.6078, 0.7179, 2.2989, 1.1485, 3.0289,\n",
       "        1.7284, 2.4279, 1.4422, 2.7184, 0.9665, 2.4009, 1.5988, 2.7811, 1.5332,\n",
       "        2.3682, 0.9041, 2.1998, 1.3465, 3.1517, 1.0000])"
      ]
     },
     "execution_count": 19,
     "metadata": {},
     "output_type": "execute_result"
    }
   ],
   "source": [
    "data[0]"
   ]
  },
  {
   "cell_type": "markdown",
   "metadata": {},
   "source": [
    "---\n",
    "${ \\bf Invariance}$ $f(Tx) = f(x)$: nodes $i,j$, $i<j$, \n",
    "$$| \\vec{x}_i - \\vec{x}_j |$$\n",
    "Show this is conserved under $x_i \\to Qx_i + g$,\n",
    "$$| [Q_{ki}x_i +g] - [Q_{ij}x_j+g] |$$\n",
    "$$=  | [Qx_i +g] - [Qx_j+g] |$$\n",
    "$$= | Q(x_i - x_j) |$$\n",
    "$$=  (x_i - x_j)^TQ^T Q(x_i - x_j) $$ \n",
    "$$= (x_i - x_j)^T \\mathbb{I} (x_i - x_j), \\quad \\text{Q orthogonal matrix}$$\n",
    "$$=| x_i - x_j |$$\n",
    "\n",
    "My conception: Can only be used as input/additional feature, but not transmitted through the network well once we change the vectors to a norm.\n",
    "\n",
    "---\n",
    "${\\bf Equivariance}$  $f(Tx) = T'f(x)$ for $T \\cong T'$: nodes $i,j$, $i<j$,\n",
    "$$\\vec{f}(\\vec{x}_i,\\vec{x}_j)\\equiv \\mathbb{R}^2 \\times \\mathbb{R}^2 \\to \\mathbb{R}^2: x_i + C(x_i-x_j)$$\n",
    "where $C$ is a scalar. Show when $x_i \\to Qx_i + g$, this is equal to $Q\\left(x_i + C(x_i-x_j) \\right) + g$,\n",
    "$$ [Q_{ki}x_i +g] + C([Q_{ki}x_i +g]-[Q_{ij}x_j+g]) $$\n",
    "$$= [Qx_i +g] + C([Qx_i +g]-[Qx_j+g])$$\n",
    "$$= [Qx_i +g] + Q C(x_i-x_j)$$\n",
    "$$= Q\\left( x_i + C(x_i-x_j) \\right) +g$$\n",
    "\n",
    "My conception: Can use this at any point in training beause the new output vectors can continue to be manipulated in this way, as e.g. in a linear layer, $x^{l+1} = Wx^l + b$, and the network remains equivariant using the above function consecutively.\n",
    "\n",
    "---"
   ]
  },
  {
   "cell_type": "code",
   "execution_count": 70,
   "metadata": {},
   "outputs": [],
   "source": [
    "# Define model\n",
    "class classify_shapes(nn.Module):\n",
    "    def __init__(self,n_samples,n_dim):\n",
    "        super(classify_shapes,self).__init__() \n",
    "       \n",
    "        self.network = nn.Sequential( nn.Linear(in_features = n_dim, out_features = n_dim, bias = True),\n",
    "                                       nn.ReLU(),\n",
    "                                       nn.Linear(in_features = n_dim, out_features = n_dim, bias = True),\n",
    "                                       nn.ReLU(),\n",
    "                                       nn.Linear(in_features = n_dim, out_features = 2, bias = True) )\n",
    "\n",
    "#         self.make_between_01 = nn.Sigmoid()\n",
    "        self.rescale = nn.Softmax(dim=1)\n",
    "        self.n_samples = n_samples\n",
    "        self.n_dim = n_dim\n",
    "\n",
    "    def forward(self, x):\n",
    "        classification = self.network(x).reshape(x.shape[0],2)\n",
    "        #classification = self.make_between_01(x)\n",
    "        classification = self.rescale(classification)\n",
    "        return classification"
   ]
  },
  {
   "cell_type": "code",
   "execution_count": 71,
   "metadata": {},
   "outputs": [],
   "source": [
    "def train(data,\n",
    "          labels,\n",
    "          model, \n",
    "          loss_fn, \n",
    "          epochs, \n",
    "          optimizer):\n",
    "    \n",
    "    history = {'train_loss': []} \n",
    "    \n",
    "    best_val_loss = torch.inf\n",
    "    start = time()\n",
    "    \n",
    "    data = data.to(device)\n",
    "    labels = labels.to(device)\n",
    "    x = data\n",
    "    y = labels.type(torch.LongTensor)\n",
    "    size = x.shape[0]\n",
    "    \n",
    "    for i in range(epochs):\n",
    "        train_loss = 0.\n",
    "        model.train()\n",
    "        predictions = model(x) \n",
    "        loss = loss_fn(predictions,y)\n",
    "\n",
    "        # Backpropagation\n",
    "        optimizer.zero_grad()\n",
    "        loss.backward()\n",
    "        optimizer.step()\n",
    "        train_loss = loss.item()\n",
    "\n",
    "        history['train_loss'].append(train_loss)\n",
    "        \n",
    "        if i%10==0:\n",
    "            print(f\"Epoch {i+1}   |  Train Loss: {train_loss}\")\n",
    "        if (i+1)==epochs:\n",
    "            print(f\"Epoch {i+1}   |  Train Loss: {train_loss}\")\n",
    "    \n",
    "#         if train_loss*1e25 < 1:\n",
    "#             print()\n",
    "#             print('Reached Near Machine Zero')\n",
    "#             break\n",
    "        \n",
    "        if train_loss < best_val_loss:\n",
    "            best_val_loss = train_loss\n",
    "            best_model_wts = copy.deepcopy(model.state_dict())\n",
    "            #torch.save(model.state_dict(),'simple_equivariant.pth')\n",
    "    \n",
    "    end = time()\n",
    "    total_time = end-start\n",
    "    print(f'Total Time: {total_time:>.8f}')\n",
    "    return {'history': history}"
   ]
  },
  {
   "cell_type": "code",
   "execution_count": 22,
   "metadata": {},
   "outputs": [],
   "source": [
    "loss = nn.CrossEntropyLoss()"
   ]
  },
  {
   "cell_type": "code",
   "execution_count": 23,
   "metadata": {},
   "outputs": [
    {
     "data": {
      "text/plain": [
       "tensor([1, 1, 3])"
      ]
     },
     "execution_count": 23,
     "metadata": {},
     "output_type": "execute_result"
    }
   ],
   "source": [
    "torch.empty(3, dtype=torch.long).random_(5)"
   ]
  },
  {
   "cell_type": "code",
   "execution_count": 24,
   "metadata": {},
   "outputs": [],
   "source": [
    "probs = torch.tensor([[1.,0.,0.,0.,0.],\n",
    "                      [0.,1.,0.,0.,0.],\n",
    "                      [0.,0.,1.,0.,0.]]).reshape(3,5)"
   ]
  },
  {
   "cell_type": "code",
   "execution_count": 25,
   "metadata": {},
   "outputs": [
    {
     "data": {
      "text/plain": [
       "tensor(0.9048)"
      ]
     },
     "execution_count": 25,
     "metadata": {},
     "output_type": "execute_result"
    }
   ],
   "source": [
    "loss(probs,torch.tensor([0,1,2]))"
   ]
  },
  {
   "cell_type": "markdown",
   "metadata": {},
   "source": [
    "---\n",
    "## Traditional Network: Send in Raw Coordinates of Points\n",
    "\n",
    "Using coordinates of nodes $x_i$ as features."
   ]
  },
  {
   "cell_type": "markdown",
   "metadata": {},
   "source": [
    "## Set Hyperparameters and Train the Model"
   ]
  },
  {
   "cell_type": "code",
   "execution_count": 72,
   "metadata": {},
   "outputs": [],
   "source": [
    "torch.manual_seed(0)\n",
    "n_samples  = data.shape[0] # sample size\n",
    "n_dim      = int(data.shape[1]-1)   # dimension = coordinate points*2 - label column\n",
    "\n",
    "data_train = copy.deepcopy(data[:,:n_dim])\n",
    "labels_train = copy.deepcopy(data[:,n_dim])\n",
    "\n",
    "lr = 1e-3\n",
    "model = classify_shapes(n_samples,n_dim).to(device)\n",
    "optimizer = torch.optim.Adam(model.parameters(), lr=lr)\n",
    "loss_fn = torch.nn.CrossEntropyLoss()\n",
    "#optimizer = torch.optim.SGD(model.parameters(), lr=lr, momentum=0.9)"
   ]
  },
  {
   "cell_type": "code",
   "execution_count": 73,
   "metadata": {},
   "outputs": [
    {
     "data": {
      "text/plain": [
       "200"
      ]
     },
     "execution_count": 73,
     "metadata": {},
     "output_type": "execute_result"
    }
   ],
   "source": [
    "n_samples"
   ]
  },
  {
   "cell_type": "code",
   "execution_count": 74,
   "metadata": {},
   "outputs": [
    {
     "data": {
      "text/plain": [
       "50"
      ]
     },
     "execution_count": 74,
     "metadata": {},
     "output_type": "execute_result"
    }
   ],
   "source": [
    "n_dim"
   ]
  },
  {
   "cell_type": "code",
   "execution_count": 75,
   "metadata": {},
   "outputs": [
    {
     "name": "stdout",
     "output_type": "stream",
     "text": [
      "Epoch 1   |  Train Loss: 0.7046976913779605\n",
      "Epoch 11   |  Train Loss: 0.6825777822209722\n",
      "Epoch 21   |  Train Loss: 0.6639065058402115\n",
      "Epoch 31   |  Train Loss: 0.6288806121838193\n",
      "Epoch 41   |  Train Loss: 0.5758701259445843\n",
      "Epoch 51   |  Train Loss: 0.5086836375916636\n",
      "Epoch 61   |  Train Loss: 0.439349086248249\n",
      "Epoch 71   |  Train Loss: 0.38365376482760266\n",
      "Epoch 81   |  Train Loss: 0.3497240513791553\n",
      "Epoch 91   |  Train Loss: 0.33276091545218506\n",
      "Epoch 100   |  Train Loss: 0.3251049833621728\n",
      "Total Time: 0.39429688\n"
     ]
    }
   ],
   "source": [
    "epochs = 100\n",
    "\n",
    "training = train( data             = data_train,\n",
    "                  labels           = labels_train,\n",
    "                  model            = model, \n",
    "                  loss_fn          = loss_fn,\n",
    "                  epochs           = epochs,\n",
    "                  optimizer        = optimizer)"
   ]
  },
  {
   "cell_type": "code",
   "execution_count": 76,
   "metadata": {},
   "outputs": [],
   "source": [
    "#model.load_state_dict(torch.load('best_SO4.pth',map_location=torch.device('cpu')))"
   ]
  },
  {
   "cell_type": "markdown",
   "metadata": {},
   "source": [
    "## Visualize the History of Training Loss"
   ]
  },
  {
   "cell_type": "code",
   "execution_count": 77,
   "metadata": {},
   "outputs": [
    {
     "data": {
      "image/png": "[encoded data removed]",
      "text/plain": [
       "<Figure size 432x288 with 1 Axes>"
      ]
     },
     "metadata": {
      "needs_background": "light"
     },
     "output_type": "display_data"
    }
   ],
   "source": [
    "train_loss = np.array(training['history']['train_loss'])\n",
    "N=train_loss.shape[0]\n",
    "plt.figure(figsize=(6,4)) #, dpi=100)\n",
    "plt.plot(train_loss[:N], linewidth=1, linestyle='-',  color = 'r', label='Total')\n",
    "plt.legend()\n",
    "\n",
    "plt.xlabel('Epoch')\n",
    "plt.ylabel('Loss')\n",
    "#plt.yscale('log')\n",
    "plt.title('Loss')\n",
    "plt.show()"
   ]
  },
  {
   "cell_type": "markdown",
   "metadata": {},
   "source": [
    "## Extract Results"
   ]
  },
  {
   "cell_type": "code",
   "execution_count": 78,
   "metadata": {},
   "outputs": [],
   "source": [
    "model.eval()\n",
    "\n",
    "with torch.no_grad():\n",
    "    classify_new_shapes = model(data[:,:int(data.shape[1]-1)])"
   ]
  },
  {
   "cell_type": "code",
   "execution_count": 79,
   "metadata": {},
   "outputs": [
    {
     "data": {
      "text/plain": [
       "tensor([[1.0229e-03, 9.9898e-01],\n",
       "        [7.0155e-04, 9.9930e-01],\n",
       "        [9.9969e-01, 3.0525e-04],\n",
       "        [4.4047e-04, 9.9956e-01],\n",
       "        [1.2880e-02, 9.8712e-01]])"
      ]
     },
     "execution_count": 79,
     "metadata": {},
     "output_type": "execute_result"
    }
   ],
   "source": [
    "classify_new_shapes[:5]"
   ]
  },
  {
   "cell_type": "markdown",
   "metadata": {},
   "source": [
    "Accuracy of Traditional Network"
   ]
  },
  {
   "cell_type": "code",
   "execution_count": 80,
   "metadata": {},
   "outputs": [
    {
     "data": {
      "text/plain": [
       "tensor(200)"
      ]
     },
     "execution_count": 80,
     "metadata": {},
     "output_type": "execute_result"
    }
   ],
   "source": [
    "(torch.argmax(classify_new_shapes,dim=1)==labels_train).sum()"
   ]
  },
  {
   "cell_type": "markdown",
   "metadata": {},
   "source": [
    "---\n",
    "## Invariant Network\n",
    "\n",
    "Using as features $| x_i - x_j |$ for nodes $i,j$ for $i<j$\n",
    "\n",
    "My conception: Can only be used as input/additional feature, but not transmitted through the network well once we change the vectors to a norm."
   ]
  },
  {
   "cell_type": "code",
   "execution_count": 33,
   "metadata": {},
   "outputs": [],
   "source": [
    "points_in_shape = shapes[0][0].shape[0]\n",
    "# data_train[0].reshape(points_in_shape,2)"
   ]
  },
  {
   "cell_type": "code",
   "execution_count": 86,
   "metadata": {},
   "outputs": [
    {
     "data": {
      "text/plain": [
       "25"
      ]
     },
     "execution_count": 86,
     "metadata": {},
     "output_type": "execute_result"
    }
   ],
   "source": [
    "points_in_shape"
   ]
  },
  {
   "cell_type": "code",
   "execution_count": 34,
   "metadata": {},
   "outputs": [
    {
     "name": "stderr",
     "output_type": "stream",
     "text": [
      "200it [00:02, 85.66it/s] \n"
     ]
    }
   ],
   "source": [
    "n_distances = int(points_in_shape*(points_in_shape-1)/2)\n",
    "combinations = itertools.combinations(np.arange(start=0,stop=points_in_shape),r=2)\n",
    "data_invariant = torch.zeros(data_train.shape[0],n_distances)\n",
    "for i,shape in tqdm(enumerate(shapes)):\n",
    "    shape_tensor = torch.tensor(copy.deepcopy(shape[0]))\n",
    "    indx = 0\n",
    "    for two_points in itertools.combinations(np.arange(start=0,stop=points_in_shape),r=2):\n",
    "        fst_indx = two_points[0]\n",
    "        scd_indx = two_points[1]\n",
    "        data_invariant[i,indx] = ((shape_tensor[fst_indx,:]-shape_tensor[scd_indx,:])**2).sum().sqrt()\n",
    "        indx+=1"
   ]
  },
  {
   "cell_type": "code",
   "execution_count": 81,
   "metadata": {},
   "outputs": [
    {
     "data": {
      "text/plain": [
       "torch.Size([200, 300])"
      ]
     },
     "execution_count": 81,
     "metadata": {},
     "output_type": "execute_result"
    }
   ],
   "source": [
    "data_invariant.shape"
   ]
  },
  {
   "cell_type": "markdown",
   "metadata": {},
   "source": [
    "Plot distributions for three diffeent shapes of the invariant lengths"
   ]
  },
  {
   "cell_type": "code",
   "execution_count": 97,
   "metadata": {},
   "outputs": [
    {
     "data": {
      "text/plain": [
       "(array([4.000000, 7.000000, 6.000000, 8.000000, 14.000000, 15.000000,\n",
       "        11.000000, 20.000000, 25.000000, 21.000000, 25.000000, 15.000000,\n",
       "        12.000000, 20.000000, 12.000000, 14.000000, 8.000000, 12.000000,\n",
       "        9.000000, 12.000000, 14.000000, 5.000000, 0.000000, 2.000000,\n",
       "        5.000000, 2.000000, 0.000000, 0.000000, 0.000000, 2.000000]),\n",
       " array([0.007094, 0.054065, 0.101037, 0.148008, 0.194979, 0.241950,\n",
       "        0.288922, 0.335893, 0.382864, 0.429835, 0.476806, 0.523778,\n",
       "        0.570749, 0.617720, 0.664691, 0.711663, 0.758634, 0.805605,\n",
       "        0.852576, 0.899548, 0.946519, 0.993490, 1.040461, 1.087432,\n",
       "        1.134404, 1.181375, 1.228346, 1.275317, 1.322289, 1.369260,\n",
       "        1.416231]),\n",
       " <BarContainer object of 30 artists>)"
      ]
     },
     "execution_count": 97,
     "metadata": {},
     "output_type": "execute_result"
    },
    {
     "data": {
      "image/png": "[encoded data removed]",
      "text/plain": [
       "<Figure size 432x288 with 1 Axes>"
      ]
     },
     "metadata": {
      "needs_background": "light"
     },
     "output_type": "display_data"
    }
   ],
   "source": [
    "plt.hist(data_invariant[0,:],bins=30,alpha=0.3)\n",
    "plt.hist(data_invariant[1,:],bins=30,alpha=0.3)\n",
    "plt.hist(data_invariant[2,:],bins=30,alpha=0.3)"
   ]
  },
  {
   "cell_type": "code",
   "execution_count": 98,
   "metadata": {},
   "outputs": [
    {
     "data": {
      "text/plain": [
       "tensor(0.)"
      ]
     },
     "execution_count": 98,
     "metadata": {},
     "output_type": "execute_result"
    }
   ],
   "source": [
    "labels_train[2]"
   ]
  },
  {
   "cell_type": "code",
   "execution_count": 106,
   "metadata": {},
   "outputs": [
    {
     "data": {
      "text/plain": [
       "torch.Size([100])"
      ]
     },
     "execution_count": 106,
     "metadata": {},
     "output_type": "execute_result"
    }
   ],
   "source": [
    "torch.max(data_invariant[labels_train==1.],dim=1).values.shape"
   ]
  },
  {
   "cell_type": "markdown",
   "metadata": {},
   "source": [
    "Plot max distance between points in shapes (square and triangle distributions)"
   ]
  },
  {
   "cell_type": "code",
   "execution_count": 108,
   "metadata": {},
   "outputs": [
    {
     "data": {
      "text/plain": [
       "(array([2.000000, 4.000000, 0.000000, 1.000000, 2.000000, 1.000000,\n",
       "        5.000000, 4.000000, 8.000000, 6.000000, 5.000000, 5.000000,\n",
       "        6.000000, 6.000000, 9.000000, 7.000000, 2.000000, 5.000000,\n",
       "        4.000000, 1.000000, 2.000000, 2.000000, 1.000000, 3.000000,\n",
       "        1.000000, 3.000000, 2.000000, 1.000000, 0.000000, 2.000000]),\n",
       " array([1.115624, 1.134080, 1.152535, 1.170991, 1.189446, 1.207902,\n",
       "        1.226357, 1.244812, 1.263268, 1.281723, 1.300179, 1.318634,\n",
       "        1.337090, 1.355545, 1.374001, 1.392456, 1.410912, 1.429367,\n",
       "        1.447822, 1.466278, 1.484733, 1.503189, 1.521644, 1.540100,\n",
       "        1.558555, 1.577011, 1.595466, 1.613922, 1.632377, 1.650832,\n",
       "        1.669288]),\n",
       " <BarContainer object of 30 artists>)"
      ]
     },
     "execution_count": 108,
     "metadata": {},
     "output_type": "execute_result"
    },
    {
     "data": {
      "image/png": "[encoded data removed]",
      "text/plain": [
       "<Figure size 432x288 with 1 Axes>"
      ]
     },
     "metadata": {
      "needs_background": "light"
     },
     "output_type": "display_data"
    }
   ],
   "source": [
    "plt.hist(torch.max(data_invariant[labels_train==1.],dim=1).values,bins=30,alpha=0.3)\n",
    "plt.hist(torch.max(data_invariant[labels_train==0.],dim=1).values,bins=30,alpha=0.3)"
   ]
  },
  {
   "cell_type": "markdown",
   "metadata": {},
   "source": [
    "## Invariant: Set Hyperparameters and Train the Model"
   ]
  },
  {
   "cell_type": "code",
   "execution_count": 87,
   "metadata": {},
   "outputs": [],
   "source": [
    "torch.manual_seed(0)\n",
    "n_samples  = data.shape[0] # sample size, same as before\n",
    "n_dim      = data_invariant.shape[1]   # dimension = coordinate points*2 - label column\n",
    "\n",
    "data_train_inv = copy.deepcopy(data_invariant)\n",
    "#labels_train = copy.deepcopy(data[:,n_dim]) # same as before\n",
    "\n",
    "lr = 1e-3\n",
    "model = classify_shapes(n_samples,n_dim).to(device)\n",
    "optimizer = torch.optim.Adam(model.parameters(), lr=lr)\n",
    "loss_fn = torch.nn.CrossEntropyLoss()\n",
    "#optimizer = torch.optim.SGD(model.parameters(), lr=lr, momentum=0.9)"
   ]
  },
  {
   "cell_type": "code",
   "execution_count": 88,
   "metadata": {},
   "outputs": [
    {
     "name": "stdout",
     "output_type": "stream",
     "text": [
      "Epoch 1   |  Train Loss: 0.6970955544856551\n",
      "Epoch 11   |  Train Loss: 0.32345336537731484\n",
      "Epoch 15   |  Train Loss: 0.31384501474757603\n",
      "Total Time: 0.34540606\n"
     ]
    }
   ],
   "source": [
    "epochs = 15\n",
    "\n",
    "training = train( data             = data_train_inv,\n",
    "                  labels           = labels_train,\n",
    "                  model            = model, \n",
    "                  loss_fn          = loss_fn,\n",
    "                  epochs           = epochs,\n",
    "                  optimizer        = optimizer)"
   ]
  },
  {
   "cell_type": "code",
   "execution_count": 43,
   "metadata": {},
   "outputs": [],
   "source": [
    "#model.load_state_dict(torch.load('best_SO4.pth',map_location=torch.device('cpu')))"
   ]
  },
  {
   "cell_type": "markdown",
   "metadata": {},
   "source": [
    "## Invariant: Visualize the History of Training Loss"
   ]
  },
  {
   "cell_type": "code",
   "execution_count": 89,
   "metadata": {},
   "outputs": [
    {
     "data": {
      "image/png": "[encoded data removed]",
      "text/plain": [
       "<Figure size 432x288 with 1 Axes>"
      ]
     },
     "metadata": {
      "needs_background": "light"
     },
     "output_type": "display_data"
    }
   ],
   "source": [
    "train_loss = np.array(training['history']['train_loss'])\n",
    "N=train_loss.shape[0]\n",
    "plt.figure(figsize=(6,4)) #, dpi=100)\n",
    "plt.plot(train_loss[:N], linewidth=1, linestyle='-',  color = 'r', label='Total')\n",
    "plt.legend()\n",
    "\n",
    "plt.xlabel('Epoch')\n",
    "plt.ylabel('Loss')\n",
    "#plt.yscale('log')\n",
    "plt.title('Loss')\n",
    "plt.show()"
   ]
  },
  {
   "cell_type": "markdown",
   "metadata": {},
   "source": [
    "## Invariant: Extract Results"
   ]
  },
  {
   "cell_type": "code",
   "execution_count": 90,
   "metadata": {},
   "outputs": [],
   "source": [
    "model.eval()\n",
    "\n",
    "with torch.no_grad():\n",
    "    classify_new_shapes = model(data_train_inv)"
   ]
  },
  {
   "cell_type": "code",
   "execution_count": 91,
   "metadata": {},
   "outputs": [
    {
     "data": {
      "text/plain": [
       "tensor([[3.8140e-04, 9.9962e-01],\n",
       "        [3.0754e-04, 9.9969e-01],\n",
       "        [9.9946e-01, 5.3912e-04],\n",
       "        [2.3214e-04, 9.9977e-01],\n",
       "        [3.9198e-05, 9.9996e-01]])"
      ]
     },
     "execution_count": 91,
     "metadata": {},
     "output_type": "execute_result"
    }
   ],
   "source": [
    "classify_new_shapes[:5]"
   ]
  },
  {
   "cell_type": "markdown",
   "metadata": {},
   "source": [
    "Accuracy"
   ]
  },
  {
   "cell_type": "code",
   "execution_count": 92,
   "metadata": {},
   "outputs": [
    {
     "data": {
      "text/plain": [
       "tensor(200)"
      ]
     },
     "execution_count": 92,
     "metadata": {},
     "output_type": "execute_result"
    }
   ],
   "source": [
    "(torch.argmax(classify_new_shapes,dim=1)==labels_train).sum()"
   ]
  },
  {
   "cell_type": "markdown",
   "metadata": {},
   "source": [
    "---\n",
    "## Equivariant Network\n",
    "\n",
    "Using $x_i + C(x_i-x_j)$ as features, where $C$ is a scalar.\n",
    "\n",
    "My conception: Can use this at any point in training beause the new output vectors can continue to be manipulated in this way, as e.g. in a linear layer, $x^{l+1} = Wx^l + b$, and the network remains equivariant using the above function consecutively."
   ]
  },
  {
   "cell_type": "code",
   "execution_count": 112,
   "metadata": {},
   "outputs": [],
   "source": [
    "points_in_shape = shapes[0][0].shape[0]\n",
    "# data_train[0].reshape(points_in_shape,2)"
   ]
  },
  {
   "cell_type": "code",
   "execution_count": 113,
   "metadata": {},
   "outputs": [
    {
     "name": "stderr",
     "output_type": "stream",
     "text": [
      "200it [00:03, 61.64it/s]\n"
     ]
    }
   ],
   "source": [
    "C=1\n",
    "n_distances = int(points_in_shape*(points_in_shape-1)/2)\n",
    "combinations = itertools.combinations(np.arange(start=0,stop=points_in_shape),r=2)\n",
    "data_equivariant = torch.zeros(data_train.shape[0],n_distances*2)\n",
    "for i,shape in tqdm(enumerate(shapes)):\n",
    "    shape_tensor = torch.tensor(copy.deepcopy(shape[0]))\n",
    "    indx = 0\n",
    "    for two_points in itertools.combinations(np.arange(start=0,stop=points_in_shape),r=2):\n",
    "        fst_indx = two_points[0]\n",
    "        scd_indx = two_points[1]\n",
    "        data_equivariant[i,indx:int(indx+2)] = (shape_tensor[fst_indx,:]+C*(shape_tensor[fst_indx,:]-shape_tensor[scd_indx,:]))\n",
    "        indx+=2"
   ]
  },
  {
   "cell_type": "code",
   "execution_count": 114,
   "metadata": {},
   "outputs": [
    {
     "data": {
      "text/plain": [
       "torch.Size([200, 600])"
      ]
     },
     "execution_count": 114,
     "metadata": {},
     "output_type": "execute_result"
    }
   ],
   "source": [
    "data_equivariant.shape"
   ]
  },
  {
   "cell_type": "code",
   "execution_count": 115,
   "metadata": {},
   "outputs": [
    {
     "data": {
      "text/plain": [
       "tensor([1.2722, 1.9293])"
      ]
     },
     "execution_count": 115,
     "metadata": {},
     "output_type": "execute_result"
    }
   ],
   "source": [
    "data_equivariant[0,:2]"
   ]
  },
  {
   "cell_type": "code",
   "execution_count": 116,
   "metadata": {},
   "outputs": [],
   "source": [
    "test_check = data_train[0].reshape(points_in_shape,2)"
   ]
  },
  {
   "cell_type": "code",
   "execution_count": 117,
   "metadata": {},
   "outputs": [],
   "source": [
    "# test_check"
   ]
  },
  {
   "cell_type": "code",
   "execution_count": 118,
   "metadata": {},
   "outputs": [
    {
     "data": {
      "text/plain": [
       "tensor([1.2722, 1.9293])"
      ]
     },
     "execution_count": 118,
     "metadata": {},
     "output_type": "execute_result"
    }
   ],
   "source": [
    "(test_check[0,:]+C*(test_check[0,:]-test_check[1,:]))"
   ]
  },
  {
   "cell_type": "code",
   "execution_count": 119,
   "metadata": {},
   "outputs": [
    {
     "data": {
      "text/plain": [
       "tensor(2.7155)"
      ]
     },
     "execution_count": 119,
     "metadata": {},
     "output_type": "execute_result"
    }
   ],
   "source": [
    "data_equivariant[1,0]"
   ]
  },
  {
   "cell_type": "markdown",
   "metadata": {},
   "source": [
    "## Equivariant: Set Hyperparameters and Train the Model"
   ]
  },
  {
   "cell_type": "code",
   "execution_count": 120,
   "metadata": {},
   "outputs": [],
   "source": [
    "torch.manual_seed(0)\n",
    "n_samples  = data.shape[0] # sample size, same as before\n",
    "n_dim      = data_equivariant.shape[1]   # dimension = coordinate points*2 - label column\n",
    "\n",
    "data_train_equi = copy.deepcopy(data_equivariant)\n",
    "# labels_train = copy.deepcopy(data[:,n_dim]) # same as before\n",
    "\n",
    "lr = 1e-3\n",
    "model = classify_shapes(n_samples,n_dim).to(device)\n",
    "optimizer = torch.optim.Adam(model.parameters(), lr=lr)\n",
    "loss_fn = torch.nn.CrossEntropyLoss()\n",
    "#optimizer = torch.optim.SGD(model.parameters(), lr=lr, momentum=0.9)"
   ]
  },
  {
   "cell_type": "code",
   "execution_count": 121,
   "metadata": {},
   "outputs": [
    {
     "name": "stdout",
     "output_type": "stream",
     "text": [
      "Epoch 1   |  Train Loss: 0.6979627015745483\n",
      "Epoch 11   |  Train Loss: 0.33129550268261104\n",
      "Epoch 15   |  Train Loss: 0.3179768046797371\n",
      "Total Time: 0.53044510\n"
     ]
    }
   ],
   "source": [
    "epochs = 15\n",
    "\n",
    "training = train( data             = data_train_equi,\n",
    "                  labels           = labels_train,\n",
    "                  model            = model, \n",
    "                  loss_fn          = loss_fn,\n",
    "                  epochs           = epochs,\n",
    "                  optimizer        = optimizer)"
   ]
  },
  {
   "cell_type": "code",
   "execution_count": 122,
   "metadata": {},
   "outputs": [],
   "source": [
    "#model.load_state_dict(torch.load('best_SO4.pth',map_location=torch.device('cpu')))"
   ]
  },
  {
   "cell_type": "markdown",
   "metadata": {},
   "source": [
    "## Equivariant: Visualize the History of Training Loss"
   ]
  },
  {
   "cell_type": "code",
   "execution_count": 123,
   "metadata": {},
   "outputs": [
    {
     "data": {
      "image/png": "[encoded data removed]",
      "text/plain": [
       "<Figure size 432x288 with 1 Axes>"
      ]
     },
     "metadata": {
      "needs_background": "light"
     },
     "output_type": "display_data"
    }
   ],
   "source": [
    "train_loss = np.array(training['history']['train_loss'])\n",
    "N=train_loss.shape[0]\n",
    "plt.figure(figsize=(6,4)) #, dpi=100)\n",
    "plt.plot(train_loss[:N], linewidth=1, linestyle='-',  color = 'r', label='Total')\n",
    "plt.legend()\n",
    "\n",
    "plt.xlabel('Epoch')\n",
    "plt.ylabel('Loss')\n",
    "#plt.yscale('log')\n",
    "plt.title('Loss')\n",
    "plt.show()"
   ]
  },
  {
   "cell_type": "markdown",
   "metadata": {},
   "source": [
    "## Equivariant: Extract Results"
   ]
  },
  {
   "cell_type": "code",
   "execution_count": 124,
   "metadata": {},
   "outputs": [],
   "source": [
    "model.eval()\n",
    "\n",
    "with torch.no_grad():\n",
    "    classify_new_shapes = model(data_train_equi)"
   ]
  },
  {
   "cell_type": "code",
   "execution_count": 125,
   "metadata": {},
   "outputs": [
    {
     "data": {
      "text/plain": [
       "tensor([[1.2234e-04, 9.9988e-01],\n",
       "        [6.5383e-04, 9.9935e-01],\n",
       "        [9.9998e-01, 2.3215e-05],\n",
       "        [2.8661e-05, 9.9997e-01],\n",
       "        [1.2416e-04, 9.9988e-01]])"
      ]
     },
     "execution_count": 125,
     "metadata": {},
     "output_type": "execute_result"
    }
   ],
   "source": [
    "classify_new_shapes[:5]"
   ]
  },
  {
   "cell_type": "markdown",
   "metadata": {},
   "source": [
    "Accuracy"
   ]
  },
  {
   "cell_type": "code",
   "execution_count": 126,
   "metadata": {},
   "outputs": [
    {
     "data": {
      "text/plain": [
       "tensor(200)"
      ]
     },
     "execution_count": 126,
     "metadata": {},
     "output_type": "execute_result"
    }
   ],
   "source": [
    "(torch.argmax(classify_new_shapes,dim=1)==labels_train).sum()"
   ]
  },
  {
   "cell_type": "code",
   "execution_count": 102,
   "metadata": {},
   "outputs": [
    {
     "data": {
      "text/plain": [
       "8.717247514467548e-06"
      ]
     },
     "execution_count": 102,
     "metadata": {},
     "output_type": "execute_result"
    }
   ],
   "source": [
    "# Trying to determine minimum loss possible\n",
    "(-np.log(np.max(classify_new_shapes.detach().numpy(),axis=0))).sum()"
   ]
  }
 ],
 "metadata": {
  "kernelspec": {
   "display_name": "Python 3",
   "language": "python",
   "name": "python3"
  },
  "language_info": {
   "codemirror_mode": {
    "name": "ipython",
    "version": 3
   },
   "file_extension": ".py",
   "mimetype": "text/x-python",
   "name": "python",
   "nbconvert_exporter": "python",
   "pygments_lexer": "ipython3",
   "version": "3.8.5"
  }
 },
 "nbformat": 4,
 "nbformat_minor": 4
}
