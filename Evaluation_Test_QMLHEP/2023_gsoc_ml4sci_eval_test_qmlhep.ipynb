{
 "cells": [
  {
   "cell_type": "markdown",
   "metadata": {},
   "source": [
    "# Evaluation Test: QMLHEP 2023 Google Summer of Code (GSoC) Machine Learning for Science (ML4Sci) Tasks\n",
    "\n",
    "Author: Roy T. Forestano\n",
    "\n",
    "Date: 3 April 2023"
   ]
  },
  {
   "cell_type": "markdown",
   "metadata": {},
   "source": [
    "# Task I: Quantum Computing Part\n",
    "\n",
    "Author: Roy T. Forestano\n",
    "\n",
    "Date: 3 April 2023\n",
    "\n",
    "\n",
    "1) Implement a simple quantum operation with Cirq or Pennylane:\n",
    "\n",
    "1. (a) With 5 qubits \n",
    "2. (b) Apply Hadamard operation on every qubit \n",
    "3. (c) Apply CNOT operation on (0, 1), (1,2), (2,3), (3,4) \n",
    "4. (d) SWAP (0, 4) \n",
    "5. (e) Rotate X with pi/2 on any qubit \n",
    "6. (f) Plot the circuit \n",
    "\n",
    "\n",
    "2) Implement a second circuit with a framework of your choice:\n",
    "\n",
    "1. (a) Apply a Hadmard gate to the first qubit\n",
    "2. (b) rotate the second qubit by pi/3 around X\n",
    "3. (c) Apply Hadamard gate to the third and fourth qubit\n",
    "4. (d) Perform a swap test between the states of the first and second qubit $\\vert q_1 q_2 \\rangle$ and the third and fourth qubit $\\vert q_3 q_4 \\rangle$\n",
    "\n",
    "Note: we must add a return function, such as the expectation value of a chosen operator, to see the results. Here, we will use the Pauli operators acting on the final state of one qubit to demonstrate."
   ]
  },
  {
   "cell_type": "markdown",
   "metadata": {},
   "source": [
    "## Import Packages and Device"
   ]
  },
  {
   "cell_type": "code",
   "execution_count": 2,
   "metadata": {},
   "outputs": [],
   "source": [
    "import pennylane as qml\n",
    "from pennylane import numpy as np\n",
    "import matplotlib.pyplot as plt"
   ]
  },
  {
   "cell_type": "markdown",
   "metadata": {},
   "source": [
    "## Exercise 1: Using Pennylane"
   ]
  },
  {
   "cell_type": "code",
   "execution_count": 3,
   "metadata": {},
   "outputs": [],
   "source": [
    "n=5 # (a) number of wires (or qubits)\n",
    "dev1 = qml.device(\"default.qubit\", wires=n) "
   ]
  },
  {
   "cell_type": "markdown",
   "metadata": {},
   "source": [
    "## Construct the QNode"
   ]
  },
  {
   "cell_type": "markdown",
   "metadata": {},
   "source": [
    "Convert the quantum function into a QNode running on device dev1 by applying the qnode() decorator."
   ]
  },
  {
   "cell_type": "code",
   "execution_count": 4,
   "metadata": {},
   "outputs": [],
   "source": [
    "@qml.qnode(dev1)\n",
    "def circuit(params):\n",
    "    for i in range(n): # (b) Hadamard operation on every qubit\n",
    "        qml.Hadamard(wires=i)\n",
    "    for i in range(n-1):  # (c) CNOT operation on (0, 1), (1,2), (2,3), (3,4) \n",
    "        qml.CNOT(wires=[i,i+1])\n",
    "    qml.SWAP(wires=[0,4])   # (d) SWAP (0, 4) \n",
    "    qml.RX(params[0], wires=3)  # (e) Rotate X with pi/2 on any qubit \n",
    "    return qml.expval(qml.PauliX(3))"
   ]
  },
  {
   "cell_type": "markdown",
   "metadata": {},
   "source": [
    "## Visualize Output and Circuit"
   ]
  },
  {
   "cell_type": "code",
   "execution_count": 5,
   "metadata": {},
   "outputs": [
    {
     "name": "stdout",
     "output_type": "stream",
     "text": [
      "0.9999999999999991\n"
     ]
    }
   ],
   "source": [
    "params = [np.pi/2]\n",
    "print(circuit(params))"
   ]
  },
  {
   "cell_type": "code",
   "execution_count": 6,
   "metadata": {},
   "outputs": [
    {
     "name": "stdout",
     "output_type": "stream",
     "text": [
      "0: ──H─╭●──────────╭SWAP───────────┤     \n",
      "1: ──H─╰X─╭●───────│───────────────┤     \n",
      "2: ──H────╰X─╭●────│───────────────┤     \n",
      "3: ──H───────╰X─╭●─│──────RX(1.57)─┤  <X>\n",
      "4: ──H──────────╰X─╰SWAP───────────┤     \n"
     ]
    }
   ],
   "source": [
    "# (f) Plot the circuit\n",
    "print(qml.draw(circuit)(params))\n",
    "#dev1._circuit.draw(output=\"mpl\")"
   ]
  },
  {
   "cell_type": "markdown",
   "metadata": {},
   "source": [
    "---\n",
    "## Exercise 2: Using Pennylane"
   ]
  },
  {
   "cell_type": "code",
   "execution_count": 7,
   "metadata": {},
   "outputs": [],
   "source": [
    "n2=4 # number of wires (or qubits)\n",
    "dev2 = qml.device(\"default.qubit\", wires=n2) \n",
    "\n",
    "@qml.qnode(dev2)\n",
    "def circuit2(params):\n",
    "    qml.Hadamard(wires=0) # (a) Hadmard gate to the first qubit\n",
    "    qml.RX(params[0], wires=1) # (b) rotate the second qubit by pi/3 around X\n",
    "    for i in range(n2-2,n2,1):  # (c) Hadamard gate to the third and fourth qubit \n",
    "        qml.Hadamard(wires=i)\n",
    "    for i in range(0,2):\n",
    "        qml.SWAP(wires=[i,i+2])   # (d) swap test between the states of the first and second qubit $\\vert q_1 q_2 \\rangle$ and the third and fourth qubit $\\vert q_3 q_4 \\rangle$\n",
    "    return qml.expval(qml.PauliZ(3))"
   ]
  },
  {
   "cell_type": "code",
   "execution_count": 8,
   "metadata": {},
   "outputs": [
    {
     "name": "stdout",
     "output_type": "stream",
     "text": [
      "0.4999999999999998\n"
     ]
    }
   ],
   "source": [
    "# Evaluate circuit\n",
    "params2 = [np.pi/3]\n",
    "print(circuit2(params2))"
   ]
  },
  {
   "cell_type": "code",
   "execution_count": 9,
   "metadata": {},
   "outputs": [
    {
     "name": "stdout",
     "output_type": "stream",
     "text": [
      "0: ──H────────╭SWAP───────┤     \n",
      "1: ──RX(1.05)─│─────╭SWAP─┤     \n",
      "2: ──H────────╰SWAP─│─────┤     \n",
      "3: ──H──────────────╰SWAP─┤  <Z>\n"
     ]
    }
   ],
   "source": [
    "# Plot the circuit\n",
    "print(qml.draw(circuit2)(params2))"
   ]
  },
  {
   "cell_type": "markdown",
   "metadata": {},
   "source": [
    "---"
   ]
  },
  {
   "cell_type": "markdown",
   "metadata": {},
   "source": [
    "# Task II:  Classical Graph Neural Networks (GNN) \n",
    "\n",
    "Classifying Pythia8 Quark and Gluon Jets Using a Graph Convolutional Network (GCN) and Graph Convolutional Attention Network (GCAT)\n",
    "\n",
    "Author: Roy T. Forestano\n",
    "\n",
    "Date: 3 April 2023"
   ]
  },
  {
   "cell_type": "markdown",
   "metadata": {},
   "source": [
    "$\\bf\\text{Database Information: Pythia8 Quark and Gluon Jets for Energy Flow}$\n",
    "\n",
    "Two datasets of quark and gluon jets generated with Pythia 8, one with all kinematically realizable quark jets and one that excludes charm and bottom quark jets (at the level of the hard process). The one without c and b jets was originally used in Energy Flow Networks: Deep Sets for Particle Jets. Generation parameters are listed below:\n",
    "\n",
    "Pythia 8.226 (without bc jets), Pythia 8.235 (with bc jets), s√=14TeV\n",
    "Quarks from WeakBosonAndParton:qg2gmZq, gluons from WeakBosonAndParton:qqbar2gmZg with the Z decaying to neutrinos\n",
    "FastJet 3.3.0, anti-ki jets with R=0.4\n",
    "pjetT∈[500,550]GeV,|yjet|<1.7\n",
    "There are 20 files in each dataset, each in compressed NumPy format. Files including charm and bottom jets have 'withbc' in their filename. There are two arrays in each file\n",
    "\n",
    "X: (100000,M,4), exactly 50k quark and 50k gluon jets, randomly sorted, where M is the max multiplicity of the jets in that file (other jets have been padded with zero-particles), and the features of each particle are its pt, rapidity, azimuthal angle, and pdgid.\n",
    "\n",
    "\n",
    "y: (100000,), an array of labels for the jets where gluon is 0 and quark is 1.\n",
    "\n",
    "[1] P. T. Komiske, E. M. Metodiev, J. Thaler, Energy Flow Networks: Deep Sets for Particle Jets, JHEP 01 (2019) 121, arXiv:1810.05165.\n",
    "\n",
    "[2] Petar Veliˇckovi ́c, Guillem Cucurull, Arantxa Casanova, Adriana Romero, Pietro Lio and Yoshua Bengio. Graph attention networks. 2018"
   ]
  },
  {
   "cell_type": "markdown",
   "metadata": {},
   "source": [
    "Other References:\n",
    "\n",
    "1. Multiplicity of Jets: https://link.springer.com/article/10.1134/S1063778818110236\n",
    "2. GAT: https://github.com/Diego999/pyGAT"
   ]
  },
  {
   "cell_type": "code",
   "execution_count": 10,
   "metadata": {},
   "outputs": [
    {
     "data": {
      "text/plain": [
       "<torch._C.Generator at 0x7f9acce92790>"
      ]
     },
     "execution_count": 10,
     "metadata": {},
     "output_type": "execute_result"
    }
   ],
   "source": [
    "import numpy as np\n",
    "from numpy.random import default_rng\n",
    "import pandas as pd\n",
    "import matplotlib.pyplot as plt\n",
    "from tqdm import tqdm\n",
    "from time import time\n",
    "import os\n",
    "import copy\n",
    "from particle import Particle\n",
    "from sklearn.model_selection import train_test_split\n",
    "\n",
    "import torch\n",
    "from torch import nn as nn\n",
    "#from torch.utils.data import TensorDataset, DataLoader, Dataset\n",
    "from torchvision import datasets\n",
    "from torchvision.transforms import ToTensor\n",
    "from torch.nn import Linear\n",
    "import torch.nn.functional as F\n",
    "from torch_geometric.data import Data\n",
    "from torch_geometric.loader import DataLoader\n",
    "from torch_geometric.data import Dataset, InMemoryDataset, download_url\n",
    "from torch_geometric.nn import GCNConv\n",
    "from torch_geometric.nn import GATConv\n",
    "from torch_geometric.nn import Sequential\n",
    "#from torch_geometric import nn\n",
    "from torch_geometric.nn import global_mean_pool\n",
    "\n",
    "torch.set_default_dtype(torch.float64)\n",
    "np.random.seed(0)\n",
    "torch.manual_seed(0)"
   ]
  },
  {
   "cell_type": "code",
   "execution_count": 11,
   "metadata": {},
   "outputs": [],
   "source": [
    "path = 'Data_wo_bc/'"
   ]
  },
  {
   "cell_type": "code",
   "execution_count": 12,
   "metadata": {},
   "outputs": [],
   "source": [
    "# path = 'Data_wo_bc/'\n",
    "# files = []\n",
    "# for i in range(20):\n",
    "#     if i<10:\n",
    "#         files.append(np.load(path+f'QG_jets_0{i}.npz', allow_pickle=True))\n",
    "#     else:\n",
    "#         files.append(np.load(path+f'QG_jets_{str(i)[0]+str(i)[1]}.npz', allow_pickle=True))"
   ]
  },
  {
   "cell_type": "code",
   "execution_count": 13,
   "metadata": {},
   "outputs": [],
   "source": [
    "# len(files)"
   ]
  },
  {
   "cell_type": "code",
   "execution_count": 14,
   "metadata": {},
   "outputs": [],
   "source": [
    "# M=np.zeros(len(files),)\n",
    "# for i,file in enumerate(files):\n",
    "#     lst = file.files\n",
    "#     for j,item in enumerate(lst):\n",
    "#         if j==0:\n",
    "#             M[i] = file[item][0,:,0].shape[0]"
   ]
  },
  {
   "cell_type": "code",
   "execution_count": 15,
   "metadata": {},
   "outputs": [],
   "source": [
    "# max_multiplicity = int(M.max())"
   ]
  },
  {
   "cell_type": "code",
   "execution_count": 16,
   "metadata": {},
   "outputs": [],
   "source": [
    "# #names = []\n",
    "# #data = []\n",
    "# for i,file in enumerate(files):\n",
    "#     lst = file.files\n",
    "#     print(f'File: {i}')\n",
    "#     for j,item in enumerate(lst):\n",
    "#         #names.append(item)\n",
    "#         #data.append(file[item])\n",
    "#         if j==0:\n",
    "#             if i==0:\n",
    "#                 x_data = np.pad(array=file[item],pad_width=((0,0),(0,int(max_multiplicity-file[item].shape[1])),(0,0)), mode='constant', constant_values=((None,None),(None,0.),(None,None)))\n",
    "#                 print(x_data.shape)\n",
    "#             else:\n",
    "#                 x_new = np.pad(array=file[item],pad_width=((0,0),(0,int(max_multiplicity-file[item].shape[1])),(0,0)), mode='constant', constant_values=((None,None),(None,0.),(None,None)))\n",
    "#                 print(x_new.shape)\n",
    "#                 x_data = np.vstack([x_data,x_new])\n",
    "#             print(x_data.shape)\n",
    "#         elif j==1:\n",
    "#             if i==0:\n",
    "#                 y_data = file[item]\n",
    "#             else:\n",
    "#                 y_data = np.vstack([y_data,file[item]])\n",
    "#             #names.append(item)\n",
    "#             #print(files[item].shape)#.item()['0'].shape)\n",
    "#             #data.append(files[item])"
   ]
  },
  {
   "cell_type": "code",
   "execution_count": 17,
   "metadata": {},
   "outputs": [],
   "source": [
    "#names"
   ]
  },
  {
   "cell_type": "code",
   "execution_count": 18,
   "metadata": {},
   "outputs": [],
   "source": [
    "# x_data[:,:,:].shape"
   ]
  },
  {
   "cell_type": "code",
   "execution_count": 19,
   "metadata": {},
   "outputs": [],
   "source": [
    "# np.save(path+'appended_data.npy',x_data)"
   ]
  },
  {
   "cell_type": "code",
   "execution_count": 20,
   "metadata": {},
   "outputs": [],
   "source": [
    "# np.save(path+'appended_labels.npy',y_data)"
   ]
  },
  {
   "cell_type": "code",
   "execution_count": 21,
   "metadata": {},
   "outputs": [],
   "source": [
    "x_data = np.load(path+'appended_data.npy')\n",
    "y_data = np.load(path+'appended_labels.npy').reshape(x_data.shape[0],)"
   ]
  },
  {
   "cell_type": "code",
   "execution_count": 22,
   "metadata": {},
   "outputs": [
    {
     "data": {
      "text/plain": [
       "(2000000, 148, 4)"
      ]
     },
     "execution_count": 22,
     "metadata": {},
     "output_type": "execute_result"
    }
   ],
   "source": [
    "x_data[:,:,:].shape"
   ]
  },
  {
   "cell_type": "code",
   "execution_count": 23,
   "metadata": {},
   "outputs": [
    {
     "data": {
      "text/plain": [
       "(2000000,)"
      ]
     },
     "execution_count": 23,
     "metadata": {},
     "output_type": "execute_result"
    }
   ],
   "source": [
    "y_data.shape"
   ]
  },
  {
   "cell_type": "code",
   "execution_count": 24,
   "metadata": {},
   "outputs": [],
   "source": [
    "#x = data[0]; y = data[1]"
   ]
  },
  {
   "cell_type": "code",
   "execution_count": 25,
   "metadata": {},
   "outputs": [],
   "source": [
    "Ntry = 10000"
   ]
  },
  {
   "cell_type": "code",
   "execution_count": 26,
   "metadata": {},
   "outputs": [
    {
     "data": {
      "text/plain": [
       "<matplotlib.colorbar.Colorbar at 0x7f9ab6880f70>"
      ]
     },
     "execution_count": 26,
     "metadata": {},
     "output_type": "execute_result"
    },
    {
     "data": {
      "image/png": "[encoded data removed]",
      "text/plain": [
       "<Figure size 360x216 with 2 Axes>"
      ]
     },
     "metadata": {
      "needs_background": "light"
     },
     "output_type": "display_data"
    }
   ],
   "source": [
    "plt.figure(figsize=(5,3))\n",
    "plt.scatter(x_data[:Ntry,0,0],x_data[:Ntry,0,1],s=1,c=y_data[:Ntry],cmap='RdBu')#,vmin=0.,vmax=1.)\n",
    "plt.scatter(-x_data[:Ntry,0,0],x_data[:Ntry,0,1],s=1,c=y_data[:Ntry],cmap='RdBu')#,vmin=0.,vmax=1.)\n",
    "plt.xlabel('$p_T$')\n",
    "plt.ylabel('$\\eta$')\n",
    "plt.xlim(-5,5)\n",
    "plt.title('')\n",
    "plt.colorbar(label='Class')"
   ]
  },
  {
   "cell_type": "code",
   "execution_count": 27,
   "metadata": {},
   "outputs": [],
   "source": [
    "unique_particles = np.unique(x_data[:Ntry,:,3])"
   ]
  },
  {
   "cell_type": "code",
   "execution_count": 28,
   "metadata": {},
   "outputs": [
    {
     "data": {
      "text/plain": [
       "array([-2212., -2112.,  -321.,  -211.,   -13.,   -11.,     0.,    11.,\n",
       "          13.,    22.,   130.,   211.,   321.,  2112.,  2212.])"
      ]
     },
     "execution_count": 28,
     "metadata": {},
     "output_type": "execute_result"
    }
   ],
   "source": [
    "unique_particles"
   ]
  },
  {
   "cell_type": "code",
   "execution_count": 29,
   "metadata": {},
   "outputs": [
    {
     "name": "stdout",
     "output_type": "stream",
     "text": [
      "0 -2212.0 p~ 0.93827208816\n",
      "1 -2112.0 n~ 0.9395654204999999\n",
      "2 -321.0 K- 0.49367700000000003\n",
      "3 -211.0 pi- 0.13957039000000002\n",
      "4 -13.0 mu+ 0.1056583755\n",
      "5 -11.0 e+ 0.0005109989499999999\n",
      "7 11.0 e- 0.0005109989499999999\n",
      "8 13.0 mu- 0.1056583755\n",
      "9 22.0 gamma 0.0\n",
      "10 130.0 K(L)0 0.49761099999999997\n",
      "11 211.0 pi+ 0.13957039000000002\n",
      "12 321.0 K+ 0.49367700000000003\n",
      "13 2112.0 n 0.9395654204999999\n",
      "14 2212.0 p 0.93827208816\n"
     ]
    }
   ],
   "source": [
    "for i,particle in enumerate(unique_particles):\n",
    "    if particle!=0:\n",
    "        symbol =Particle.from_pdgid(particle).name\n",
    "        mass = Particle.from_pdgid(particle).mass/1000\n",
    "        print(i,particle,symbol,mass)"
   ]
  },
  {
   "cell_type": "code",
   "execution_count": 30,
   "metadata": {},
   "outputs": [],
   "source": [
    "#np.save('masses.npy',masses)"
   ]
  },
  {
   "cell_type": "markdown",
   "metadata": {},
   "source": [
    "## Preprocess Data\n",
    "\n",
    "1. We will utlize a package called particle in order to find the particle masses based on their pdgid's.\n",
    "2. We will take the given features $p_T,y,\\phi$ to create new physically realizable features including the \n",
    "\n",
    "$\\bf\\text{Transverse Mass Per Multiplicity ($m_{T,ij}$)}$\n",
    "$$m_{T,ij} = \\sqrt{m_{ij}^2 + p_{T,ij}^2}$$\n",
    "$\\bf\\text{Energy Per Multiplicity ($E_{ij}$)}$\n",
    "$$E_{ij} = m_{T,ij} \\text{cosh} y_{ij}$$\n",
    "$\\bf\\text{Energy Per Jet ($E_i$)}$\n",
    "$$E_i = \\sum_j E_{ij}$$\n",
    "$\\bf\\text{Kinematic Momenta Components Per Multiplicity ($\\vec{p}_{ij} = (p_{x,ij},p_{y,ij},p_{z,ij})$)} \\equiv (N,M,3)$ \n",
    "$$p_{x,ij} = p_{T,ij} \\text{cos} \\phi$$\n",
    "$$p_{y,ij} = p_{T,ij} \\text{sin} \\phi$$\n",
    "$$p_{z,ij} = m_{T,ij} \\text{sinh} y_{ij}$$\n",
    "$\\bf\\text{Kinematic Momenta Components Per Jet ($\\vec{p}_{i} = (p_{x,i},p_{y,i},p_{z,i})$)} \\equiv (N,3)$ \n",
    "$$\\vec{p}_{i} = \\sum_j \\vec{p}_{ij}$$\n",
    "$\\bf\\text{Transverse Momenta Per Jet ($p_{T,i} = |(p_{x,i},p_{y,i})|$)} \\equiv (N,1)$ \n",
    "$$\\vec{p}_{i} = \\sqrt{ \\sum_{x,y}\\left(\\sum_j \\vec{p}_{ij} \\right)^2}$$\n",
    "$\\bf\\text{Mass Per Jet ($m_{i}$)} \\equiv (N,1)$ \n",
    "$$m_{i} = \\sqrt{ (E_i - \\vec{p}_{i} \\cdot \\vec{p}_{i} )^2}$$\n",
    "$\\bf\\text{Rapidity Per Jet ($y_{i}$)} \\equiv (N,1)$ \n",
    "$$y_{i} =\\frac{1}{2}\\ln \\left( \\frac{E_i + p_{z,i}}{E_i - p_{z,i}} \\right)$$\n",
    "2. Make Edges: Connect three nearest neighbors via invariant mass between particles \n",
    "\n",
    "$$m_{ij} = \\left( E_{i} - E_{j} \\right)^2 - \\left( \\vec{p}_{i} - \\vec{p}_{j} \\right)^2$$\n",
    "\n",
    "Add masses, energy, and three momentum components to node features."
   ]
  },
  {
   "cell_type": "code",
   "execution_count": 31,
   "metadata": {},
   "outputs": [],
   "source": [
    "# masses = torch.tensor(np.load('masses.npy'))"
   ]
  },
  {
   "cell_type": "code",
   "execution_count": 32,
   "metadata": {},
   "outputs": [
    {
     "name": "stdout",
     "output_type": "stream",
     "text": [
      "--- Finding All Unique Particles ---\n",
      "\n",
      "--- Inserting Masses ---\n"
     ]
    },
    {
     "name": "stderr",
     "output_type": "stream",
     "text": [
      "15it [00:00, 66.28it/s]\n"
     ]
    },
    {
     "name": "stdout",
     "output_type": "stream",
     "text": [
      "\n",
      "--- Calculating Momenta and Energies ---\n"
     ]
    }
   ],
   "source": [
    "print('--- Finding All Unique Particles ---')\n",
    "unique_particles = np.unique(x_data[:Ntry,:,3])\n",
    "print()\n",
    "print('--- Inserting Masses ---')\n",
    "masses = np.zeros((x_data[:Ntry].shape[0],x_data[:Ntry].shape[1]))\n",
    "for i,particle in tqdm(enumerate(unique_particles)):\n",
    "    if particle!=0:\n",
    "        mass = Particle.from_pdgid(particle).mass/1000\n",
    "        inds = np.where(particle==x_data[:Ntry,:,3])\n",
    "        masses[inds]=mass # GeV\n",
    "print()\n",
    "print('--- Calculating Momenta and Energies ---')\n",
    "#theta = torch.arctan(torch.exp(-X[:,:,1]))*2 # polar angle\n",
    "pt        = x_data[:Ntry,:,0]     # transverse momentum\n",
    "rapidity  = x_data[:Ntry,:,1]     # rapidity\n",
    "phi       = x_data[:Ntry,:,2]     # azimuthal angle\n",
    "\n",
    "mt        = np.sqrt(pt**2+masses**2) # Transverse mass\n",
    "energy    = mt*np.cosh(rapidity) # Energy per multiplicity bin\n",
    "e_per_jet = energy.sum(axis=1)  # total energy per jet summed across multiplicity bins\n",
    "\n",
    "px = pt*np.cos(phi)  # momentum in x\n",
    "py = pt*np.sin(phi)  # momentum in y\n",
    "pz = mt*np.sinh(rapidity)  # momentum in z\n",
    "\n",
    "# three momentum\n",
    "p = np.stack(( px[:,:,None],  \n",
    "                 py[:,:,None],\n",
    "                 pz[:,:,None]), axis=2 )\n",
    "\n",
    "p_per_jet        = np.sum(p,axis=1)  # total componet momentum per jet\n",
    "#pt_per_Mbin      = np.sqrt(np.sum(p_per_jet[:,:2]**2, axis=1))  # transverse momentum per jet\n",
    "#mass_per_jet     = np.sqrt(e_per_jet**2-np.sum(p_per_jet**2,axis=1)) # mass per jet\n",
    "#rapidity_per_jet = np.log( (e_per_jet+p_per_jet[:,2])/(e_per_jet-p_per_jet[:,2]) )/2  # rapidity per jet from analytical formula\n",
    "#end_multiplicity_indx_per_jet = np.sum(pt!=0,axis=1).int() # see where the jet (graph) ends"
   ]
  },
  {
   "cell_type": "code",
   "execution_count": 33,
   "metadata": {},
   "outputs": [
    {
     "data": {
      "image/png": "[encoded data removed]",
      "text/plain": [
       "<Figure size 576x432 with 1 Axes>"
      ]
     },
     "metadata": {
      "needs_background": "light"
     },
     "output_type": "display_data"
    }
   ],
   "source": [
    "plt.figure(figsize=(8,6))\n",
    "plt.hist(e_per_jet, color='b', alpha=0.3, bins=100, label='Energy (GeV)')\n",
    "plt.hist(np.sqrt(np.sum((p_per_jet)**2,axis=1)), color='r', alpha=0.3, bins=100,label='Momentum (GeV)')\n",
    "plt.title('Distributions of Total Energy and Momenta Per Jet')\n",
    "plt.xlabel('Energy or Momentum Bin (GeV)')\n",
    "plt.ylabel('Count')\n",
    "plt.legend()\n",
    "plt.show()"
   ]
  },
  {
   "cell_type": "code",
   "execution_count": 34,
   "metadata": {},
   "outputs": [],
   "source": [
    "def preprocess(x_data,y_data): #,masses):\n",
    "    print('--- Finding All Unique Particles ---')\n",
    "    unique_particles = np.unique(x_data[:,:,3])\n",
    "    x_data = torch.tensor(x_data)\n",
    "    y_data = torch.tensor(y_data)\n",
    "    print()\n",
    "    print('--- Inserting Masses ---')\n",
    "    masses = torch.zeros((x_data.shape[0],x_data.shape[1]))\n",
    "    for i,particle in tqdm(enumerate(unique_particles)):\n",
    "        if particle!=0:\n",
    "            mass = Particle.from_pdgid(particle).mass/1000\n",
    "            inds = torch.where(particle==x_data[:,:,3])\n",
    "            masses[inds]=mass # GeV\n",
    "    print()\n",
    "    print('--- Calculating Momenta and Energies ---')\n",
    "    #theta = torch.arctan(torch.exp(-X[:,:,1]))*2 # polar angle\n",
    "    pt        = x_data[:,:,0]     # transverse momentum\n",
    "    rapidity  = x_data[:,:,1]     # rapidity\n",
    "    phi       = x_data[:,:,2]     # azimuthal angle\n",
    "    \n",
    "    mt        = (pt**2+masses**2).sqrt() # Transverse mass\n",
    "    energy    = mt*torch.cosh(rapidity) # Energy per multiplicity bin\n",
    "    e_per_jet = energy.sum(axis=1)  # total energy per jet summed across multiplicity bins\n",
    "\n",
    "    px = pt*torch.cos(phi)  # momentum in x\n",
    "    py = pt*torch.sin(phi)  # momentum in y\n",
    "    pz = mt*torch.sinh(rapidity)  # momentum in z\n",
    "    \n",
    "    # three momentum\n",
    "    p  = torch.cat(( px[:,:,None],  \n",
    "                     py[:,:,None],\n",
    "                     pz[:,:,None]), dim=2 )\n",
    "\n",
    "    p_per_jet        = (p).sum(axis=1)  # total componet momentum per jet\n",
    "    pt_per_Mbin      = (p_per_jet[:,:2]**2).sum(axis=1).sqrt()  # transverse momentum per jet\n",
    "    mass_per_jet     = (e_per_jet**2-(p_per_jet**2).sum(axis=1)).sqrt() # mass per jet\n",
    "    rapidity_per_jet = torch.log( (e_per_jet+p_per_jet[:,2])/(e_per_jet-p_per_jet[:,2]) )/2  # rapidity per jet from analytical formula\n",
    "    end_multiplicity_indx_per_jet = (pt!=0).sum(axis=1).int() # see where the jet (graph) ends\n",
    "    \n",
    "    x_data = torch.cat( ( x_data[:,:,:2],\n",
    "                          x_data[:,:,4:],\n",
    "                          masses[:,:,None],\n",
    "                          energy[:,:,None],\n",
    "                          p), dim=2)\n",
    "    \n",
    "    x_data_max = (x_data.max(dim=1).values).max(dim=0).values\n",
    "    x_data = x_data/x_data_max\n",
    "\n",
    "    print()\n",
    "    print('--- Calculating Edge Tensors ---')\n",
    "    N = x_data[:,0,3].shape[0]  # number of jets (graphs)\n",
    "    M = x_data[0,:,3].shape[0]  # number of max multiplicty\n",
    "    connections = 3\n",
    "    edge_tensor = torch.zeros((N,M,M))\n",
    "    edge_indx_tensor = torch.zeros((N,2,M*(connections+1))) # M*(connections+1) is the max number of edges we allow per jet\n",
    "    edge_attr_matrix = torch.zeros((N,M*(connections+1),1)) \n",
    "    for jet in tqdm(range(N)):\n",
    "        stop_indx = end_multiplicity_indx_per_jet[jet] # stop finding edges once we hit zeros\n",
    "        if end_multiplicity_indx_per_jet[jet]>3:\n",
    "            for m in range(end_multiplicity_indx_per_jet[jet]):\n",
    "                inds_edge = np.argsort((energy[jet,m]+energy[jet,:stop_indx])**2-torch.sum((p[jet,m,:stop_indx]+p[jet,:stop_indx,:])**2,axis=1))[:connections]\n",
    "                edge_tensor[jet,m,inds_edge] = (energy[jet,m]+energy[jet,inds_edge])**2-torch.sum((p[jet,m,:]+p[jet,inds_edge,:])**2,axis=1)\n",
    "                edge_tensor[jet,m,m]=((energy[jet,m]+energy[jet,m])**2-torch.sum((p[jet,m,:]+p[jet,m,:])**2,axis=0))\n",
    "            edges_exist_at = torch.where(edge_tensor[jet,:,:].abs()>0)\n",
    "            edge_indx_tensor[jet,:,:(edge_tensor[jet,:,:].abs()>0).sum()] = torch.cat((edges_exist_at[0][None,:],edges_exist_at[1][None,:]),dim=0).reshape((2,edges_exist_at[0].shape[0]))   \n",
    "            edge_attr_matrix[jet,:(edge_tensor[jet,:,:].abs()>0).sum(),0]  =  edge_tensor[jet,edges_exist_at[0],edges_exist_at[1]].flatten()\n",
    "\n",
    "    end_edges_indx_per_jet = (edge_attr_matrix!=0).sum(axis=1).int()\n",
    "    keep_inds =  np.where(end_edges_indx_per_jet!=0)[0]\n",
    "    graph_help = torch.cat( ( (energy.max(axis=1).values/e_per_jet).reshape(x_data[:,0,3].shape[0],1),\n",
    "                              (mass_per_jet).reshape(x_data[:,0,3].shape[0],1),\n",
    "                              (end_multiplicity_indx_per_jet).reshape(x_data[:,0,3].shape[0],1).int(),\n",
    "                              (end_edges_indx_per_jet).reshape(x_data[:,0,3].shape[0],1).int() ), dim=1)\n",
    "        \n",
    "    return x_data[keep_inds], y_data[keep_inds].long(), edge_tensor[keep_inds], edge_indx_tensor[keep_inds].long(), edge_attr_matrix[keep_inds], graph_help[keep_inds]"
   ]
  },
  {
   "cell_type": "code",
   "execution_count": 35,
   "metadata": {},
   "outputs": [
    {
     "name": "stdout",
     "output_type": "stream",
     "text": [
      "--- Finding All Unique Particles ---\n",
      "\n",
      "--- Inserting Masses ---\n"
     ]
    },
    {
     "name": "stderr",
     "output_type": "stream",
     "text": [
      "15it [00:02,  7.21it/s]\n"
     ]
    },
    {
     "name": "stdout",
     "output_type": "stream",
     "text": [
      "\n",
      "--- Calculating Momenta and Energies ---\n",
      "\n",
      "--- Calculating Edge Tensors ---\n"
     ]
    },
    {
     "name": "stderr",
     "output_type": "stream",
     "text": [
      "100%|██████████| 200000/200000 [56:41<00:00, 58.80it/s]  \n"
     ]
    }
   ],
   "source": [
    "N=200000\n",
    "rng = default_rng(seed=0)\n",
    "indices = rng.choice(x_data.shape[0], size=N, replace=False)\n",
    "x_data_proc, y_data_proc, edge_tensor, edge_indx_tensor, edge_attr_matrix, graph_help = preprocess(x_data[indices],y_data[indices]) #,masses[:N])\n",
    "N = x_data_proc.shape[0]"
   ]
  },
  {
   "cell_type": "code",
   "execution_count": 36,
   "metadata": {},
   "outputs": [],
   "source": [
    "# Check to see if we have the same number of types of particles per jet\n",
    "#unique_ptypes_per_jet = [ np.unique(x[i,:,3]).shape[0] for i in range(x.shape[0]) ]"
   ]
  },
  {
   "cell_type": "code",
   "execution_count": 37,
   "metadata": {},
   "outputs": [],
   "source": [
    "# l=0\n",
    "# max_val = 0\n",
    "# for i in range(np.where(x[l,:,1]==0)[0][0]):\n",
    "#     for j in range(np.where(x[l,:,1]==0)[0][0]):\n",
    "#         val=np.sqrt((x[l,i,1:3]-x[l,j,1:3])**2).sum(axis=0)\n",
    "#         if val>max_val:\n",
    "#             max_val = val"
   ]
  },
  {
   "cell_type": "code",
   "execution_count": 38,
   "metadata": {},
   "outputs": [],
   "source": [
    "# max_val"
   ]
  },
  {
   "cell_type": "code",
   "execution_count": 39,
   "metadata": {},
   "outputs": [],
   "source": [
    "# d_matrix = np.zeros((x[:,0,3].shape[0],x[0,:,3].shape[0],x[0,:,3].shape[0]))\n",
    "# for l in tqdm(range(x[:,0,3].shape[0])):\n",
    "#     for i in range(x[l,:,3].shape[0]):\n",
    "#         inds_edge = np.where(x[l,i,3]==x[l,:,3])\n",
    "#         d_matrix[l,i,inds_edge] = np.sqrt((x[l,i,1:3]-x[l,inds_edge,1:3])**2).sum(axis=0))\n",
    "#     d_matrix[l,:,:]+=np.identity(x[0,:,3].shape[0])"
   ]
  },
  {
   "cell_type": "code",
   "execution_count": 40,
   "metadata": {},
   "outputs": [],
   "source": [
    "#np.save('edge_matrix.npy',d_matrix)"
   ]
  },
  {
   "cell_type": "code",
   "execution_count": 41,
   "metadata": {},
   "outputs": [],
   "source": [
    "#d_matrix = np.load('edge_matrix.npy')"
   ]
  },
  {
   "cell_type": "code",
   "execution_count": 42,
   "metadata": {},
   "outputs": [],
   "source": [
    "#d_matrix.shape"
   ]
  },
  {
   "cell_type": "markdown",
   "metadata": {},
   "source": [
    "## Preprocess data"
   ]
  },
  {
   "cell_type": "code",
   "execution_count": 43,
   "metadata": {},
   "outputs": [],
   "source": [
    "# x.max(axis=1).max(axis=0).shape"
   ]
  },
  {
   "cell_type": "code",
   "execution_count": 44,
   "metadata": {},
   "outputs": [],
   "source": [
    "# def process(feature_data,class_labels,feature_data_max=None):\n",
    "#     # Normalize features\n",
    "#     feature_data_max = feature_data.max(axis=1).max(axis=0)\n",
    "#     feature_data = feature_data/feature_data_max[:]\n",
    "#     feature_data = torch.tensor(feature_data)[:,:,:]\n",
    "#     class_labels = torch.tensor(class_labels)[:]\n",
    "#     return feature_data, class_labels"
   ]
  },
  {
   "cell_type": "code",
   "execution_count": 45,
   "metadata": {},
   "outputs": [],
   "source": [
    "# x_data, y_data = process(x,y)"
   ]
  },
  {
   "cell_type": "code",
   "execution_count": 46,
   "metadata": {},
   "outputs": [
    {
     "name": "stdout",
     "output_type": "stream",
     "text": [
      "----- Check for the correctly sized tensors -----\n",
      "\n",
      "Jet Data: torch.Size([199984, 148, 7])\n",
      "Classification: torch.Size([199984])\n",
      "Full Edge Information: torch.Size([199984, 148, 148])\n",
      "Edge Index Information: torch.Size([199984, 2, 592])\n",
      "Edge Attribute Information: torch.Size([199984, 592, 1])\n",
      "Graph Structure Information: torch.Size([199984, 4])\n",
      "\n",
      "\n",
      "----- Check that each tensor is normalized -----\n",
      "\n",
      "Jet Data max: 1.0\n",
      "Classification: 1\n"
     ]
    }
   ],
   "source": [
    "print('----- Check for the correctly sized tensors -----')\n",
    "print()\n",
    "print(f'Jet Data: {x_data_proc.shape}')\n",
    "print(f'Classification: {y_data_proc.shape}')\n",
    "print(f'Full Edge Information: {edge_tensor.shape}')\n",
    "print(f'Edge Index Information: {edge_indx_tensor.shape}')\n",
    "print(f'Edge Attribute Information: {edge_attr_matrix.shape}')\n",
    "print(f'Graph Structure Information: {graph_help.shape}')\n",
    "print('\\n')\n",
    "print('----- Check that each tensor is normalized -----')\n",
    "print()\n",
    "print(f'Jet Data max: {torch.max(x_data_proc)}')\n",
    "print(f'Classification: {torch.max(y_data_proc)}')"
   ]
  },
  {
   "cell_type": "code",
   "execution_count": 47,
   "metadata": {},
   "outputs": [
    {
     "name": "stdout",
     "output_type": "stream",
     "text": [
      "----- Check the structure of the dataset -----\n",
      "\n",
      "Number of graphs (jets): 199984\n",
      "Number of features per node (p_T(M),y,phi,m,E,px,py,pz): 7\n",
      "Number of classes (2: Quarks or Gluons): 2\n",
      "\n",
      "----- Check the structure of one graph -----\n",
      "\n",
      "Number of nodes (particle IDs): 148\n",
      "Number of edges: 120.0\n",
      "Average node degree: 0.81\n",
      "Is undirected: True\n"
     ]
    }
   ],
   "source": [
    "print('----- Check the structure of the dataset -----')\n",
    "print()\n",
    "print(f'Number of graphs (jets): {x_data_proc.shape[0]}')\n",
    "print(r'Number of features per node (p_T(M),y,phi,m,E,px,py,pz): '+f'{x_data_proc.shape[2]}')\n",
    "print(f'Number of classes (2: Quarks or Gluons): {np.unique(y_data_proc).shape[0]}')\n",
    "print()\n",
    "print('----- Check the structure of one graph -----')\n",
    "print()\n",
    "i=0\n",
    "number_of_edges = graph_help[i,3]\n",
    "# Gather some statistics about the first graph.\n",
    "print(f'Number of nodes (particle IDs): {x_data_proc[i,:,0].shape[0]}')\n",
    "print(f'Number of edges: {number_of_edges}')\n",
    "print(f'Average node degree: {number_of_edges / x_data_proc[i,:,0].shape[0]:.2f}')\n",
    "print(f'Is undirected: {True}')"
   ]
  },
  {
   "cell_type": "code",
   "execution_count": 48,
   "metadata": {},
   "outputs": [],
   "source": [
    "# Create a dataset class\n",
    "class Create_Dataset(Dataset):\n",
    "    def __init__(self, edge_index, x, edge_attr, y, graph_info, transform=None):\n",
    "        self.edge_index = edge_index\n",
    "        self.x          = x\n",
    "        self.edge_attr  = edge_attr\n",
    "        self.y          = y\n",
    "        self.graph_info = graph_info\n",
    "        self.transform  = transform\n",
    "    \n",
    "    def __len__(self):\n",
    "        return self.y.shape[0]\n",
    "        \n",
    "    # Could also just define an x,y,z then pass these variables\n",
    "    # in the training functions over the loop for batch (actually think that way is easier to read)\n",
    "    def __getitem__(self, index):\n",
    "        sample = {'edge_index': self.edge_index[index,:,:self.graph_info[index,3]],\n",
    "                'x': self.x[index,:int(self.graph_info[index,2]),:],\n",
    "                'edge_attr': self.edge_attr[index,:self.graph_info[index,3]],\n",
    "                'y': self.y[index] }\n",
    "\n",
    "        if self.transform is not None:          \n",
    "            sample = self.transform(sample)\n",
    "        return sample"
   ]
  },
  {
   "cell_type": "code",
   "execution_count": 49,
   "metadata": {},
   "outputs": [
    {
     "name": "stderr",
     "output_type": "stream",
     "text": [
      "100%|██████████| 199984/199984 [00:19<00:00, 10284.67it/s]"
     ]
    },
    {
     "name": "stdout",
     "output_type": "stream",
     "text": [
      "Number of training graphs: 159987\n",
      "Number of test graphs: 40013\n"
     ]
    },
    {
     "name": "stderr",
     "output_type": "stream",
     "text": [
      "\n"
     ]
    }
   ],
   "source": [
    "train_index   = int(N*0.8)\n",
    "batch_size = 64\n",
    "# Create Datasets for Torch for the training and testing pahses\n",
    "dataset = []\n",
    "for i in tqdm(range(N)):\n",
    "    dataset.append(Data(edge_index=edge_indx_tensor[i,:,:int(graph_help[i,3])],x=x_data_proc[i,:int(graph_help[i,2]),:],edge_attr=edge_attr_matrix[i,:int(graph_help[i,3])],y=y_data_proc[i]))\n",
    "training_data = dataset[:train_index]\n",
    "test_data     = dataset[train_index:]\n",
    "# Create data loaders\n",
    "train_dataloader = DataLoader(training_data, \n",
    "                              batch_size = batch_size,\n",
    "                              shuffle = True, \n",
    "                              num_workers = 0)\n",
    "\n",
    "test_dataloader  = DataLoader(test_data, \n",
    "                              batch_size = batch_size,\n",
    "                              shuffle = False, \n",
    "                              num_workers = 0)\n",
    "\n",
    "print(f'Number of training graphs: {train_index}')\n",
    "print(f'Number of test graphs: {indices.shape[0]-train_index}')\n",
    "\n",
    "\n",
    "# for step, data in enumerate(train_dataloader):\n",
    "#     print(f'Step {step + 1}:')\n",
    "#     print('=======')\n",
    "#     print(f'Number of graphs in the current batch: {data.num_graphs}')\n",
    "#     print(data)\n",
    "#     print()"
   ]
  },
  {
   "cell_type": "code",
   "execution_count": 50,
   "metadata": {},
   "outputs": [
    {
     "name": "stdout",
     "output_type": "stream",
     "text": [
      "Using cpu device\n"
     ]
    }
   ],
   "source": [
    "# Get cpu or gpu device for training.\n",
    "device = \"cuda\" if torch.cuda.is_available() else \"cpu\"\n",
    "print(f\"Using {device} device\")"
   ]
  },
  {
   "cell_type": "markdown",
   "metadata": {},
   "source": [
    "## Architecture 1: Graph Convolutional Network (GCN)"
   ]
  },
  {
   "cell_type": "code",
   "execution_count": 51,
   "metadata": {},
   "outputs": [],
   "source": [
    "class GCN(torch.nn.Module):\n",
    "    def __init__(self, hidden_channels,num_of_features,num_of_classes):\n",
    "        super(GCN, self).__init__()\n",
    "\n",
    "        self.gcnn = Sequential('x, edge_index, batch', #edge_attr, batch) \n",
    "                               [ (nn.Dropout(p=0.2), 'x -> x'),\n",
    "                                (GCNConv(in_channels=num_of_features, out_channels=hidden_channels), 'x, edge_index-> x1'),\n",
    "                                nn.ReLU(inplace=True),\n",
    "                                (GCNConv(in_channels=hidden_channels, out_channels=hidden_channels), 'x1, edge_index -> x2'),\n",
    "                                nn.ReLU(inplace=True),\n",
    "                                (GCNConv(in_channels=hidden_channels, out_channels=hidden_channels), 'x1, edge_index -> x2'),\n",
    "                                (global_mean_pool, 'x2, batch -> x'),# Mean Pooling Layer to Latent Space\n",
    "                               ])\n",
    "        \n",
    "        self.reduce = nn.Linear(in_features=hidden_channels, out_features=num_of_classes)\n",
    "            \n",
    "    def forward(self, x, edge_index,batch):# data.edge_attr, data.batch) \n",
    "        # Extract Node Embeddings\n",
    "        x = self.gcnn(x, edge_index, batch)# data.edge_attr, data.batch) \n",
    "        x = F.dropout(x, p=0.5, training=self.training)\n",
    "        x = self.reduce(x)\n",
    "        return x"
   ]
  },
  {
   "cell_type": "code",
   "execution_count": 52,
   "metadata": {},
   "outputs": [],
   "source": [
    "def train_on_dataset(model,loss_fn,train_loader):\n",
    "    model.train()\n",
    "    for data in train_loader:  # Iterate in batches over the training dataset.\n",
    "        pred = model(data.x, data.edge_index, data.batch)# data.edge_attr, data.batch)   # Perform a single forward pass.\n",
    "        loss = loss_fn(pred, data.y)  # Compute the loss.\n",
    "        loss.backward()  # Derive gradients.\n",
    "        optimizer.step()  # Update parameters based on gradients.\n",
    "        optimizer.zero_grad()  # Clear gradients.\n",
    "    return loss\n",
    "    \n",
    "\n",
    "def test_on_dataset(model,dataloader):\n",
    "    model.eval()\n",
    "    num_correct = 0\n",
    "    size = len(dataloader.dataset)\n",
    "    for data in dataloader:  # Iterate in batches over the training/test dataset.\n",
    "        out = model(data.x, data.edge_index, data.batch)# data.edge_attr, data.batch) \n",
    "        loss = loss_fn(out, data.y)\n",
    "        pred = out.argmax(dim=1)  # Use the class with highest probability.\n",
    "        num_correct += (pred==data.y).sum().int()  # Check against true labels.\n",
    "    return loss, num_correct / size  # Derive ratio of correct predictions.\n",
    "\n",
    "def train(model,optimizer,loss_fn,train_dataloader,test_dataloader,epochs):\n",
    "    history = {'train_loss': [],'test_loss':[],'train_accuracy': [],'test_accuracy':[]} \n",
    "    best_val_loss = torch.inf\n",
    "    best_val_acc = 0.\n",
    "    start = time()\n",
    "    for i in range(epochs):\n",
    "        loss = train_on_dataset(model,loss_fn,train_dataloader)\n",
    "        train_loss, train_acc = test_on_dataset(model,train_dataloader)\n",
    "        test_loss, test_acc = test_on_dataset(model,test_dataloader)\n",
    "\n",
    "        history['train_loss'].append(train_loss.data.item())\n",
    "        history['test_loss'].append(test_loss.data.item())\n",
    "        history['train_accuracy'].append(train_acc.data.item())\n",
    "        history['test_accuracy'].append(test_acc.data.item())\n",
    "        \n",
    "        if best_val_acc<train_acc:\n",
    "        #if train_loss < best_val_loss:\n",
    "            best_val_acc = train_acc\n",
    "            best_val_loss = train_loss\n",
    "            best_model = copy.deepcopy(model)\n",
    "            best_model_wts = copy.deepcopy(model.state_dict())\n",
    "            \n",
    "#         if i<9:\n",
    "#             print(f'Epoch {i+1}   |  Train Loss: {train_loss:>8f}  |  Train Acc: {train_acc:>4f} | Test Acc: {test_acc:.4f}')\n",
    "#         else:\n",
    "#             print(f'Epoch {i+1}  |  Train Loss: {train_loss:>8f}  |  Train Acc: {train_acc:>4f} | Test Acc: {test_acc:.4f}')\n",
    "        if i<9:\n",
    "            print(f'Epoch {i+1}   |  Train Loss: {train_loss:>4f} | Test Loss: {test_loss:.4f}  |  Train Acc: {train_acc:>4f} | Test Acc: {test_acc:.4f}')\n",
    "        else:\n",
    "            print(f'Epoch {i+1}  |  Train Loss: {train_loss:>4f} | Test Loss: {test_loss:.4f}  |  Train Acc: {train_acc:>4f} | Test Acc: {test_acc:.4f}')\n",
    "\n",
    "    end = time()\n",
    "    total_time = end-start\n",
    "    print(f\"Time: {total_time:.5f} sec\")  #|  Best Loss: {best_val_loss:.5f}\")\n",
    "    print(\"Complete.\")\n",
    "    return {'model': best_model,'history': history}"
   ]
  },
  {
   "cell_type": "code",
   "execution_count": 53,
   "metadata": {},
   "outputs": [
    {
     "name": "stdout",
     "output_type": "stream",
     "text": [
      "GCN(\n",
      "  (gcnn): Sequential(\n",
      "    (0): Dropout(p=0.2, inplace=False)\n",
      "    (1): GCNConv(7, 64)\n",
      "    (2): ReLU(inplace=True)\n",
      "    (3): GCNConv(64, 64)\n",
      "    (4): ReLU(inplace=True)\n",
      "    (5): GCNConv(64, 64)\n",
      "    (6): <function global_mean_pool at 0x7f9ad0951160>\n",
      "  )\n",
      "  (reduce): Linear(in_features=64, out_features=2, bias=True)\n",
      ")\n",
      "Epoch 1   |  Train Loss: 0.595077 | Test Loss: 0.5145  |  Train Acc: 0.769425 | Test Acc: 0.7681\n",
      "Epoch 2   |  Train Loss: 0.604986 | Test Loss: 0.5137  |  Train Acc: 0.768500 | Test Acc: 0.7684\n",
      "Epoch 3   |  Train Loss: 0.490807 | Test Loss: 0.5564  |  Train Acc: 0.754249 | Test Acc: 0.7549\n",
      "Epoch 4   |  Train Loss: 0.588315 | Test Loss: 0.5559  |  Train Acc: 0.751780 | Test Acc: 0.7517\n",
      "Epoch 5   |  Train Loss: 0.486906 | Test Loss: 0.5152  |  Train Acc: 0.770569 | Test Acc: 0.7694\n",
      "Epoch 6   |  Train Loss: 0.386846 | Test Loss: 0.6280  |  Train Acc: 0.727634 | Test Acc: 0.7278\n",
      "Epoch 7   |  Train Loss: 0.497318 | Test Loss: 0.5823  |  Train Acc: 0.734085 | Test Acc: 0.7346\n",
      "Epoch 8   |  Train Loss: 0.652536 | Test Loss: 0.5294  |  Train Acc: 0.765468 | Test Acc: 0.7654\n",
      "Epoch 9   |  Train Loss: 0.567233 | Test Loss: 0.5649  |  Train Acc: 0.751080 | Test Acc: 0.7502\n",
      "Epoch 10  |  Train Loss: 0.486304 | Test Loss: 0.5131  |  Train Acc: 0.764806 | Test Acc: 0.7637\n",
      "Epoch 11  |  Train Loss: 0.434330 | Test Loss: 0.5439  |  Train Acc: 0.757849 | Test Acc: 0.7581\n",
      "Epoch 12  |  Train Loss: 0.498796 | Test Loss: 0.5446  |  Train Acc: 0.753442 | Test Acc: 0.7535\n",
      "Epoch 13  |  Train Loss: 0.439731 | Test Loss: 0.5287  |  Train Acc: 0.763862 | Test Acc: 0.7633\n",
      "Epoch 14  |  Train Loss: 0.560997 | Test Loss: 0.5828  |  Train Acc: 0.740216 | Test Acc: 0.7408\n",
      "Epoch 15  |  Train Loss: 0.619434 | Test Loss: 0.5402  |  Train Acc: 0.759268 | Test Acc: 0.7590\n",
      "Epoch 16  |  Train Loss: 0.483349 | Test Loss: 0.5655  |  Train Acc: 0.749905 | Test Acc: 0.7496\n",
      "Epoch 17  |  Train Loss: 0.442864 | Test Loss: 0.5353  |  Train Acc: 0.759537 | Test Acc: 0.7591\n",
      "Epoch 18  |  Train Loss: 0.406090 | Test Loss: 0.5947  |  Train Acc: 0.731822 | Test Acc: 0.7334\n",
      "Epoch 19  |  Train Loss: 0.526201 | Test Loss: 0.5798  |  Train Acc: 0.739110 | Test Acc: 0.7408\n",
      "Epoch 20  |  Train Loss: 0.429260 | Test Loss: 0.5387  |  Train Acc: 0.763100 | Test Acc: 0.7620\n",
      "Epoch 21  |  Train Loss: 0.435927 | Test Loss: 0.5499  |  Train Acc: 0.753374 | Test Acc: 0.7536\n",
      "Epoch 22  |  Train Loss: 0.547161 | Test Loss: 0.5690  |  Train Acc: 0.745873 | Test Acc: 0.7465\n",
      "Epoch 23  |  Train Loss: 0.601496 | Test Loss: 0.5487  |  Train Acc: 0.752636 | Test Acc: 0.7531\n",
      "Epoch 24  |  Train Loss: 0.592077 | Test Loss: 0.5454  |  Train Acc: 0.753918 | Test Acc: 0.7553\n",
      "Epoch 25  |  Train Loss: 0.450912 | Test Loss: 0.5508  |  Train Acc: 0.752880 | Test Acc: 0.7531\n",
      "Epoch 26  |  Train Loss: 0.538259 | Test Loss: 0.5169  |  Train Acc: 0.766062 | Test Acc: 0.7664\n",
      "Epoch 27  |  Train Loss: 0.594941 | Test Loss: 0.5458  |  Train Acc: 0.754068 | Test Acc: 0.7538\n",
      "Epoch 28  |  Train Loss: 0.460130 | Test Loss: 0.5934  |  Train Acc: 0.744260 | Test Acc: 0.7440\n",
      "Epoch 29  |  Train Loss: 0.421237 | Test Loss: 0.5864  |  Train Acc: 0.736497 | Test Acc: 0.7374\n",
      "Epoch 30  |  Train Loss: 0.525022 | Test Loss: 0.5467  |  Train Acc: 0.749948 | Test Acc: 0.7503\n",
      "Epoch 31  |  Train Loss: 0.583795 | Test Loss: 0.5401  |  Train Acc: 0.757918 | Test Acc: 0.7578\n",
      "Epoch 32  |  Train Loss: 0.628572 | Test Loss: 0.5301  |  Train Acc: 0.763431 | Test Acc: 0.7622\n",
      "Epoch 33  |  Train Loss: 0.482224 | Test Loss: 0.5634  |  Train Acc: 0.748098 | Test Acc: 0.7488\n",
      "Epoch 34  |  Train Loss: 0.534273 | Test Loss: 0.5792  |  Train Acc: 0.745067 | Test Acc: 0.7462\n",
      "Epoch 35  |  Train Loss: 0.451428 | Test Loss: 0.5270  |  Train Acc: 0.767556 | Test Acc: 0.7674\n",
      "Epoch 36  |  Train Loss: 0.508054 | Test Loss: 0.5418  |  Train Acc: 0.756786 | Test Acc: 0.7572\n",
      "Epoch 37  |  Train Loss: 0.560110 | Test Loss: 0.5199  |  Train Acc: 0.766987 | Test Acc: 0.7651\n",
      "Epoch 38  |  Train Loss: 0.459949 | Test Loss: 0.5503  |  Train Acc: 0.752680 | Test Acc: 0.7526\n",
      "Epoch 39  |  Train Loss: 0.543665 | Test Loss: 0.5510  |  Train Acc: 0.753411 | Test Acc: 0.7545\n",
      "Epoch 40  |  Train Loss: 0.473335 | Test Loss: 0.5775  |  Train Acc: 0.745823 | Test Acc: 0.7463\n",
      "Epoch 41  |  Train Loss: 0.615938 | Test Loss: 0.5588  |  Train Acc: 0.750123 | Test Acc: 0.7498\n",
      "Epoch 42  |  Train Loss: 0.467185 | Test Loss: 0.5166  |  Train Acc: 0.767600 | Test Acc: 0.7665\n",
      "Epoch 43  |  Train Loss: 0.538904 | Test Loss: 0.5461  |  Train Acc: 0.754886 | Test Acc: 0.7548\n",
      "Epoch 44  |  Train Loss: 0.488919 | Test Loss: 0.5836  |  Train Acc: 0.742535 | Test Acc: 0.7436\n",
      "Epoch 45  |  Train Loss: 0.510159 | Test Loss: 0.5210  |  Train Acc: 0.766725 | Test Acc: 0.7649\n",
      "Epoch 46  |  Train Loss: 0.594082 | Test Loss: 0.5330  |  Train Acc: 0.760006 | Test Acc: 0.7597\n",
      "Epoch 47  |  Train Loss: 0.536594 | Test Loss: 0.5326  |  Train Acc: 0.761043 | Test Acc: 0.7605\n",
      "Epoch 48  |  Train Loss: 0.526021 | Test Loss: 0.5689  |  Train Acc: 0.751142 | Test Acc: 0.7506\n",
      "Epoch 49  |  Train Loss: 0.482991 | Test Loss: 0.5923  |  Train Acc: 0.738047 | Test Acc: 0.7385\n",
      "Epoch 50  |  Train Loss: 0.553013 | Test Loss: 0.5591  |  Train Acc: 0.746686 | Test Acc: 0.7474\n",
      "Time: 5347.10137 sec\n",
      "Complete.\n"
     ]
    }
   ],
   "source": [
    "torch.manual_seed(0)\n",
    "number_of_hidden_channels = batch_size\n",
    "num_of_features = x_data_proc.shape[2]\n",
    "num_of_classes  = np.unique(y_data_proc).shape[0]\n",
    "lr = 5e-3\n",
    "model = GCN(hidden_channels=number_of_hidden_channels,\n",
    "            num_of_features=num_of_features,\n",
    "            num_of_classes=num_of_classes)\n",
    "print(model)\n",
    "\n",
    "\n",
    "optimizer = torch.optim.Adam(model.parameters(), lr=lr)\n",
    "loss_fn = torch.nn.CrossEntropyLoss()\n",
    "epochs= 50\n",
    "training = train(model=model,\n",
    "                 optimizer=optimizer,\n",
    "                 loss_fn=loss_fn,\n",
    "                 train_dataloader=train_dataloader,\n",
    "                 test_dataloader=test_dataloader,\n",
    "                 epochs=epochs)"
   ]
  },
  {
   "cell_type": "code",
   "execution_count": 54,
   "metadata": {},
   "outputs": [
    {
     "data": {
      "text/plain": [
       "<matplotlib.legend.Legend at 0x7f9ab6fbd280>"
      ]
     },
     "execution_count": 54,
     "metadata": {},
     "output_type": "execute_result"
    },
    {
     "data": {
      "image/png": "[encoded data removed]",
      "text/plain": [
       "<Figure size 576x360 with 1 Axes>"
      ]
     },
     "metadata": {
      "needs_background": "light"
     },
     "output_type": "display_data"
    }
   ],
   "source": [
    "# Plot the training accuracy\n",
    "fig = plt.figure(figsize=(8,5))\n",
    "plt.plot(training['history']['train_loss'],c='b',label='Train Loss')\n",
    "plt.plot(training['history']['test_loss'],c='g',label='Test Loss')\n",
    "plt.plot(training['history']['train_accuracy'],c='cyan',label='Train Loss')\n",
    "plt.plot(training['history']['test_accuracy'],c='darkorange',label='Test Loss')\n",
    "plt.title('Training History')\n",
    "plt.xlabel('Epoch')\n",
    "plt.ylabel('Accuracy')\n",
    "plt.legend()"
   ]
  },
  {
   "cell_type": "code",
   "execution_count": 55,
   "metadata": {},
   "outputs": [
    {
     "name": "stderr",
     "output_type": "stream",
     "text": [
      "625it [00:11, 54.86it/s]"
     ]
    },
    {
     "name": "stdout",
     "output_type": "stream",
     "text": [
      "Accuracy for GCN:  tensor(0.7694)\n"
     ]
    },
    {
     "name": "stderr",
     "output_type": "stream",
     "text": [
      "\n"
     ]
    }
   ],
   "source": [
    "model = copy.deepcopy(training['model'])\n",
    "model.eval()\n",
    "num_correct = 0\n",
    "size = len(test_dataloader.dataset)\n",
    "# Compare to initialized test_data = y_data_proc[train_index:]\n",
    "test_predicitons = torch.zeros((len(test_data),1))\n",
    "for i,data in tqdm(enumerate(test_dataloader)):  # Iterate in batches over the training/test dataset.\n",
    "    out = model(data.x, data.edge_index, data.batch)  \n",
    "    pred = out.argmax(dim=1)  # Use the class with highest probability.\n",
    "    num_correct += (pred==data.y).sum().int()\n",
    "    if len(test_data)<(i+1)*batch_size:\n",
    "        test_predicitons[i*batch_size:] = pred.reshape((len(test_data)-i*batch_size,1))\n",
    "    else:\n",
    "        test_predicitons[i*batch_size:(i+1)*batch_size] = pred.reshape((batch_size,1))\n",
    "print('Accuracy for GCN: ',num_correct/size)"
   ]
  },
  {
   "cell_type": "code",
   "execution_count": 56,
   "metadata": {},
   "outputs": [
    {
     "name": "stdout",
     "output_type": "stream",
     "text": [
      "159987\n",
      "39997\n"
     ]
    }
   ],
   "source": [
    "print(train_index)\n",
    "print(len(test_data))"
   ]
  },
  {
   "cell_type": "code",
   "execution_count": 57,
   "metadata": {},
   "outputs": [
    {
     "data": {
      "image/png": "[encoded data removed]",
      "text/plain": [
       "<Figure size 288x216 with 2 Axes>"
      ]
     },
     "metadata": {
      "needs_background": "light"
     },
     "output_type": "display_data"
    }
   ],
   "source": [
    "from sklearn.metrics import confusion_matrix\n",
    "# Calculate the confusion matrix\n",
    "conf_matrix = confusion_matrix(y_true=y_data_proc[train_index:], y_pred=test_predicitons)\n",
    "# Print the confusion matrix using Matplotlib\n",
    "fig, ax = plt.subplots(figsize=(4, 3))\n",
    "im = ax.imshow(conf_matrix, cmap=plt.cm.Blues, alpha=0.3)\n",
    "for i in range(conf_matrix.shape[0]):\n",
    "    for j in range(conf_matrix.shape[1]):\n",
    "        ax.text(x=j, y=i,s=conf_matrix[i, j], va='center', ha='center', size='xx-large')\n",
    "plt.xlabel('Pred', fontsize=18)\n",
    "plt.ylabel('True', fontsize=18)\n",
    "plt.title('Confusion Matrix for GCN', fontsize=18)\n",
    "plt.xticks(ticks=[0,1],labels=['Gluon','Quark'])\n",
    "plt.yticks(ticks=[0,1],labels=['Gluon','Quark'])\n",
    "plt.colorbar(im)\n",
    "plt.show()"
   ]
  },
  {
   "cell_type": "markdown",
   "metadata": {},
   "source": [
    "## Architecture 2: Graph Convolutional Attention Network (GCAT)"
   ]
  },
  {
   "cell_type": "code",
   "execution_count": 58,
   "metadata": {},
   "outputs": [],
   "source": [
    "class GAT(nn.Module):\n",
    "    def __init__(self, hidden_channels, number_of_features, number_of_classes, dropout1, dropout2, number_attention_heads):\n",
    "        super(GAT, self).__init__()\n",
    "        self.dropout1 = dropout1\n",
    "        self.dropout2 = dropout2\n",
    "        #self.in_att = Sequential('x, edge_index, batch',[(GATConv(in_channels = number_of_features, out_channels = hidden_channels, dropout2=dropout2, concat=True), 'x, edge_index -> x1')\n",
    "        self.attentions = [ Sequential('x, edge_index, edge_attr, batch',[(GATConv(in_channels = number_of_features, out_channels = hidden_channels, dropout2=dropout2, concat=True), 'x, edge_index, edge_attr -> x')]) for _ in range(number_attention_heads)]\n",
    "        for i, attention in enumerate(self.attentions):\n",
    "            self.add_module('attention_{}'.format(i), attention)\n",
    "            \n",
    "    \n",
    "#         self.out_att = Sequential('x, edge_index, batch',[(GATConv(in_channels = number_of_hidden_channels*number_attention_heads, out_channels = hidden_channels, dropout2=dropout2, concat=False), 'x, edge_index -> x1')])\n",
    "        self.out_att = Sequential('x, edge_index, edge_attr, batch',[(GATConv(in_channels = number_of_hidden_channels*number_attention_heads, out_channels = hidden_channels, dropout2=dropout2, concat=False), 'x, edge_index, edge_attr -> x')])\n",
    "\n",
    "#         self.pool = Sequential('x, edge_index, edge_attr, batch',      \n",
    "#                            [(global_mean_pool, 'x, batch -> x'),# Mean Pooling Layer to Latent Space\n",
    "#                            ]) \n",
    "        self.gat = Sequential('x, edge_index, edge_attr, batch', \n",
    "                               [(GATConv(in_channels = number_of_hidden_channels, out_channels = hidden_channels, dropout2=dropout2, concat=False), 'x, edge_index, edge_attr -> x1'),\n",
    "                                nn.ReLU(inplace=True),\n",
    "                                (GATConv(in_channels = number_of_hidden_channels, out_channels = hidden_channels, dropout2=dropout2, concat=False), 'x1, edge_index, edge_attr -> x2'),\n",
    "                                nn.ReLU(inplace=True),\n",
    "                                (GATConv(in_channels = number_of_hidden_channels, out_channels = hidden_channels, dropout2=dropout2, concat=False), 'x2, edge_index, edge_attr -> x3'),\n",
    "                                nn.ReLU(inplace=True),\n",
    "                                (GATConv(in_channels = number_of_hidden_channels, out_channels = hidden_channels, dropout2=dropout2, concat=False), 'x3, edge_index, edge_attr -> x4'),\n",
    "                                (global_mean_pool, 'x4, batch -> x'),\n",
    "                               ])\n",
    "\n",
    "#         self.gcnn = Sequential('x, edge_index, batch', \n",
    "#                                [(GCNConv(in_channels=hidden_channels, out_channels=hidden_channels), 'x, edge_index -> x1'),\n",
    "#                                 nn.ReLU(inplace=True),\n",
    "#                                 (GCNConv(in_channels=hidden_channels, out_channels=hidden_channels), 'x1, edge_index -> x2'),\n",
    "#                                 (global_mean_pool, 'x2, batch -> x'),# Mean Pooling Layer to Latent Space\n",
    "#                                ])\n",
    "        \n",
    "        self.reduce = nn.Linear(in_features=hidden_channels, out_features=num_of_classes)\n",
    "        \n",
    "    def forward(self, x, edge_index, edge_attr, batch):#adj):\n",
    "        x = F.dropout(x, p=self.dropout2, training=self.training)\n",
    "#         x = self.in_att(x, edge_index, batch)\n",
    "#         for att in self.attentions:\n",
    "        x = torch.cat([att(x, edge_index, edge_attr, batch) for att in self.attentions],dim=1)\n",
    "        x = F.dropout(x, self.dropout2, training=self.training)\n",
    "        x = self.out_att(x, edge_index, edge_attr, batch)\n",
    "#         x = self.pool(x, edge_index, edge_attr, batch)\n",
    "#         x = self.reduce(x)\n",
    "#         x = F.elu(x)\n",
    "#         x = self.pool(x,edge_index,batch)\n",
    "        x = self.gat(x, edge_index, edge_attr, batch)\n",
    "#         x = F.elu(x)\n",
    "#         x = self.gcnn(x, edge_index, batch)\n",
    "#         x = F.dropout(x, p=self.dropout2, training=self.training)\n",
    "        x = self.reduce(x)\n",
    "        x = F.elu(x)\n",
    "        return F.log_softmax(x, dim=1)"
   ]
  },
  {
   "cell_type": "code",
   "execution_count": 59,
   "metadata": {},
   "outputs": [],
   "source": [
    "def train_on_dataset_GAT(model,loss_fn,train_loader):\n",
    "    model.train()\n",
    "    for data in train_loader:  # Iterate in batches over the training dataset.\n",
    "        pred = model(data.x, data.edge_index, data.edge_attr, data.batch)# data.edge_attr, data.batch)   # Perform a single forward pass.\n",
    "        loss = loss_fn(pred, data.y)  # Compute the loss.\n",
    "        loss.backward()  # Derive gradients.\n",
    "        optimizer.step()  # Update parameters based on gradients.\n",
    "        optimizer.zero_grad()  # Clear gradients.\n",
    "    return loss\n",
    "    \n",
    "\n",
    "def test_on_dataset_GAT(model,dataloader):\n",
    "    model.eval()\n",
    "    num_correct = 0\n",
    "    size = len(dataloader.dataset)\n",
    "    for data in dataloader:  # Iterate in batches over the training/test dataset.\n",
    "        out = model(data.x, data.edge_index, data.edge_attr, data.batch)# data.edge_attr, data.batch) \n",
    "        loss = loss_fn(out, data.y)\n",
    "        pred = out.argmax(dim=1)  # Use the class with highest probability.\n",
    "        num_correct += (pred==data.y).sum().int()  # Check against true labels.\n",
    "    return loss, num_correct / size  # Derive ratio of correct predictions.\n",
    "\n",
    "def train_GAT(model,optimizer,loss_fn,train_dataloader,test_dataloader,epochs):\n",
    "    history = {'train_loss': [],'test_loss':[],'train_accuracy': [],'test_accuracy':[]} \n",
    "    best_val_loss = torch.inf\n",
    "    best_val_acc = 0.\n",
    "    start = time()\n",
    "    for i in range(epochs):\n",
    "        loss = train_on_dataset_GAT(model,loss_fn,train_dataloader)\n",
    "        train_loss, train_acc = test_on_dataset_GAT(model,train_dataloader)\n",
    "        test_loss, test_acc = test_on_dataset_GAT(model,test_dataloader)\n",
    "\n",
    "        history['train_loss'].append(train_loss.data.item())\n",
    "        history['test_loss'].append(test_loss.data.item())\n",
    "        history['train_accuracy'].append(train_acc.data.item())\n",
    "        history['test_accuracy'].append(test_acc.data.item())\n",
    "        \n",
    "        if best_val_acc<train_acc:\n",
    "        #if train_loss < best_val_loss:\n",
    "            best_val_acc = train_acc\n",
    "            best_val_loss = train_loss\n",
    "            best_model = copy.deepcopy(model)\n",
    "            best_model_wts = copy.deepcopy(model.state_dict())\n",
    "            \n",
    "#         if i<9:\n",
    "#             print(f'Epoch {i+1}   |  Train Loss: {train_loss:>8f}  |  Train Acc: {train_acc:>4f} | Test Acc: {test_acc:.4f}')\n",
    "#         else:\n",
    "#             print(f'Epoch {i+1}  |  Train Loss: {train_loss:>8f}  |  Train Acc: {train_acc:>4f} | Test Acc: {test_acc:.4f}')\n",
    "        if i<9:\n",
    "            print(f'Epoch {i+1}   |  Train Loss: {train_loss:>4f} | Test Loss: {test_loss:.4f}  |  Train Acc: {train_acc:>4f} | Test Acc: {test_acc:.4f}')\n",
    "        else:\n",
    "            print(f'Epoch {i+1}  |  Train Loss: {train_loss:>4f} | Test Loss: {test_loss:.4f}  |  Train Acc: {train_acc:>4f} | Test Acc: {test_acc:.4f}')\n",
    "\n",
    "    end = time()\n",
    "    total_time = end-start\n",
    "    print(f\"Time: {total_time:.5f} sec\")  #|  Best Loss: {best_val_loss:.5f}\")\n",
    "    print(\"Complete.\")\n",
    "    return {'model': best_model,'history': history}"
   ]
  },
  {
   "cell_type": "code",
   "execution_count": 65,
   "metadata": {},
   "outputs": [
    {
     "name": "stdout",
     "output_type": "stream",
     "text": [
      "GAT(\n",
      "  (attention_0): Sequential(\n",
      "    (0): GATConv(7, 64, heads=1)\n",
      "  )\n",
      "  (attention_1): Sequential(\n",
      "    (0): GATConv(7, 64, heads=1)\n",
      "  )\n",
      "  (attention_2): Sequential(\n",
      "    (0): GATConv(7, 64, heads=1)\n",
      "  )\n",
      "  (attention_3): Sequential(\n",
      "    (0): GATConv(7, 64, heads=1)\n",
      "  )\n",
      "  (attention_4): Sequential(\n",
      "    (0): GATConv(7, 64, heads=1)\n",
      "  )\n",
      "  (attention_5): Sequential(\n",
      "    (0): GATConv(7, 64, heads=1)\n",
      "  )\n",
      "  (attention_6): Sequential(\n",
      "    (0): GATConv(7, 64, heads=1)\n",
      "  )\n",
      "  (attention_7): Sequential(\n",
      "    (0): GATConv(7, 64, heads=1)\n",
      "  )\n",
      "  (out_att): Sequential(\n",
      "    (0): GATConv(512, 64, heads=1)\n",
      "  )\n",
      "  (gat): Sequential(\n",
      "    (0): GATConv(64, 64, heads=1)\n",
      "    (1): ReLU(inplace=True)\n",
      "    (2): GATConv(64, 64, heads=1)\n",
      "    (3): ReLU(inplace=True)\n",
      "    (4): GATConv(64, 64, heads=1)\n",
      "    (5): ReLU(inplace=True)\n",
      "    (6): GATConv(64, 64, heads=1)\n",
      "    (7): <function global_mean_pool at 0x7f9ad0951160>\n",
      "  )\n",
      "  (reduce): Linear(in_features=64, out_features=2, bias=True)\n",
      ")\n",
      "Epoch 1   |  Train Loss: 0.514236 | Test Loss: 0.5711  |  Train Acc: 0.749342 | Test Acc: 0.7494\n",
      "Epoch 2   |  Train Loss: 0.542375 | Test Loss: 0.5847  |  Train Acc: 0.743760 | Test Acc: 0.7442\n",
      "Epoch 3   |  Train Loss: 0.511722 | Test Loss: 0.5638  |  Train Acc: 0.750086 | Test Acc: 0.7490\n",
      "Epoch 4   |  Train Loss: 0.527575 | Test Loss: 0.5580  |  Train Acc: 0.750267 | Test Acc: 0.7506\n",
      "Epoch 5   |  Train Loss: 0.586410 | Test Loss: 0.5502  |  Train Acc: 0.759505 | Test Acc: 0.7594\n",
      "Epoch 6   |  Train Loss: 0.445025 | Test Loss: 0.5579  |  Train Acc: 0.754668 | Test Acc: 0.7547\n",
      "Epoch 7   |  Train Loss: 0.530031 | Test Loss: 0.5620  |  Train Acc: 0.754561 | Test Acc: 0.7554\n",
      "Epoch 8   |  Train Loss: 0.518221 | Test Loss: 0.5364  |  Train Acc: 0.748723 | Test Acc: 0.7482\n",
      "Epoch 9   |  Train Loss: 0.516078 | Test Loss: 0.5488  |  Train Acc: 0.761081 | Test Acc: 0.7617\n",
      "Epoch 10  |  Train Loss: 0.514174 | Test Loss: 0.5496  |  Train Acc: 0.756155 | Test Acc: 0.7567\n",
      "Epoch 11  |  Train Loss: 0.627623 | Test Loss: 0.5548  |  Train Acc: 0.752649 | Test Acc: 0.7528\n",
      "Epoch 12  |  Train Loss: 0.543923 | Test Loss: 0.5390  |  Train Acc: 0.753630 | Test Acc: 0.7519\n",
      "Time: 18471.57256 sec\n",
      "Complete.\n"
     ]
    }
   ],
   "source": [
    "torch.manual_seed(0)\n",
    "number_of_hidden_channels = batch_size\n",
    "num_of_features = x_data_proc.shape[2]\n",
    "num_of_classes  = np.unique(y_data_proc).shape[0]\n",
    "number_attention_heads = 8\n",
    "dropout1 = 0.15\n",
    "dropout2 = 0.4\n",
    "lr = 5e-3\n",
    "model = GAT(number_of_features=num_of_features, \n",
    "            hidden_channels=number_of_hidden_channels, \n",
    "            number_of_classes=num_of_classes, \n",
    "            dropout1=dropout1, \n",
    "            dropout2=dropout2,\n",
    "            number_attention_heads=number_attention_heads)\n",
    "print(model)\n",
    "optimizer = torch.optim.Adam(model.parameters(), lr=lr, weight_decay=5e-4)\n",
    "loss_fn = torch.nn.CrossEntropyLoss() #F.nll_loss()\n",
    "epochs= 12\n",
    "training = train_GAT(model=model,\n",
    "                 optimizer=optimizer,\n",
    "                 loss_fn=loss_fn,\n",
    "                 train_dataloader=train_dataloader,\n",
    "                 test_dataloader=test_dataloader,\n",
    "                 epochs=epochs)"
   ]
  },
  {
   "cell_type": "code",
   "execution_count": 66,
   "metadata": {},
   "outputs": [
    {
     "data": {
      "text/plain": [
       "<matplotlib.legend.Legend at 0x7f84ba9f6c70>"
      ]
     },
     "execution_count": 66,
     "metadata": {},
     "output_type": "execute_result"
    },
    {
     "data": {
      "image/png": "[encoded data removed]",
      "text/plain": [
       "<Figure size 576x360 with 1 Axes>"
      ]
     },
     "metadata": {
      "needs_background": "light"
     },
     "output_type": "display_data"
    }
   ],
   "source": [
    "# Plot the training accuracy\n",
    "fig = plt.figure(figsize=(8,5))\n",
    "plt.plot(training['history']['train_loss'],c='b',label='Train Loss')\n",
    "plt.plot(training['history']['test_loss'],c='g',label='Test Loss')\n",
    "plt.plot(training['history']['train_accuracy'],c='cyan',label='Train Loss')\n",
    "plt.plot(training['history']['test_accuracy'],c='darkorange',label='Test Loss')\n",
    "plt.title('Training History')\n",
    "plt.xlabel('Epoch')\n",
    "plt.ylabel('Accuracy')\n",
    "plt.legend()"
   ]
  },
  {
   "cell_type": "code",
   "execution_count": 67,
   "metadata": {},
   "outputs": [
    {
     "name": "stderr",
     "output_type": "stream",
     "text": [
      "625it [01:53,  5.51it/s]"
     ]
    },
    {
     "name": "stdout",
     "output_type": "stream",
     "text": [
      "Accuracy for GCAT:  tensor(0.7617)\n"
     ]
    },
    {
     "name": "stderr",
     "output_type": "stream",
     "text": [
      "\n"
     ]
    }
   ],
   "source": [
    "model = copy.deepcopy(training['model'])\n",
    "model.eval()\n",
    "num_correct = 0\n",
    "size = len(test_dataloader.dataset)\n",
    "# Compare to initialized test_data = y_data_proc[train_index:]\n",
    "test_predicitons = torch.zeros((len(test_data),1))\n",
    "for i,data in tqdm(enumerate(test_dataloader)):  # Iterate in batches over the training/test dataset.\n",
    "    out = model(data.x, data.edge_index, data.edge_attr,data.batch)  \n",
    "    pred = out.argmax(dim=1)  # Use the class with highest probability.\n",
    "    num_correct += (pred==data.y).sum().int()\n",
    "    if len(test_data)<(i+1)*batch_size:\n",
    "        test_predicitons[i*batch_size:] = pred.reshape((len(test_data)-i*batch_size,1))\n",
    "    else:\n",
    "        test_predicitons[i*batch_size:(i+1)*batch_size] = pred.reshape((batch_size,1))\n",
    "print('Accuracy for GCAT: ',num_correct/size)"
   ]
  },
  {
   "cell_type": "code",
   "execution_count": 68,
   "metadata": {},
   "outputs": [
    {
     "data": {
      "image/png": "[encoded data removed]",
      "text/plain": [
       "<Figure size 288x216 with 2 Axes>"
      ]
     },
     "metadata": {
      "needs_background": "light"
     },
     "output_type": "display_data"
    }
   ],
   "source": [
    "from sklearn.metrics import confusion_matrix\n",
    "# Calculate the confusion matrix\n",
    "conf_matrix = confusion_matrix(y_true=y_data_proc[train_index:], y_pred=test_predicitons)\n",
    "# Print the confusion matrix using Matplotlib\n",
    "fig, ax = plt.subplots(figsize=(4, 3))\n",
    "im = ax.imshow(conf_matrix, cmap=plt.cm.Blues, alpha=0.3)\n",
    "for i in range(conf_matrix.shape[0]):\n",
    "    for j in range(conf_matrix.shape[1]):\n",
    "        ax.text(x=j, y=i,s=conf_matrix[i, j], va='center', ha='center', size='xx-large')\n",
    "plt.xlabel('Pred', fontsize=18)\n",
    "plt.ylabel('True', fontsize=18)\n",
    "plt.title('Confusion Matrix for GCAT', fontsize=18)\n",
    "plt.xticks(ticks=[0,1],labels=['Gluon','Quark'])\n",
    "plt.yticks(ticks=[0,1],labels=['Gluon','Quark'])\n",
    "plt.colorbar(im)\n",
    "plt.show()"
   ]
  },
  {
   "cell_type": "markdown",
   "metadata": {},
   "source": [
    "## Comparison Between Architecture 1: GCN and Architecture 2: GCAT\n",
    "\n",
    "Trained each on 160k out of 200k randomly chosen samples from the full 2M jets. Tested on 40k.\n",
    "\n",
    "\n",
    "I. GCN\n",
    "\n",
    "1. Optimizer: Adam , $lr = 5 \\times 10^{-3}$\n",
    "2. Loss: Cross Entropy Loss\n",
    "3. Epochs: $50$\n",
    "4. Structure: (see print out above)\n",
    "- Dropout ratio of 0.2\n",
    "- Three Hidden Graph Convolutional layers\n",
    "- ReLU activation after the first two\n",
    "- Global Mean Pooling Layer\n",
    "- Dropout of 0.5\n",
    "- Linear layer out\n",
    "5. Accuracy: 0.7694 (see confusion matrix above)\n",
    "6. Run time on CPU: 1.5 hours\n",
    "\n",
    "II. GCAT\n",
    "\n",
    "1. Optimizer: Adam , $lr = 5 \\times 10^{-3}$\n",
    "2. Loss: Cross Entropy Loss\n",
    "3. Epochs: $12$\n",
    "4. Structure: (see print out above)\n",
    "- Dropout ratio of 0.4\n",
    "- Attention Network with 8 attention heads\n",
    "- Droput of 0.4\n",
    "- Out attention layer\n",
    "- Four Hidden Feed forward Graph Attention layers\n",
    "- ReLU activation after the first three\n",
    "- Global Mean Pooling Layer\n",
    "- Linear layer out (with functional ELU and softmax applied)\n",
    "5. Accuracy: 0.7617 (see confusion matrix above)\n",
    "6. Run time on CPU: 4 hours. Note: Run on GPU.\n",
    "\n",
    "The standard graph convolutional network (GCN) seemed to perform well with an accuracy of about $77 \\%$. Increasing the number of layers in this network was not shown to significantly increase performance. A run time of one and a half hours is quite good with 50 epochs and a training set of 160k samples on a CPU.\n",
    "\n",
    "The graph attention network (GCAT) performed slightly worse $76\\%$ than the GCN over less epochs, $12$.\n",
    "The attention heads did not seem to be enough to achieve highly accurate results, which is why more attention layers were added in sequence after the attention head output. This network also had a significantly longer training time of about five hours on a CPU.\n",
    "\n",
    "Optimizing both network hyperparameters was challenging. Training the GCAT over more epochs may have offered a more fair comparison, however, training results seemed to fluctuate about a central best value even over longer training times."
   ]
  },
  {
   "cell_type": "markdown",
   "metadata": {},
   "source": [
    "---\n",
    "\n",
    "# Task III: Open Task on Quantum Computing\n",
    "\n",
    "1. Please comment on quantum computing or quantum machine learning. You can also comment on one quantum algorithm or one quantum software you are familiar with. You can also suggest methods you think are good and you would like to work on. Please use your own understanding. Comments copied from the internet will not be considered.\n",
    "\n",
    "\n",
    "$\\qquad$ A transition to quantum hardware and software has the potential to considerably accelerate processes within our interconnected devices. From information storage to transaction times to security, quantum computing and quantum machine learning, which are based on the foundations of quantum theory, should be able to significantly outperform classical computers by reducing computational complexity. They do this through the generalization of binary classical computer bits $(0,1)$ to quantum computer qubits (photons, electrons, etc.) which can be altered by gates (e.g. Hadammard, Rotation, Controlled Not, Swap etc.) and take on superpositions and entanglements of $|0\\rangle,|1\\rangle$ states , allowing for substantially more compute. The first devices to scale up to quantum processors with tens to hundreds of qubits have been noisy intermediate scale quantum devices (NISQ). Companies such as IBM, Google, D-Wave, and iONQ have already developed functional NISQ devices. While these devices have verified the superiority of algorithm's such as Shor's for factorization and Grover's for searching with respect to their order $O$ time complexities, they are subject to disturbances or quantum decoherence, and therefore, the circuit and gates within these circuits, which act on qubits, must be improved.  Many API's, including Google's Cirq, IBM's Qiskit, and Pennylane, also exist for building quantum circuits and quantum machine learning (QML) algorithms to be run on quantum computers.\n",
    "\n",
    "$\\qquad$ The superposition, entanglement, and interference aspects of qubits make them very powerful. Superposition of states allows for states to take on any properly normalized combination of a $|0\\rangle$ and $|1\\rangle$ state, i.e. $|\\psi\\rangle = c_1|0\\rangle + c_2|1\\rangle$ such that $c_1^2 + c_2^2 =1$, rather than either a $0$ or a $1$ in a classical binary system. Superposition allows for the simultaneous measurment of multiple processes (options) in order to optimize a Hamiltonian function (find a solution rapidly) upon measurement. Entanglement allows states to interact with one another leading to strongly correlated systems. By measuring one of these states, information about connected states can also be retrieved. One simple example of such a state is the Bell state, which can be constructed via a simple quantum circuit. Interference allows for the correction of $|0\\rangle$ and $|1\\rangle$ states for more accurate output results.\n",
    "\n",
    "$\\qquad$ Quantum algorithms which I have worked on to solve NP-Hard problems include the semi-classical quantum unconstrained binary optimization (QUBO) and quantum approximate optimization algorithm (QAOA). These algorithms work well for solving lattice configured or graphically structured data problems, including knapsack, max cut, stable marriage, clustering etc. problems. QUBO's require you to set up an Ising spin function up to quadratic order which labels the weights of each state and the interactions between them. This resembles the formation of an Ising Hamiltonian in quantum mechanics which we seek to minimize the energy (expectation value, $x^\\dagger\\hat{H}x$) of with respect to a stable configuration of the states $(x_i \\in \\{0,1\\}$ interacting within the system. One such example is of the earth mover's distance Hamiltonian,\n",
    "$$    H_\\text{EMD} = \\alpha \\sum_{j=1}^N \\left(1 - \\sum_{i=1}^N X_{ij}\\right)^2 + \\alpha \\sum_{i=1}^N \\left(1 - \\sum_{j=1}^N X_{ij}\\right)^2 + \\beta \\sum_{i=1}^N \\sum_{j=1}^N \\omega_{ij} X_{ij}$$\n",
    "where $X_{ij} \\in \\{ 0,1\\}$, the first two terms attempt to ensure the mapping is one-to-one and onto between points, i.e. every column and row of the array labelling the different points in the graph has a single value of $1$, and the final terms takes into account a weight between points $\\omega_{ij}$, e.g. the Euclidean distance in a spatial point graph, which we wish to minimize. These Hamiltonians are easy to convert to quantum unitary, i.e. $U^\\dagger U = \\mathbb{I}$, operators for a quantum computer to read by first changing the expression to be in terms of the operators which act on the states in our system and exponentiating this with a factor of $-i\\alpha$, however, still tend to be too difficult to implement directly. Simplifications can be used to implement them, such as the Trotter expansion. The QAOAs use a similar concept with constraints induced by Hamiltonians of the form above. These quantum algorithms are run on quantum computers and find approximate solutions to combinatorial optimization problems. An integer $p$ determines a specific ansatz for the initial parameters of the QAOA. This ansatz based on $p$ can affect the final solution accuracy, and QAOA can generalize to quantum graph convolutional neural networks.\n",
    "\n",
    "$\\qquad$ The variational quantum eigensolver algorithm and quantum Fourier transform methods, as well as other useful Hamiltonian expansions and decompositions would be useful and interesting to learn beyond this."
   ]
  },
  {
   "cell_type": "markdown",
   "metadata": {},
   "source": [
    "---\n",
    "\n",
    "## Task V: Quantum Graph Neural Network (QGNN) \n",
    "In task II you already worked with a classical GNN. \n",
    "\n",
    "\n",
    "1. Describe a possibility for a QGNN circuit, which takes advantage of the graph representation of the data\n",
    "2. Implement and draw the circuit.\n",
    "\n",
    "[1] Verdon, G., McCourt, T., Luzhnica, E., Singh, V., Leichenauer, S., & Hidary, J. (2019). Quantum Graph Neural Networks. arXiv preprint arXiv:1909.12264."
   ]
  },
  {
   "cell_type": "markdown",
   "metadata": {},
   "source": [
    "1. A classical GNN maps a given graph structure into a lower dimensional vector space with characteristic features assigned to nodes and edges. This representation should preserve the topological graph structure, i.e. which nodes are connected, along with the deterministic features of the nodes and attributes of the edges. In the quantum graph structure, classical nodes can be mapped to quantum states, features to the characteristics of the states, edges to the interactions between states, and edge attributes to the strength of the interactions between the quantum states which form the graph. The larger structure of a classical model can then be embedded into the Hamiltonian operator you choose to act on the specified quantum states within the graph which will ultimately determine the dynamics and final state of the quantum algorithm.\n",
    "\n",
    "\n",
    "## Graph Clustering with Quantum Graph Convolutional Networks\n",
    "A possibility for a QGNN would be to assign possible states $\\{ |0\\rangle,|1 \\rangle\\}$ to each vertex $v$ of the graph $\\mathcal{G} = \\{ \\mathcal{V}, \\mathcal{E} \\}$ with vertices $v \\in \\mathcal{V}$ and edges $e \\in \\mathcal{E}$, i.e. we assign a Hilbert space $\\mathcal{H}_{\\mathcal{v}}$ to each vertex. One can do the same for the edges $\\mathcal{H}_{e}$. It is the collection of these individual spaces, or possible characterization, which can create the global quantum graph structure where $\\mathcal{H}_{\\mathcal{V}} = \\bigotimes_{\\mathcal{v}} \\mathcal{H}_\\mathcal{V}$, $\\mathcal{H}_{\\mathcal{E}} = \\bigotimes_{\\mathcal{e}} \\mathcal{H}_\\mathcal{E}$, and the entire space becomes $$\\mathcal{H}_{\\mathcal{V} \\otimes \\mathcal{E}} = \\mathcal{H}_{\\mathcal{V}} \\otimes \\mathcal{H}_{\\mathcal{E}}$$. \n",
    "Each vertex $i$ can be thought of as a qubit with a superposition of states from its respective Hilbert space $\\{ |0\\rangle,|1 \\rangle\\} \\in \\mathcal{H}_i$. \n",
    "\n",
    "Now, we must set up our optimization algorithm for the circuit, which will depend on out choice of Hamiltonian. Fortunately, the classical Hamiltonian for a QUBO algorithm is in terms of spins $x_i \\in \\{0,1\\}$, which can be mapped to spins $f(x_i)=(2x_i-1): x_i \\to s_i \\in \\{ -1 , 1\\}$, and thus, can be generalized to a quantum operator. The general QUBO optmization function can be written as\n",
    "$$H_{Classical} (\\mathcal{W}_{ij},\\mathcal{U}_i,\\mathcal{Q}_0,s_i,\\mathcal{x}_i) = \\sum_{(i,j) \\in \\mathcal{E}} \\mathcal{W}_{ij} s_i s_j + \\sum_{i} \\mathcal{U}_i s_i + \\mathcal{Q}_0\\underbrace{\\sum_i \\mathcal{x}_i}_{Transverse}$$\n",
    "and can be mapped to an operator via\n",
    "$$s_i \\to \\sigma_i^z \\equiv Z_i$$\n",
    "$$\\mathcal{x}_i \\to \\sigma_i^\\mathcal{x} \\equiv \\mathcal{X}_i$$\n",
    "i.e. the Pauli matrices, where $\\mathcal{W}_{ij},\\mathcal{U}_i,\\mathcal{Q}_0$ are either a priori determined or can be optimized through the algorithm. Our quantum graph-inherited optimization function will take the form\n",
    "$$H_{Quantum} (\\mathcal{W}_{ij},\\mathcal{U}_i,\\mathcal{Q}_0) = \\underbrace{\\sum_{(i,j) \\in \\mathcal{E}} \\mathcal{W}_{ij} \\sigma_i^z \\sigma_j^z}_{Interactions Between Nodes (qubits)} + \\underbrace{\\sum_{i} \\mathcal{U}_i \\sigma_i^z}_{Node (qubit) weights} + \\mathcal{Q}_0 \\underbrace{\\sum_i \\sigma_i^\\mathcal{x}}_{Transverse}$$\n",
    "By learning an infinitesimal parameter $\\gamma_q$, we can turn this Hamiltonian into a unitary transformation to act on the initial state qubits\n",
    "$$\\mathbb{U}(\\mathcal{W}_{ij},\\mathcal{U}_i,\\mathcal{Q}_0,\\gamma_q) = \\mathbb{I} + (-i)\\gamma_q H_{Quantum,q} (\\mathcal{W}_{ij},\\mathcal{U}_i,\\mathcal{Q}_0) + \\mathcal{O}(\\gamma^2)$$\n",
    "$$= e^{-i\\gamma_q H_{Quantum,q} (\\mathcal{W}_{ij},\\mathcal{U}_i,\\mathcal{Q}_0)}$$\n",
    "Applying this transformation $Q$ times will correspond to running our network over $Q$ layers. Thus will build up a full trainable parameter transformation\n",
    "$$\\prod_{q=1}^Q \\mathbb{U}_q =\\prod_{q=1}^Q e^{-i\\gamma_q H_{Quantum,q} (\\mathcal{W}_{ij},\\mathcal{U}_i,\\mathcal{Q}_0)} = e^{-i\\gamma_q H_{Quantum,q} (\\mathcal{W}_{ij},\\mathcal{U}_i,\\mathcal{Q}_0)}$$\n",
    "where the final $\\gamma_q H_{Quantum,q}$ is to be summed over $q$. We can then take the expectation value of the final evolved state, and minimize this with respect to our graph structure. I will attempt to implement a simple Quantum Graph Convolutional Neural Network (QGCNN) below based on unsupervised graph clustering with two clustewrs. I will take two jet clusters from the Pythia8 dataset up to multiplicity 10 and identify each cluster with respect to the rapidity $\\eta$ and azimuthal angle $\\phi$ using the Hamiltonian\n",
    "$$H = \\sum_{(i,j)\\in\\mathcal{E}} d_{ij} \\left(\\frac{\\mathbb{I}_i + \\sigma_i^z}{2}\\right)\\left(\\frac{\\mathbb{I}_j + \\sigma_j^z}{2}\\right) + \\left(\\sum_{i=1}^{qubits} \\sigma_i^z \\right)^2$$\n",
    "$$= \\frac{1}{4} \\sum_{(i,j)\\in\\mathcal{E}} d_{ij} \\left(\\mathbb{I}_i\\mathbb{I}_j + \\mathbb{I}_i\\sigma_j^z +\\sigma_i^z\\mathbb{I}_j + \\sigma_i^z\\sigma_j^z\\right) + \\left(\\sum_{i=1}^{qubits} \\sigma_i^z \\right) \\times \\left(\\sum_{i=1}^{qubits} \\sigma_i^z \\right) $$\n",
    "$$= \\frac{1}{4} \\sum_{(i,j)\\in\\mathcal{E}} d_{ij} \\left(\\mathbb{I}_i\\mathbb{I}_j + \\mathbb{I}_i\\sigma_j^z +\\sigma_i^z\\mathbb{I}_j + \\sigma_i^z\\sigma_j^z\\right)  + \\sum_{i=1,j=1}^{qubits} \\sigma_i^z \\sigma_j^z$$\n",
    "with $n = 4$ qubits, $q=10$ layers, and all possible combinations of edges will be included. The distances will be precomputed as $d_{ij} =\\Delta R_{ij} = \\sqrt{(\\eta_i-\\eta_j)^2+(\\phi_i-\\phi_j)^2}$. The loss used will be that of \n",
    "$$\\mathcal{L}(\\gamma_q) = 1- \\frac{1}{N} \\sum_{i=1}^{qubits}|\\langle \\psi_{rotated} | U_i(\\theta, \\gamma_q) | \\psi_0 \\rangle |^2$$\n",
    "\n",
    "\n",
    "The circuit will rotate a low energy state via the weights of the hamiltonian, which we know as we have the location of points in our graph. The model will train on new weights $\\mathcal{W}_{qr}$ and rotations $\\eta_q$ and act on a set of qubits via coupling and sequential gate actions with a bias, i.e. $(1): I_iI_j,I_iRZ_j,RZ_iI_j,MultiRZ$ with weights for interaction term, $(2): RZ_i,RZ_j$ with bias weights on all combinations of qubits, $(3):RX,RY$ with bias weights on each qubit. Enforce a swap test with a control qubit and find the expectation value of this control qubit with respect to PauliZ (expect a value of 1). Normalize the sum of these iterations over $\\eta_q$ by $N_\\eta$, the number of angles we iterate over. A $1$ minus this term (our loss) should yeild a result of 0.\n",
    "\n",
    "\n",
    "It should be noted that to perform the same gluon and jet classification task we will need to use the Graph Isomorphism Classification via Quantum Graph Convolutional Networks from [1] Verdon et al. or egoGraphs via [2] Xing Ai, Luzhe Sun, Junchi Yan, Zhihong Zhang, and Edwin R Hancock, Towards Quantum Graph Neural Networks: An Ego-Graph Learning Approach (2015)\n",
    "\n",
    "2. See Below"
   ]
  },
  {
   "cell_type": "code",
   "execution_count": 374,
   "metadata": {},
   "outputs": [],
   "source": [
    "#!pip install --no-cache-dir networkx ipywidgets"
   ]
  },
  {
   "cell_type": "code",
   "execution_count": 458,
   "metadata": {},
   "outputs": [],
   "source": [
    "import pennylane as qml\n",
    "from matplotlib import pyplot as plt\n",
    "from pennylane import numpy as np\n",
    "import scipy\n",
    "import networkx as nx\n",
    "import copy"
   ]
  },
  {
   "cell_type": "code",
   "execution_count": 459,
   "metadata": {},
   "outputs": [],
   "source": [
    "def get_distance(tuple1,tuple2):\n",
    "    return np.sqrt((tuple1[0]-tuple2[0])**2+(tuple1[1]-tuple2[1])**2)"
   ]
  },
  {
   "cell_type": "markdown",
   "metadata": {},
   "source": [
    "Plot of chosen jets for clustering"
   ]
  },
  {
   "cell_type": "code",
   "execution_count": 460,
   "metadata": {},
   "outputs": [
    {
     "data": {
      "text/plain": [
       "Text(0, 0.5, 'Azimuthal Angle')"
      ]
     },
     "execution_count": 460,
     "metadata": {},
     "output_type": "execute_result"
    },
    {
     "data": {
      "image/png": "[encoded data removed]",
      "text/plain": [
       "<Figure size 432x288 with 1 Axes>"
      ]
     },
     "metadata": {
      "needs_background": "light"
     },
     "output_type": "display_data"
    }
   ],
   "source": [
    "i=0\n",
    "j=27\n",
    "M=2\n",
    "plt.scatter(x_data[i,:M,1],x_data[i,:M,2]/np.pi/2,c='r')\n",
    "plt.scatter(x_data[j,:M,1],x_data[j,:M,2]/np.pi/2,c='b')\n",
    "plt.title('Jet Cluster')\n",
    "plt.xlabel('Rapidity')\n",
    "plt.ylabel('Azimuthal Angle')"
   ]
  },
  {
   "cell_type": "code",
   "execution_count": 461,
   "metadata": {},
   "outputs": [],
   "source": [
    "jets_chosen = [0,27]\n",
    "pos = {M*i%26+j: (x_data[i,j,1]/np.pi/2, x_data[i,j,2]/np.pi/2) for i in jets_chosen for j in range(M)}\n",
    "make_jet_edges = [ (i,j) for i in pos for j in pos if i<j ]\n",
    "make_true_edges = [ (i,j) for i in pos for j in pos if (i<M and j<M and i<j) or (i>=M and j>=M and i<j) ]"
   ]
  },
  {
   "cell_type": "code",
   "execution_count": 462,
   "metadata": {},
   "outputs": [],
   "source": [
    "# number of qubits\n",
    "qubit_number = M*2\n",
    "qubits = range(qubit_number)"
   ]
  },
  {
   "cell_type": "code",
   "execution_count": 463,
   "metadata": {},
   "outputs": [
    {
     "data": {
      "image/png": "[encoded data removed]",
      "text/plain": [
       "<Figure size 432x288 with 1 Axes>"
      ]
     },
     "metadata": {},
     "output_type": "display_data"
    }
   ],
   "source": [
    "ising_graph = nx.DiGraph()\n",
    "ising_graph.add_nodes_from(pos)\n",
    "ising_graph.add_edges_from(make_jet_edges)\n",
    "nx.draw_networkx(ising_graph, pos, node_color='red', edgelist=make_jet_edges)"
   ]
  },
  {
   "cell_type": "code",
   "execution_count": 464,
   "metadata": {},
   "outputs": [
    {
     "data": {
      "image/png": "[encoded data removed]",
      "text/plain": [
       "<Figure size 432x288 with 1 Axes>"
      ]
     },
     "metadata": {},
     "output_type": "display_data"
    }
   ],
   "source": [
    "solution_ising_graph = nx.DiGraph()\n",
    "solution_ising_graph.add_nodes_from(pos)\n",
    "solution_ising_graph.add_edges_from(make_true_edges)\n",
    "color_map = []\n",
    "for node in solution_ising_graph:\n",
    "    if node < M:\n",
    "        color_map.append('blue')\n",
    "    else: \n",
    "        color_map.append('green')  \n",
    "nx.draw_networkx(solution_ising_graph, pos, node_color=color_map, edgelist=make_true_edges)#node_size=60,"
   ]
  },
  {
   "cell_type": "code",
   "execution_count": 466,
   "metadata": {},
   "outputs": [],
   "source": [
    "# Choose the target parameters by seeing which edges belong to each jet\n",
    "target_weights = [get_distance(pos[edge[0]],pos[edge[1]])*1000*-1 if edge in solution_ising_graph.edges else 100  for edge in ising_graph.edges]#np.random.uniform(low=-3,high=3,size=2**qubit_number) \n",
    "target_bias = [1 for i in range(qubit_number)]\n",
    "ninteraction_terms=4"
   ]
  },
  {
   "cell_type": "code",
   "execution_count": 467,
   "metadata": {},
   "outputs": [],
   "source": [
    "def create_hamiltonian_matrix(n_qubits, graph, weights, bias):\n",
    "    full_matrix = np.zeros((2 ** n_qubits, 2 ** n_qubits))\n",
    "    # Creates the interaction component of the Hamiltonian\n",
    "    for term in range(ninteraction_terms):\n",
    "        for i, edge in enumerate(graph.edges):\n",
    "            interaction_term = 1#get_distance(pos[edge[0]],pos[edge[1]])\n",
    "            for qubit in range(0, n_qubits):\n",
    "                if qubit in edge:\n",
    "                    if term==0:\n",
    "                        interaction_term  = np.kron(interaction_term, np.identity(2))#/2\n",
    "                    elif term==1:\n",
    "                        if qubit==edge[0]:\n",
    "                            interaction_term = np.kron(interaction_term, np.identity(2))#/2\n",
    "                        elif qubit==edge[1]:\n",
    "                            interaction_term = np.kron(interaction_term, qml.matrix(qml.PauliZ)(0))#/2\n",
    "                    elif term==2:\n",
    "                        if qubit==edge[0]:\n",
    "                            interaction_term = np.kron(interaction_term, qml.matrix(qml.PauliZ)(0))#/2\n",
    "                        elif qubit==edge[1]:\n",
    "                            interaction_term = np.kron(interaction_term, np.identity(2))#/2\n",
    "                    elif term==3:\n",
    "                        interaction_term = np.kron(interaction_term, qml.matrix(qml.PauliZ)(0))#/2\n",
    "                else:\n",
    "                    interaction_term = np.kron(interaction_term, np.identity(2))\n",
    "            full_matrix += weights[i]*interaction_term\n",
    "    # Creates the bias components of the matrix\n",
    "    for i in range(0, n_qubits):\n",
    "        z_term = 1 #x_term = 1\n",
    "        for j in range(0, n_qubits):\n",
    "            z_term = np.kron(z_term, qml.matrix(qml.PauliZ)(0))\n",
    "        full_matrix += 4*bias[i]*z_term  #+ x_term\n",
    "    return full_matrix"
   ]
  },
  {
   "cell_type": "code",
   "execution_count": 468,
   "metadata": {},
   "outputs": [
    {
     "data": {
      "image/png": "[encoded data removed]",
      "text/plain": [
       "<Figure size 360x216 with 2 Axes>"
      ]
     },
     "metadata": {
      "needs_background": "light"
     },
     "output_type": "display_data"
    }
   ],
   "source": [
    "# Prints a visual representation of the Hamiltonian matrix\n",
    "ham_matrix = create_hamiltonian_matrix(qubit_number, solution_ising_graph, target_weights, target_bias)\n",
    "plt.figure(figsize=(5,3))\n",
    "plt.imshow(ham_matrix, cmap=\"RdBu\")\n",
    "plt.title('Clustering Hamiltonian')\n",
    "plt.colorbar()\n",
    "plt.show()"
   ]
  },
  {
   "cell_type": "code",
   "execution_count": 469,
   "metadata": {},
   "outputs": [],
   "source": [
    "# # Prepare DATA\n",
    "# #The collection of quantum data needed to run the QGRNN has two components: \n",
    "# #(i) copies of a low-energy state\n",
    "# #(ii) a collection of time-evolved states, \n",
    "# #each of which are simply the low-energy state evolved to different times. \n",
    "# #The following is a low-energy state of the target Hamiltonian:\n",
    "np.random.seed(0)\n",
    "low_energy_state_tensor = np.random.normal(loc=0.0, scale=0.1, size=2**qubit_number)*1 + 1j*np.random.normal(loc=0.0, scale=0.1, size=2**qubit_number)\n",
    "normalize_factor = np.sqrt(np.abs(np.conj(low_energy_state_tensor)@low_energy_state_tensor))\n",
    "low_energy_state_tensor =low_energy_state_tensor /normalize_factor\n",
    "low_energy_state =[ (low_energy_state_tensor[i].item()) for i in range(low_energy_state_tensor.shape[0])]"
   ]
  },
  {
   "cell_type": "code",
   "execution_count": 470,
   "metadata": {},
   "outputs": [
    {
     "data": {
      "text/plain": [
       "tensor(0.64157327, requires_grad=True)"
      ]
     },
     "execution_count": 470,
     "metadata": {},
     "output_type": "execute_result"
    }
   ],
   "source": [
    "normalize_factor"
   ]
  },
  {
   "cell_type": "code",
   "execution_count": 471,
   "metadata": {},
   "outputs": [
    {
     "name": "stdout",
     "output_type": "stream",
     "text": [
      "Energy Expectation: (-145.3042061272311-37.20406300776014j)\n",
      "Ground State Energy: -424.48636321462385\n"
     ]
    }
   ],
   "source": [
    "exp = np.vdot(np.conj(low_energy_state), (ham_matrix @ low_energy_state))\n",
    "energy_exp = np.real_if_close(exp)\n",
    "print(f\"Energy Expectation: {energy_exp}\")\n",
    "\n",
    "ground_state_energy = np.real_if_close(min(np.linalg.eig(ham_matrix)[0]))\n",
    "print(f\"Ground State Energy: {ground_state_energy}\")"
   ]
  },
  {
   "cell_type": "code",
   "execution_count": 472,
   "metadata": {},
   "outputs": [],
   "source": [
    "def state_evolve(hamiltonian, qubits, eta):\n",
    "    U = scipy.linalg.expm(-1j * hamiltonian * eta)\n",
    "    qml.QubitUnitary(U, wires=qubits)"
   ]
  },
  {
   "cell_type": "code",
   "execution_count": 473,
   "metadata": {},
   "outputs": [],
   "source": [
    "# Learn H\n",
    "def qgcnn_layer(weights, bias, bias2, bias3, qubits, graph, step):\n",
    "    #initial_state = np.random.choice(len(qubits),size=len(qubits),replace=False)\n",
    "    # Applies a layer of RZZ gates (based on a graph)\n",
    "    for term in range(ninteraction_terms):\n",
    "        for i, edge in enumerate(graph.edges):\n",
    "            if term==0:\n",
    "                qml.Identity(wires=edge[0])\n",
    "                qml.Identity(wires=edge[1])\n",
    "            elif term==1:\n",
    "                qml.Identity(wires=edge[0])\n",
    "                qml.RZ(weights[i] * step, wires=edge[1])\n",
    "            elif term==2:\n",
    "                qml.RZ(weights[i] * step, wires=edge[0])\n",
    "                qml.Identity(wires=edge[1])\n",
    "            elif term==4:\n",
    "                qml.MultiRZ(weights[i] * step, wires=(edge[0], edge[1]))\n",
    "    # Applies a layer of RZ gates\n",
    "    for i, qubit1 in enumerate(qubits):\n",
    "        for j, qubit2 in enumerate(qubits):\n",
    "            qml.RZ(4 * bias[j] * step, wires=qubit2)\n",
    "            qml.RZ(4 * bias[i] * step, wires=qubit1)\n",
    "    # Applies a layer of RX gates\n",
    "#     for i,qubit1 in enumerate(qubits):\n",
    "#         qml.RX(2*bias2[i] * step, wires=qubit1)\n",
    "#         qml.RY(2*bias3[i] * step, wires=qubit1)"
   ]
  },
  {
   "cell_type": "code",
   "execution_count": 474,
   "metadata": {},
   "outputs": [],
   "source": [
    "def swap_test(control, register1, register2):\n",
    "    qml.Hadamard(wires=control)\n",
    "    for reg1_qubit, reg2_qubit in zip(register1, register2):\n",
    "        qml.CSWAP(wires=(control, reg1_qubit, reg2_qubit))\n",
    "    qml.Hadamard(wires=control)"
   ]
  },
  {
   "cell_type": "code",
   "execution_count": 475,
   "metadata": {},
   "outputs": [],
   "source": [
    "# Define Registers\n",
    "reg1 = copy.copy([i for i in pos])  # load original graph\n",
    "reg2 = copy.copy([i+len(pos) for i in pos])  # Shift indices for new graph (pos are same)\n",
    "control = 2*qubit_number  # Index of control qubit\n",
    "step = 0.01  # Trotter step size"
   ]
  },
  {
   "cell_type": "code",
   "execution_count": 476,
   "metadata": {},
   "outputs": [],
   "source": [
    "def qgcnn(weights, bias, bias2, bias3, eta):\n",
    "    # Prepares the low energy state in the two registers\n",
    "    qml.QubitStateVector(np.kron(low_energy_state,low_energy_state), wires=reg1+reg2)\n",
    "    # Evolves the first qubit register with the time-evolution circuit to\n",
    "    # prepare a piece of quantum data\n",
    "    state_evolve(ham_matrix, reg1, qml.math.toarray(eta))\n",
    "    # QGCNN layers to the second qubit register\n",
    "    depth = qml.math.toarray(eta) / step  # P = t/Delta\n",
    "    for _ in range(0, int(depth)):      #new\n",
    "        qgcnn_layer(weights, bias, bias2, bias3, reg2, ising_graph, step)\n",
    "    # SWAP test between registers (sets of states or qubits)\n",
    "    swap_test(control, reg1, reg2)\n",
    "    # Expectation of SWAP test\n",
    "    return qml.expval(qml.PauliZ(control))"
   ]
  },
  {
   "cell_type": "code",
   "execution_count": 477,
   "metadata": {},
   "outputs": [],
   "source": [
    "# negative fideilty cost function\n",
    "rng = np.random.default_rng(seed=0)\n",
    "def loss_fn(weights, bias, bias2, bias3, eta):\n",
    "    # Uses a number q of different trained etas (angles) and calculates the loss\n",
    "#     etas_sampled = rng.random(size=N) * max_eta\n",
    "    total_loss = 0\n",
    "    for dtheta in eta:\n",
    "        result = qgcnn_qnode(weights, bias, bias2, bias3, eta=dtheta)\n",
    "        total_loss += result\n",
    "    return 1-total_loss/N"
   ]
  },
  {
   "cell_type": "code",
   "execution_count": 478,
   "metadata": {},
   "outputs": [],
   "source": [
    "# Optimization\n",
    "# Defines the new device\n",
    "import torch\n",
    "qgcnn_dev = qml.device(\"default.qubit\", wires=2*qubit_number+1)\n",
    "# Defines the new QNode\n",
    "qgcnn_qnode = qml.QNode(qgcnn, \n",
    "                        device=qgcnn_dev , \n",
    "                        interface = 'autograd',#interface='torch', #interface = 'autograd'\n",
    "                        diff_method='backprop')\n",
    "steps = 100\n",
    "optimizer = qml.AdamOptimizer(stepsize=5e-1)\n",
    "new_weights = rng.random(size=len(ising_graph.edges), requires_grad=True) - 0.5\n",
    "new_bias = rng.random(size=qubit_number, requires_grad=True) - 0.5\n",
    "new_bias1 = rng.random(size=qubit_number, requires_grad=True) - 0.5\n",
    "new_bias2 = rng.random(size=qubit_number, requires_grad=True) - 0.5\n",
    "N = 15  # The number of pieces of quantum data that are used for each step\n",
    "max_eta = 0.1  # The maximum rotation value of theta that can be used for quantum data\n",
    "eta = rng.random(size=N,requires_grad=True)*max_eta\n",
    "initial_weights = copy.copy(new_weights)\n",
    "initial_bias = copy.copy(new_bias)\n",
    "initial_bias1 = copy.copy(new_bias1)\n",
    "initial_bias2 = copy.copy(new_bias2)\n",
    "initial_eta = copy.copy(eta)\n",
    "qubits = copy.copy(reg1)\n",
    "init_params = [new_weights, new_bias, eta]"
   ]
  },
  {
   "cell_type": "code",
   "execution_count": 479,
   "metadata": {},
   "outputs": [],
   "source": [
    "# def torch_optimize(qnode, init_params, step_num, verbose=False):\n",
    "#     for param in init_params:\n",
    "#         torch.optim.LBFGS.add_param_group(param)\n",
    "        \n",
    "#     params.requires_grad = True\n",
    "#     # In PyTorch, optimizer takes a list optimized tensors a constructor argument\n",
    "#     optimizer = torch.optim.LBFGS([params])\n",
    "#     costs = []\n",
    "#     times = []    \n",
    "#     for i in range(step_num):\n",
    "#         # Also, in PyTorch one has to define a cost closure to feed into L-BFGS \n",
    "#         start_time = time.time()\n",
    "#         def closure():\n",
    "#             optimizer.zero_grad()\n",
    "#             cost = loss_fn(params)\n",
    "#             if cost.requires_grad:\n",
    "#                 cost.backward()\n",
    "\n",
    "#             return cost.detach().numpy()\n",
    "\n",
    "#         cost = optimizer.step(closure)\n",
    "#         costs.append(cost)\n",
    "#         times.append(time.time() - start_time)\n",
    "#         if verbose and (i + 1) % 50 == 0:\n",
    "#             print(f\"Cost after step {i + 1}: {costs[-1]}\")\n",
    "\n",
    "#     return costs, times"
   ]
  },
  {
   "cell_type": "code",
   "execution_count": 480,
   "metadata": {},
   "outputs": [],
   "source": [
    "# step_num = steps\n",
    "# costs, times = torch_optimize(qgcnn_qnode, init_params, step_num, verbose=True)"
   ]
  },
  {
   "cell_type": "code",
   "execution_count": 481,
   "metadata": {},
   "outputs": [
    {
     "name": "stdout",
     "output_type": "stream",
     "text": [
      "0: ─╭QubitStateVector(M0)─╭U(M1)─────I─────────I─────────I─────────I──────────I─────────I────────\n",
      "1: ─├QubitStateVector(M0)─├U(M1)─────I─────────I─────────I─────────RZ(-1.02)──I─────────I────────\n",
      "2: ─├QubitStateVector(M0)─├U(M1)─────I─────────I─────────I─────────RZ(1.00)───RZ(1.00)──I────────\n",
      "3: ─├QubitStateVector(M0)─╰U(M1)─────I─────────I─────────I─────────RZ(1.00)───RZ(1.00)──RZ(-0.72)\n",
      "4: ─├QubitStateVector(M0)──RZ(0.04)──RZ(0.04)──RZ(0.04)──RZ(0.04)──RZ(0.04)───RZ(0.04)──RZ(0.04)─\n",
      "5: ─├QubitStateVector(M0)──RZ(0.04)──RZ(0.04)──RZ(0.04)──RZ(0.04)──RZ(0.04)───RZ(0.04)──RZ(0.04)─\n",
      "6: ─├QubitStateVector(M0)──RZ(0.04)──RZ(0.04)──RZ(0.04)──RZ(0.04)──RZ(0.04)───RZ(0.04)──RZ(0.04)─\n",
      "7: ─╰QubitStateVector(M0)──RZ(0.04)──RZ(0.04)──RZ(0.04)──RZ(0.04)──RZ(0.04)───RZ(0.04)──RZ(0.04)─\n",
      "8: ──H───────────────────────────────────────────────────────────────────────────────────────────\n",
      "\n",
      "───RZ(-1.02)──RZ(1.00)──RZ(1.00)──╭SWAP──────────────────────┤     \n",
      "───I──────────RZ(1.00)──RZ(1.00)──│─────╭SWAP────────────────┤     \n",
      "───I──────────I─────────RZ(-0.72)─│─────│─────╭SWAP──────────┤     \n",
      "───I──────────I─────────I─────────│─────│─────│─────╭SWAP────┤     \n",
      "───RZ(0.04)───────────────────────├SWAP─│─────│─────│────────┤     \n",
      "───RZ(0.04)───────────────────────│─────├SWAP─│─────│────────┤     \n",
      "───RZ(0.04)───────────────────────│─────│─────├SWAP─│────────┤     \n",
      "───RZ(0.04)───────────────────────│─────│─────│─────├SWAP────┤     \n",
      "──────────────────────────────────╰●────╰●────╰●────╰●─────H─┤  <Z>\n"
     ]
    }
   ],
   "source": [
    "# Draw one iteration of circuit based on eta=0.001 = stepsize\n",
    "print(qml.draw(qgcnn)(target_weights, target_bias, initial_bias1, initial_bias2, eta=0.01))"
   ]
  },
  {
   "cell_type": "code",
   "execution_count": 482,
   "metadata": {},
   "outputs": [
    {
     "name": "stdout",
     "output_type": "stream",
     "text": [
      "----------------------Training----------------------\n",
      "\n",
      " Step: 0  | Training Loss: 0.7017 |\n",
      " Step: 10 | Training Loss: 0.7047 |\n",
      " Step: 20 | Training Loss: 0.7005 |\n",
      " Step: 30 | Training Loss: 0.6941 |\n",
      " Step: 40 | Training Loss: 0.6945 |\n",
      " Step: 50 | Training Loss: 0.6934 |\n",
      " Step: 60 | Training Loss: 0.6930 |\n",
      " Step: 70 | Training Loss: 0.6929 |\n",
      " Step: 80 | Training Loss: 0.6929 |\n",
      " Step: 90 | Training Loss: 0.6928 |\n",
      "Training Complete.\n"
     ]
    }
   ],
   "source": [
    "# train\n",
    "print('----------------------Training----------------------')\n",
    "print()\n",
    "#start_time = time.time()\n",
    "history = {'training_loss':[]}\n",
    "for i in range(0, steps):\n",
    "    (new_weights, new_bias, new_bias1, new_bias2, eta), loss = optimizer.step_and_cost(loss_fn, new_weights, new_bias, new_bias1, new_bias2, eta)\n",
    "    history['training_loss'].append(loss)\n",
    "    if i%10==0:\n",
    "        if i==0:\n",
    "            print(' Step: {}  |'.format(i)+\n",
    "                ' Training Loss: {:.4f} |'.format(loss))#+\n",
    "                     #' Time for last step:      {:.4f}'.format(time-t))\n",
    "        else:\n",
    "            print(' Step: {} |'.format(i)+\n",
    "                    ' Training Loss: {:.4f} |'.format(loss))#+\n",
    "                     #' Time for last 10 steps:  {:.4f}'.format(time-t))\n",
    "#end_time=time.time()\n",
    "print('Training Complete.')#' Total Time: {}'.format(end_time-start_time))"
   ]
  },
  {
   "cell_type": "code",
   "execution_count": 483,
   "metadata": {},
   "outputs": [
    {
     "data": {
      "text/plain": [
       "Text(0, 0.5, 'Loss')"
      ]
     },
     "execution_count": 483,
     "metadata": {},
     "output_type": "execute_result"
    },
    {
     "data": {
      "image/png": "[encoded data removed]",
      "text/plain": [
       "<Figure size 432x288 with 1 Axes>"
      ]
     },
     "metadata": {
      "needs_background": "light"
     },
     "output_type": "display_data"
    }
   ],
   "source": [
    "plt.figure(figsize=(6,4))\n",
    "plt.plot(history['training_loss'],c='b',label='Train Loss')\n",
    "plt.title('Training History')\n",
    "plt.xlabel('Epoch')\n",
    "plt.ylabel('Loss')"
   ]
  },
  {
   "cell_type": "code",
   "execution_count": 484,
   "metadata": {},
   "outputs": [
    {
     "data": {
      "image/png": "[encoded data removed]",
      "text/plain": [
       "<Figure size 576x122.4 with 4 Axes>"
      ]
     },
     "metadata": {
      "needs_background": "light"
     },
     "output_type": "display_data"
    }
   ],
   "source": [
    "new_ham_matrix = create_hamiltonian_matrix(qubit_number, nx.complete_graph(qubit_number), new_weights, new_bias)\n",
    "init_ham = create_hamiltonian_matrix(qubit_number, nx.complete_graph(qubit_number), initial_weights, initial_bias)\n",
    "\n",
    "fig, axes = plt.subplots(nrows=1, ncols=3, figsize=(8, 1.7))\n",
    "\n",
    "axes[0].imshow(ham_matrix, vmin=-7, vmax=7, cmap=\"RdBu\")\n",
    "axes[0].set_title(\"True Weights\", y=1.13)\n",
    "\n",
    "axes[1].imshow(init_ham, vmin=-7, vmax=7, cmap=\"RdBu\")\n",
    "axes[1].set_title(\"Initial Weights\", y=1.13)\n",
    "\n",
    "im=axes[2].imshow(new_ham_matrix, vmin=-7, vmax=7, cmap=\"RdBu\")\n",
    "axes[2].set_title(\"Learned Weights\", y=1.13)\n",
    "\n",
    "plt.subplots_adjust(wspace=0.3, hspace=0.3)\n",
    "plt.colorbar(im,ax=axes.ravel().tolist())\n",
    "plt.show()"
   ]
  },
  {
   "cell_type": "code",
   "execution_count": 485,
   "metadata": {},
   "outputs": [
    {
     "data": {
      "image/png": "[encoded data removed]",
      "text/plain": [
       "<Figure size 360x144 with 3 Axes>"
      ]
     },
     "metadata": {
      "needs_background": "light"
     },
     "output_type": "display_data"
    }
   ],
   "source": [
    "fig,axes = plt.subplots(2,1,figsize=(5,2))\n",
    "\n",
    "plt.subplot(2,1,1)\n",
    "plt.imshow(initial_eta.reshape(1,N),vmin=-np.max(eta),vmax=np.max(eta),cmap='hot')\n",
    "plt.title(r'Initial $\\eta_q$')\n",
    "\n",
    "plt.subplot(2,1,2)\n",
    "plt.imshow(eta.reshape(1,N),vmin=-np.max(eta),vmax=np.max(eta),cmap='hot')\n",
    "plt.title(r'Learned $\\eta_q$')\n",
    "\n",
    "plt.colorbar(im,ax=axes.ravel().tolist())\n",
    "plt.show()"
   ]
  },
  {
   "cell_type": "code",
   "execution_count": 486,
   "metadata": {},
   "outputs": [
    {
     "data": {
      "text/plain": [
       "[-102.12159080365596, 100, 100, 100, 100, -72.37952419995615]"
      ]
     },
     "execution_count": 486,
     "metadata": {},
     "output_type": "execute_result"
    }
   ],
   "source": [
    "target_weights"
   ]
  },
  {
   "cell_type": "code",
   "execution_count": 487,
   "metadata": {},
   "outputs": [
    {
     "data": {
      "text/plain": [
       "tensor([ 0.80810715, -0.24951163, -0.38079565, -0.26663344,  0.72385307,\n",
       "         0.37227075], requires_grad=True)"
      ]
     },
     "execution_count": 487,
     "metadata": {},
     "output_type": "execute_result"
    }
   ],
   "source": [
    "new_weights"
   ]
  },
  {
   "cell_type": "code",
   "execution_count": 488,
   "metadata": {},
   "outputs": [
    {
     "data": {
      "text/plain": [
       "tensor([0.03329371, 0.05233243, 0.1977383 , 0.36001446], requires_grad=True)"
      ]
     },
     "execution_count": 488,
     "metadata": {},
     "output_type": "execute_result"
    }
   ],
   "source": [
    "new_bias"
   ]
  },
  {
   "cell_type": "code",
   "execution_count": 489,
   "metadata": {},
   "outputs": [
    {
     "data": {
      "text/plain": [
       "tensor([ 0.31585355, -0.4972615 ,  0.35740428, -0.46641442], requires_grad=True)"
      ]
     },
     "execution_count": 489,
     "metadata": {},
     "output_type": "execute_result"
    }
   ],
   "source": [
    "new_bias1"
   ]
  },
  {
   "cell_type": "code",
   "execution_count": 490,
   "metadata": {},
   "outputs": [
    {
     "data": {
      "text/plain": [
       "tensor([ 0.22965545, -0.32434438,  0.36317892,  0.04146122], requires_grad=True)"
      ]
     },
     "execution_count": 490,
     "metadata": {},
     "output_type": "execute_result"
    }
   ],
   "source": [
    "new_bias2"
   ]
  },
  {
   "cell_type": "code",
   "execution_count": 491,
   "metadata": {},
   "outputs": [
    {
     "data": {
      "image/png": "[encoded data removed]",
      "text/plain": [
       "<Figure size 432x288 with 1 Axes>"
      ]
     },
     "metadata": {},
     "output_type": "display_data"
    }
   ],
   "source": [
    "# draw learned graph\n",
    "number_of_edges_desired = int(2*M*(M-1)/2)\n",
    "indices_of_edges = np.argsort(np.abs(new_weights))[-number_of_edges_desired:]\n",
    "final_edges_selected = [make_jet_edges[indx] for indx in indices_of_edges]\n",
    "learned_ising_graph = nx.DiGraph()\n",
    "learned_ising_graph.add_nodes_from(pos)\n",
    "learned_ising_graph.add_edges_from(final_edges_selected) \n",
    "nx.draw_networkx(learned_ising_graph, pos, node_color=color_map, edgelist=final_edges_selected)"
   ]
  },
  {
   "cell_type": "markdown",
   "metadata": {},
   "source": [
    "## Quantum Graph Recurrent Neural Network - Second Demonstration\n",
    "\n",
    "Here, we will predict the direction of attachments of a graph via a QGRNN. For the QGRNN, we can write the Hamiltonian for this graph problem as \n",
    "$$H(\\theta,\\beta) = \\sum_{(i,j)\\in\\mathcal{E}} \\theta_{ij} \\sigma_i^z \\sigma_j^z + \\sum_{i=1}^{qubits} \\beta_i \\sigma_i^z+ \\sum_{i=1}^{qubits}  \\sigma_i^x$$\n",
    "where \n",
    "$$\\mathbb{U}_H(\\theta,\\beta,\\gamma) = \\prod_{p=1}^p \\left[ \\prod_{q=1}^q e^{-i \\gamma_q} H_q(\\theta,\\beta) \\right]$$\n",
    "where we send $\\gamma_q \\to t_p$, i.e. simple time stamps. We can evolve a close-to-ground state $|\\psi_0\\rangle$ of a known $H$ to obtain time evolved states $|\\psi_p(t)\\rangle$. We can then train the layers with a newly parametrized guess for the new interaction graph to act on $|\\psi_0\\rangle$ in order to match known $|\\psi_p(t)\\rangle$. In other words, we minimize\n",
    "$$\\mathcal{L}(\\theta,\\beta) = 1 - \\frac{1}{N} \\sum_{i=1}^N | \\langle \\psi_p(t)| \\mathbb{U}_H(\\theta,\\beta,t_p) |\\psi_0 \\rangle |^2$$\n",
    "\n",
    "[2] https://pennylane.ai/qml/demos/tutorial_qgrnn.html"
   ]
  },
  {
   "cell_type": "code",
   "execution_count": 507,
   "metadata": {},
   "outputs": [],
   "source": [
    "rng = np.random.default_rng(seed=42)"
   ]
  },
  {
   "cell_type": "code",
   "execution_count": 508,
   "metadata": {},
   "outputs": [],
   "source": [
    "def create_hamiltonian_matrix(n_qubits, graph, weights, bias):\n",
    "\n",
    "    full_matrix = np.zeros((2 ** n_qubits, 2 ** n_qubits))\n",
    "\n",
    "    # Creates the interaction component of the Hamiltonian\n",
    "    for i, edge in enumerate(graph.edges):\n",
    "        interaction_term = 1\n",
    "        for qubit in range(0, n_qubits):\n",
    "            if qubit in edge:\n",
    "                interaction_term = np.kron(interaction_term, qml.matrix(qml.PauliZ)(0))\n",
    "            else:\n",
    "                interaction_term = np.kron(interaction_term, np.identity(2))\n",
    "        full_matrix += weights[i] * interaction_term\n",
    "\n",
    "    # Creates the bias components of the matrix\n",
    "    for i in range(0, n_qubits):\n",
    "        z_term = x_term = 1\n",
    "        for j in range(0, n_qubits):\n",
    "            if j == i:\n",
    "                z_term = np.kron(z_term, qml.matrix(qml.PauliZ)(0))\n",
    "                x_term = np.kron(x_term, qml.matrix(qml.PauliX)(0))\n",
    "            else:\n",
    "                z_term = np.kron(z_term, np.identity(2))\n",
    "                x_term = np.kron(x_term, np.identity(2))\n",
    "        full_matrix += bias[i] * z_term + x_term\n",
    "\n",
    "    return full_matrix"
   ]
  },
  {
   "cell_type": "code",
   "execution_count": 509,
   "metadata": {},
   "outputs": [],
   "source": [
    "def state_evolve(hamiltonian, qubits, time):\n",
    "    U = scipy.linalg.expm(-1j * hamiltonian * time)\n",
    "    qml.QubitUnitary(U, wires=qubits)"
   ]
  },
  {
   "cell_type": "code",
   "execution_count": 510,
   "metadata": {},
   "outputs": [],
   "source": [
    "def qgrnn_layer(weights, bias, qubits, graph, trotter_step):\n",
    "    # Applies a layer of RZZ gates (based on a graph)\n",
    "    for i, edge in enumerate(graph.edges):\n",
    "        qml.MultiRZ(2 * weights[i] * trotter_step, wires=(edge[0], edge[1]))\n",
    "    # Applies a layer of RZ gates\n",
    "    for i, qubit in enumerate(qubits):\n",
    "        qml.RZ(2 * bias[i] * trotter_step, wires=qubit)\n",
    "    # Applies a layer of RX gates\n",
    "    for qubit in qubits:\n",
    "        qml.RX(2 * trotter_step, wires=qubit)"
   ]
  },
  {
   "cell_type": "code",
   "execution_count": 511,
   "metadata": {},
   "outputs": [],
   "source": [
    "def qgrnn(weights, bias, time=None):\n",
    "    # Prepares the low energy state in the two registers\n",
    "    qml.QubitStateVector(np.kron(low_energy_state, low_energy_state), wires=reg1 + reg2)\n",
    "    # Evolves the first qubit register with the time-evolution circuit to\n",
    "    # prepare a piece of quantum data\n",
    "    state_evolve(ham_matrix, reg1, time)\n",
    "    # Applies the QGRNN layers to the second qubit register\n",
    "    depth = time / trotter_step  # P = t/Delta\n",
    "    for _ in range(0, int(depth)):\n",
    "        qgrnn_layer(weights, bias, reg2, new_ising_graph, trotter_step)\n",
    "    # Applies the SWAP test between the registers\n",
    "    swap_test(control, reg1, reg2)\n",
    "    # Returns the results of the SWAP test\n",
    "    return qml.expval(qml.PauliZ(control))"
   ]
  },
  {
   "cell_type": "code",
   "execution_count": 512,
   "metadata": {},
   "outputs": [],
   "source": [
    "def cost_function(weight_params, bias_params):\n",
    "    # Randomly samples times at which the QGRNN runs\n",
    "    times_sampled = rng.random(size=N) * max_time\n",
    "    # samples times and calculates the cost\n",
    "    total_cost = 0\n",
    "    for dt in times_sampled:\n",
    "        result = qgrnn_qnode(weight_params, bias_params, time=dt)\n",
    "        total_cost += -1 * result\n",
    "    return total_cost / N"
   ]
  },
  {
   "cell_type": "code",
   "execution_count": 513,
   "metadata": {},
   "outputs": [],
   "source": [
    "qubit_number = 4\n",
    "qubits = range(qubit_number)"
   ]
  },
  {
   "cell_type": "code",
   "execution_count": 514,
   "metadata": {},
   "outputs": [
    {
     "data": {
      "image/png": "[encoded data removed]",
      "text/plain": [
       "<Figure size 432x288 with 1 Axes>"
      ]
     },
     "metadata": {},
     "output_type": "display_data"
    }
   ],
   "source": [
    "ising_graph = nx.cycle_graph(qubit_number)\n",
    "nx.draw_networkx(ising_graph)"
   ]
  },
  {
   "cell_type": "code",
   "execution_count": 515,
   "metadata": {},
   "outputs": [],
   "source": [
    "# Prepare hamiltonian weights\n",
    "target_weights = np.random.uniform(low=-3,high=3,size=len(ising_graph.edges)) \n",
    "target_bias = np.random.uniform(low=-3,high=3,size=2**qubit_number)\n",
    "# Prepare initial low energy state\n",
    "low_energy_state_tensor = np.random.normal(loc=0.0, scale=0.01, size=2**qubit_number)*1 + 1j*np.random.normal(loc=0.0, scale=0.01, size=2**qubit_number)\n",
    "normalize_factor = np.sqrt(np.abs(np.conj(low_energy_state_tensor)@low_energy_state_tensor))\n",
    "low_energy_state_tensor =low_energy_state_tensor /normalize_factor\n",
    "low_energy_state =[ (low_energy_state_tensor[i].item()) for i in range(low_energy_state_tensor.shape[0])]"
   ]
  },
  {
   "cell_type": "code",
   "execution_count": 516,
   "metadata": {},
   "outputs": [
    {
     "data": {
      "image/png": "[encoded data removed]",
      "text/plain": [
       "<Figure size 288x288 with 1 Axes>"
      ]
     },
     "metadata": {
      "needs_background": "light"
     },
     "output_type": "display_data"
    }
   ],
   "source": [
    "ham_matrix = create_hamiltonian_matrix(qubit_number, ising_graph, target_weights, target_bias)\n",
    "plt.matshow(ham_matrix, cmap=\"RdBu\")\n",
    "plt.show()"
   ]
  },
  {
   "cell_type": "code",
   "execution_count": 517,
   "metadata": {},
   "outputs": [
    {
     "name": "stdout",
     "output_type": "stream",
     "text": [
      "Energy Expectation: 0.19605837656444086\n",
      "Ground State Energy: -10.053762184319803\n"
     ]
    }
   ],
   "source": [
    "res = np.vdot(low_energy_state, (ham_matrix @ low_energy_state))\n",
    "energy_exp = np.real_if_close(res)\n",
    "print(f\"Energy Expectation: {energy_exp}\")\n",
    "ground_state_energy = np.real_if_close(min(np.linalg.eig(ham_matrix)[0]))\n",
    "print(f\"Ground State Energy: {ground_state_energy}\")"
   ]
  },
  {
   "cell_type": "code",
   "execution_count": 518,
   "metadata": {},
   "outputs": [
    {
     "data": {
      "image/png": "[encoded data removed]",
      "text/plain": [
       "<Figure size 432x288 with 1 Axes>"
      ]
     },
     "metadata": {},
     "output_type": "display_data"
    }
   ],
   "source": [
    "# make a new graph to be mapped to the original one to determine the necessary interactions between qubits\n",
    "reg1 = tuple(range(qubit_number))  # state 1\n",
    "reg2 = tuple(range(qubit_number, 2 * qubit_number))  # state 2\n",
    "control = 2 * qubit_number  # Index of control qubit\n",
    "trotter_step = 0.01  # Trotter step size\n",
    "N = 15  # The number of pieces of quantum data that are used for each step\n",
    "max_time = 0.1  # The maximum value of time that can be used for quantum data\n",
    "# Defines the interaction graph for the new qubit system\n",
    "new_ising_graph = nx.complete_graph(reg2)\n",
    "nx.draw_networkx(new_ising_graph)"
   ]
  },
  {
   "cell_type": "code",
   "execution_count": 519,
   "metadata": {},
   "outputs": [],
   "source": [
    "# Defines the new device\n",
    "qgrnn_dev = qml.device(\"default.qubit\", wires=2 * qubit_number + 1)\n",
    "# Defines the new QNode\n",
    "qgrnn_qnode = qml.QNode(qgrnn, qgrnn_dev, interface=\"autograd\",diff_method='backprop')\n",
    "steps = 300\n",
    "optimizer = qml.AdamOptimizer(stepsize=0.5)\n",
    "weights = rng.random(size=len(new_ising_graph.edges), requires_grad=True) - 0.5\n",
    "bias = rng.random(size=qubit_number, requires_grad=True) - 0.5\n",
    "initial_weights = copy.copy(weights)\n",
    "initial_bias = copy.copy(bias)"
   ]
  },
  {
   "cell_type": "code",
   "execution_count": 521,
   "metadata": {},
   "outputs": [
    {
     "name": "stdout",
     "output_type": "stream",
     "text": [
      "0: ─╭QubitStateVector(M0)─╭U(M1)────────────────────────────────────────────────────────────────────\n",
      "1: ─├QubitStateVector(M0)─├U(M1)────────────────────────────────────────────────────────────────────\n",
      "2: ─├QubitStateVector(M0)─├U(M1)────────────────────────────────────────────────────────────────────\n",
      "3: ─├QubitStateVector(M0)─╰U(M1)────────────────────────────────────────────────────────────────────\n",
      "4: ─├QubitStateVector(M0)─╭MultiRZ(0.01)─╭MultiRZ(0.01)─╭MultiRZ(0.01)──RZ(-0.04)──────RX(0.02)─────\n",
      "5: ─├QubitStateVector(M0)─╰MultiRZ(0.01)─│──────────────│──────────────╭MultiRZ(0.02)─╭MultiRZ(0.02)\n",
      "6: ─├QubitStateVector(M0)────────────────╰MultiRZ(0.01)─│──────────────╰MultiRZ(0.02)─│─────────────\n",
      "7: ─╰QubitStateVector(M0)───────────────────────────────╰MultiRZ(0.01)────────────────╰MultiRZ(0.02)\n",
      "8: ──H──────────────────────────────────────────────────────────────────────────────────────────────\n",
      "\n",
      "───────────────────────────────────────╭SWAP──────────────────────┤     \n",
      "───────────────────────────────────────│─────╭SWAP────────────────┤     \n",
      "───────────────────────────────────────│─────│─────╭SWAP──────────┤     \n",
      "───────────────────────────────────────│─────│─────│─────╭SWAP────┤     \n",
      "───────────────────────────────────────├SWAP─│─────│─────│────────┤     \n",
      "───RZ(0.04)────────RX(0.02)────────────│─────├SWAP─│─────│────────┤     \n",
      "──╭MultiRZ(-0.01)──RZ(-0.04)──RX(0.02)─│─────│─────├SWAP─│────────┤     \n",
      "──╰MultiRZ(-0.01)──RZ(0.01)───RX(0.02)─│─────│─────│─────├SWAP────┤     \n",
      "───────────────────────────────────────╰●────╰●────╰●────╰●─────H─┤  <Z>\n"
     ]
    }
   ],
   "source": [
    "print(qml.draw(qgrnn)(target_weights, target_bias,time=0.01))"
   ]
  },
  {
   "cell_type": "code",
   "execution_count": 522,
   "metadata": {},
   "outputs": [
    {
     "name": "stdout",
     "output_type": "stream",
     "text": [
      "---------------------------------Training---------------------------------\n",
      " Step: 0  | Training Loss: -0.9353 |\n",
      " Step: 10 | Training Loss: -0.9917 |\n",
      " Step: 20 | Training Loss: -0.9966 |\n",
      " Step: 30 | Training Loss: -0.9990 |\n",
      " Step: 40 | Training Loss: -0.9993 |\n",
      " Step: 50 | Training Loss: -0.9996 |\n",
      " Step: 60 | Training Loss: -0.9996 |\n",
      " Step: 70 | Training Loss: -0.9997 |\n",
      " Step: 80 | Training Loss: -0.9997 |\n",
      " Step: 90 | Training Loss: -0.9995 |\n",
      " Step: 100 | Training Loss: -0.9995 |\n",
      " Step: 110 | Training Loss: -0.9998 |\n",
      " Step: 120 | Training Loss: -0.9997 |\n",
      " Step: 130 | Training Loss: -0.9997 |\n",
      " Step: 140 | Training Loss: -0.9996 |\n",
      " Step: 150 | Training Loss: -0.9997 |\n",
      " Step: 160 | Training Loss: -0.9995 |\n",
      " Step: 170 | Training Loss: -0.9996 |\n",
      " Step: 180 | Training Loss: -0.9998 |\n",
      " Step: 190 | Training Loss: -0.9999 |\n",
      " Step: 200 | Training Loss: -0.9995 |\n",
      " Step: 210 | Training Loss: -0.9994 |\n",
      " Step: 220 | Training Loss: -0.9996 |\n",
      " Step: 230 | Training Loss: -0.9998 |\n",
      " Step: 240 | Training Loss: -0.9996 |\n",
      " Step: 250 | Training Loss: -0.9994 |\n",
      " Step: 260 | Training Loss: -0.9996 |\n",
      " Step: 270 | Training Loss: -0.9994 |\n",
      " Step: 280 | Training Loss: -0.9993 |\n",
      " Step: 290 | Training Loss: -0.9997 |\n",
      "Training Complete. Total Time: 468.75106620788574\n"
     ]
    }
   ],
   "source": [
    "# train\n",
    "print('---------------------------------Training---------------------------------')\n",
    "start_time = time()\n",
    "for i in range(0, steps):\n",
    "    (weights, bias), loss = optimizer.step_and_cost(cost_function, weights, bias)\n",
    "    if i%10==0:\n",
    "        if i==0:\n",
    "            print(' Step: {}  |'.format(i)+\n",
    "                  ' Training Loss: {:.4f} |'.format(loss))\n",
    "        else:\n",
    "            print(' Step: {} |'.format(i)+\n",
    "                  ' Training Loss: {:.4f} |'.format(loss))\n",
    "end_time = time()\n",
    "print('Training Complete. Total Time: {}'.format(end_time-start_time))"
   ]
  },
  {
   "cell_type": "code",
   "execution_count": 525,
   "metadata": {},
   "outputs": [
    {
     "data": {
      "image/png": "[encoded data removed]",
      "text/plain": [
       "<Figure size 432x432 with 3 Axes>"
      ]
     },
     "metadata": {
      "needs_background": "light"
     },
     "output_type": "display_data"
    }
   ],
   "source": [
    "new_ham_matrix = create_hamiltonian_matrix(qubit_number, nx.complete_graph(qubit_number), weights, bias)\n",
    "init_ham = create_hamiltonian_matrix(qubit_number, nx.complete_graph(qubit_number), initial_weights, initial_bias)\n",
    "fig, axes = plt.subplots(nrows=1, ncols=3, figsize=(6, 6))\n",
    "\n",
    "axes[0].matshow(ham_matrix, vmin=-7, vmax=7, cmap=\"RdBu\")\n",
    "axes[0].set_title(\"Target\", y=1.13)\n",
    "\n",
    "axes[1].matshow(init_ham, vmin=-7, vmax=7, cmap=\"RdBu\")\n",
    "axes[1].set_title(\"Initial\", y=1.13)\n",
    "\n",
    "axes[2].matshow(new_ham_matrix, vmin=-7, vmax=7, cmap=\"RdBu\")\n",
    "axes[2].set_title(\"Learned\", y=1.13)\n",
    "\n",
    "plt.subplots_adjust(wspace=0.3, hspace=0.3)\n",
    "plt.show()"
   ]
  },
  {
   "cell_type": "code",
   "execution_count": 524,
   "metadata": {},
   "outputs": [
    {
     "name": "stdout",
     "output_type": "stream",
     "text": [
      "Target parameters     Learned parameters\n",
      "Weights\n",
      "-----------------------------------------\n",
      "0.41978946420758945 |  0.6175021991733822\n",
      "0.5452365674890394  |   0.720466680806094\n",
      "0.44595149309747306 |  0.5112906317703664\n",
      "0.9192049191428016  |  0.9914033536990465\n",
      "\n",
      "Bias\n",
      "-----------------------------------------\n",
      "-2.1033101720520375 | -2.2415052009614245\n",
      "2.2087563442092852  |  2.3617815251526175\n",
      "-2.025042391941751  | -2.2629181570938686\n",
      "0.6933573857030648  |  0.8177654480415384\n",
      "\n",
      "Non-Existing Edge Parameters: [-0.026240866987160487, -0.06492570533093109]\n"
     ]
    }
   ],
   "source": [
    "# pick out the weights of edges (1, 3) and (2, 0)\n",
    "# and then remove them from the list of target parameters\n",
    "weights_noedge = []\n",
    "weights_edge = []\n",
    "for ind, edge in enumerate(new_ising_graph.edges):\n",
    "    if (edge[0] - qubit_number, edge[1] - qubit_number) in ising_graph.edges:\n",
    "        weights_edge.append(weights[ind])\n",
    "    else:\n",
    "        weights_noedge.append(weights[ind])\n",
    "print(\"Target parameters     Learned parameters\")\n",
    "print(\"Weights\")\n",
    "print(\"-\" * 41)\n",
    "for targetw, learnedw in zip(target_weights, weights_edge):\n",
    "    print(f\"{targetw : <20}|{learnedw : >20}\")\n",
    "\n",
    "print(\"\\nBias\")\n",
    "print(\"-\"*41)\n",
    "for targetw, learnedw in zip(target_bias, bias):\n",
    "    print(f\"{targetw : <20}|{learnedw : >20}\")\n",
    "\n",
    "print(f\"\\nNon-Existing Edge Parameters: {[val.unwrap() for val in weights_noedge]}\")"
   ]
  },
  {
   "cell_type": "markdown",
   "metadata": {},
   "source": [
    "It learns the parametrisized Hamiltonian well, as shown from the plot above, and since since (1,3) and (2,0) have weights which are very small (close to 0), this shows we have learned the connected graph structure from the beginning. The network seems to work well and finds the desired weights of the Ising Hamiltonian."
   ]
  },
  {
   "cell_type": "markdown",
   "metadata": {},
   "source": [
    "---\n",
    "\n",
    "## Task VII: Equivariant quantum neural networks\n",
    "\n",
    "In this task you are supposed to get started with equivariant quantum neural networks by implementing a Z_2 × Z_2 equivariant quantum neural network. Z_2 is a symmetry group an as an example we will generate a simple classical dataset which is respects the Z_2 x Z_2 symmetry.\n",
    "This example is explained in the paper \n",
    "\n",
    "- https://arxiv.org/abs/2205.06217 \n",
    "\n",
    "and additional background can be found in \n",
    "\n",
    "- https://arxiv.org/abs/2210.08566. \n",
    "\n",
    "\n",
    "Generate a classification dataset with two classes and two features x_1 and x_2 which respects the Z_2 x Z_2 symmetry (this corresponds to mirroring along y=x). An example can be found in the first reference paper.\n",
    "\n",
    "\n",
    "Train a QNN to solve the classification problem\n",
    "\n",
    "\n",
    "Train an Z_2 x Z_2 equivariant QNN to solve the classification problem and compare the results.\n",
    "\n",
    "- [1] https://pennylane.ai/qml/demos/tutorial_variational_classifier.html\n",
    "- [2] https://arxiv.org/abs/quant-ph/0407010\n",
    "- [3] https://link.springer.com/book/10.1007/978-3-319-96424-9\n",
    "- [4] https://michaelnielsen.org/qcqi/\n",
    "- [5] https://journals.aps.org/prd/pdf/10.1103/PhysRevD.105.096031 (symmetry group data descriptions)"
   ]
  },
  {
   "cell_type": "markdown",
   "metadata": {},
   "source": [
    "Created an equivariant dataset by forming random squares in the positive quadrant, and then proceeded to label a non-trivial expected $\\mathbb{Z}_2 \\times \\mathbb{Z}_2$ symmetric classes."
   ]
  },
  {
   "cell_type": "code",
   "execution_count": 526,
   "metadata": {},
   "outputs": [],
   "source": [
    "import pennylane as qml\n",
    "from pennylane import numpy as np\n",
    "from pennylane.optimize import AdamOptimizer\n",
    "from pennylane.optimize import NesterovMomentumOptimizer\n",
    "from pennylane.optimize import GradientDescentOptimizer\n",
    "import matplotlib.pyplot as plt"
   ]
  },
  {
   "cell_type": "code",
   "execution_count": 566,
   "metadata": {},
   "outputs": [],
   "source": [
    "np.random.seed(0)\n",
    "dsize = 20\n",
    "s=0.01\n",
    "l=0.9\n",
    "s1=1.1\n",
    "l1=2\n",
    "square2 = np.random.uniform(s, l, dsize) + 1.j * np.random.uniform(s, l, dsize)\n",
    "square1 = np.random.uniform(s1, l1, dsize) + 1.j * np.random.uniform(s, l, dsize)\n",
    "square3 = np.random.uniform(s, l, dsize) + 1.j * np.random.uniform(s1, l1, dsize)\n",
    "square4 = np.random.uniform(s1, l1, dsize) + 1.j * np.random.uniform(s1, l1, dsize)\n",
    "squares = [square2,square4,square1,square3]\n",
    "coordinates = np.zeros((dsize*len(squares),2))\n",
    "labels = np.zeros(((dsize*len(squares),1)))\n",
    "for i,square in enumerate(squares):\n",
    "    for j,point in enumerate(square):\n",
    "        coordinates[i*dsize+j,:] = np.array([point.real,point.imag])\n",
    "        if i==0:\n",
    "                labels[i*dsize+j] = np.array([-1])\n",
    "        elif i==1:\n",
    "                labels[i*dsize+j] = np.array([1])\n",
    "        elif i==2:\n",
    "            if np.abs(point.real-1)<=1-np.abs(point.imag):\n",
    "                labels[i*dsize+j] = np.array([1])\n",
    "            else:\n",
    "                labels[i*dsize+j] = np.array([-1])\n",
    "        elif i==3:\n",
    "            if np.abs(point.real)>=1-np.abs(point.imag-1):\n",
    "                labels[i*dsize+j] = np.array([-1])\n",
    "            else:\n",
    "                labels[i*dsize+j] = np.array([1])\n",
    "            \n",
    "reflect = np.array([[0 ,1],\n",
    "                    [1,0]]).reshape(2,2)\n",
    "add_coordinates = np.transpose(reflect@np.transpose(coordinates))\n",
    "add_labels = copy.copy(labels)\n",
    "coordinates = np.vstack([coordinates,add_coordinates])\n",
    "labels = np.vstack([labels,add_labels])"
   ]
  },
  {
   "cell_type": "code",
   "execution_count": 567,
   "metadata": {},
   "outputs": [
    {
     "data": {
      "text/plain": [
       "Text(0.5, 1.0, 'Data with Labels')"
      ]
     },
     "execution_count": 567,
     "metadata": {},
     "output_type": "execute_result"
    },
    {
     "data": {
      "image/png": "[encoded data removed]",
      "text/plain": [
       "<Figure size 720x360 with 2 Axes>"
      ]
     },
     "metadata": {
      "needs_background": "light"
     },
     "output_type": "display_data"
    }
   ],
   "source": [
    "plt.subplots(1,2,figsize=(10,5))\n",
    "plt.subplot(1,2,1)\n",
    "plt.plot(np.linspace(0,2,100),np.linspace(0,2,100),linestyle='--',c='black',label='Symmetry')\n",
    "plt.scatter(coordinates[:,0],coordinates[:,1],s=3)\n",
    "plt.legend()\n",
    "plt.title('Data without Labels')\n",
    "plt.subplot(1,2,2)\n",
    "plt.plot(np.linspace(0,2,100),np.linspace(0,2,100),linestyle='--',c='black',label='Symmetry')\n",
    "plt.scatter(coordinates[:,0],coordinates[:,1],c=labels,s=3)\n",
    "plt.legend()\n",
    "plt.title('Data with Labels')"
   ]
  },
  {
   "cell_type": "code",
   "execution_count": 568,
   "metadata": {},
   "outputs": [],
   "source": [
    "num_qubits = 2\n",
    "vqnn_dev = qml.device(\"default.qubit\", wires=num_qubits)\n",
    "def get_angles(x):\n",
    "    beta0 = 2 * np.arcsin(np.sqrt(x[1] ** 2) / np.sqrt(x[0] ** 2 + x[1] ** 2 + 1e-12))\n",
    "    beta1 = 2 * np.arcsin(np.sqrt(x[3] ** 2) / np.sqrt(x[2] ** 2 + x[3] ** 2 + 1e-12))\n",
    "    beta2 = 2 * np.arcsin(np.sqrt(x[2] ** 2 + x[3] ** 2) / np.sqrt(x[0] ** 2 + x[1] ** 2 + x[2] ** 2 + x[3] ** 2))\n",
    "    return np.array([beta2, -beta1 / 2, beta1 / 2, -beta0 / 2, beta0 / 2])\n",
    "\n",
    "def statepreparation(a):\n",
    "    qml.RY(a[0], wires=0)\n",
    "    qml.CNOT(wires=[0, 1])\n",
    "    qml.RY(a[1], wires=1)\n",
    "    qml.CNOT(wires=[0, 1])\n",
    "    qml.RY(a[2], wires=1)\n",
    "    qml.PauliX(wires=0)\n",
    "    qml.CNOT(wires=[0, 1])\n",
    "    qml.RY(a[3], wires=1)\n",
    "    qml.CNOT(wires=[0, 1])\n",
    "    qml.RY(a[4], wires=1)\n",
    "    qml.PauliX(wires=0)\n",
    "\n",
    "def layer(W):\n",
    "    qml.Rot(W[0, 0], W[0, 1], W[0, 2], wires=0)\n",
    "    qml.Rot(W[1, 0], W[1, 1], W[1, 2], wires=1)\n",
    "    qml.CNOT(wires=[0, 1])\n",
    "    \n",
    "@qml.qnode(vqnn_dev, interface=\"autograd\")\n",
    "def vqnn_model(weights, angles):\n",
    "    statepreparation(angles)\n",
    "    for W in weights:\n",
    "        layer(W)\n",
    "    return qml.expval(qml.PauliZ(0))#.numeric_type()\n",
    "\n",
    "def vqnn(weights, bias, angles):\n",
    "    return vqnn_model(weights, angles) + bias\n",
    "\n",
    "def cost(weights, bias, features, labels):\n",
    "    predictions = [vqnn(weights, bias, f) for f in features]\n",
    "    return square_loss(labels, predictions)\n",
    "\n",
    "def square_loss(labels, predictions):\n",
    "    loss = 0\n",
    "    for l, p in zip(labels, predictions):\n",
    "        loss += (l - p) ** 2\n",
    "    loss = loss / labels.shape[0]\n",
    "    return loss\n",
    "    \n",
    "def accuracy(labels, predictions):\n",
    "    loss = 0\n",
    "    for l, p in zip(labels, predictions):\n",
    "        if abs(l - p) < 1e-3:\n",
    "            loss += 1\n",
    "    loss = loss / labels.shape[0]\n",
    "    return loss"
   ]
  },
  {
   "cell_type": "code",
   "execution_count": 569,
   "metadata": {},
   "outputs": [
    {
     "name": "stdout",
     "output_type": "stream",
     "text": [
      "First X sample (original)  : [0.55332537 0.97883216]\n",
      "First X sample (padded)    : [0.55332537 0.97883216 0.5        0.        ]\n",
      "First X sample (normalized): [0.44965279 0.79543545 0.40631861 0.        ]\n",
      "First features sample      : [ 0.83684295 -0.          0.         -1.05628895  1.05628895]\n"
     ]
    }
   ],
   "source": [
    "X = copy.copy(coordinates)\n",
    "print(\"First X sample (original)  :\", X[0])\n",
    "# pad the vectors to size 2^2 with constant values\n",
    "padding = 0.5 * np.ones((len(X), 1))\n",
    "X_pad = np.c_[np.c_[X, padding], np.zeros((len(X), 1))]\n",
    "print(\"First X sample (padded)    :\", X_pad[0])\n",
    "# normalize each input\n",
    "normalization = np.sqrt(np.sum(X_pad ** 2, axis =-1))\n",
    "X_norm = (X_pad.T / normalization).T\n",
    "print(\"First X sample (normalized):\", X_norm[0])\n",
    "# angles for state preparation are new features\n",
    "features = np.array([get_angles(x) for x in X_norm], requires_grad=False)\n",
    "print(\"First features sample      :\", features[0])\n",
    "# normalization = np.sqrt(np.sum(X ** 2, axis =-1))\n",
    "# features = (X.T / normalization).T\n",
    "Y = copy.copy(labels)"
   ]
  },
  {
   "cell_type": "code",
   "execution_count": 570,
   "metadata": {},
   "outputs": [
    {
     "data": {
      "text/plain": [
       "<matplotlib.collections.PathCollection at 0x7f84ded56cd0>"
      ]
     },
     "execution_count": 570,
     "metadata": {},
     "output_type": "execute_result"
    },
    {
     "data": {
      "image/png": "[encoded data removed]",
      "text/plain": [
       "<Figure size 432x288 with 1 Axes>"
      ]
     },
     "metadata": {
      "needs_background": "light"
     },
     "output_type": "display_data"
    }
   ],
   "source": [
    "plt.scatter(features[:,0],features[:,3],c=Y,s=3)"
   ]
  },
  {
   "cell_type": "code",
   "execution_count": 601,
   "metadata": {},
   "outputs": [],
   "source": [
    "np.random.seed(0)\n",
    "num_data = Y.shape[0]\n",
    "num_train = int(0.8 * num_data)\n",
    "index = np.random.permutation(range(num_data))\n",
    "feats_train = features[index[:num_train]]\n",
    "Y_train = Y[index[:num_train]]\n",
    "feats_val = features[index[num_train:]]\n",
    "Y_val = Y[index[num_train:]]\n",
    "\n",
    "# We need these later for plotting\n",
    "X_train = X[index[:num_train]]\n",
    "X_val = X[index[num_train:]]"
   ]
  },
  {
   "cell_type": "code",
   "execution_count": 602,
   "metadata": {},
   "outputs": [
    {
     "name": "stdout",
     "output_type": "stream",
     "text": [
      "Iter: 0 | Cost: 1.1567 | Acc train: 0.5625 | Acc validation: 0.7500 \n",
      "Iter: 10 | Cost: 0.8285 | Acc train: 0.6250 | Acc validation: 0.8125 \n",
      "Iter: 20 | Cost: 0.7757 | Acc train: 0.7812 | Acc validation: 0.9375 \n",
      "Iter: 30 | Cost: 0.7770 | Acc train: 0.7578 | Acc validation: 0.9375 \n",
      "Iter: 40 | Cost: 0.8330 | Acc train: 0.6328 | Acc validation: 0.6250 \n",
      "Iter: 50 | Cost: 0.8716 | Acc train: 0.5156 | Acc validation: 0.4062 \n",
      "Iter: 60 | Cost: 0.8081 | Acc train: 0.6797 | Acc validation: 0.8125 \n",
      "Iter: 70 | Cost: 0.7832 | Acc train: 0.7031 | Acc validation: 0.8438 \n",
      "Iter: 80 | Cost: 0.7759 | Acc train: 0.7500 | Acc validation: 0.8750 \n",
      "Iter: 90 | Cost: 0.8203 | Acc train: 0.6641 | Acc validation: 0.6875 \n"
     ]
    }
   ],
   "source": [
    "# Defines the new QNode\n",
    "#vqnn_qnode = qml.QNode(vqnn_model, device=vqnn_dev, interface = 'autograd',diff_method='backprop')\n",
    "num_layers = 8\n",
    "optimizer = qml.GradientDescentOptimizer(stepsize=1e-2)#, beta1=0.5, beta2=0.999)\n",
    "weights_init = 0.01 * np.random.randn(num_layers, num_qubits, 3, requires_grad=True)\n",
    "bias_init = np.array(0.0, requires_grad=True)\n",
    "weights = copy.copy(weights_init)\n",
    "bias = copy.copy(bias_init)\n",
    "batch_size=5#feats_train.shape[0]\n",
    "steps=100\n",
    "for it in range(steps):\n",
    "    # Update the weights by one optimizer step\n",
    "    batch_index = np.random.randint(0, num_train, (batch_size,))\n",
    "    feats_train_batch = feats_train[batch_index]\n",
    "    Y_train_batch = Y_train[batch_index]\n",
    "    weights, bias, _, _ = optimizer.step(cost, weights, bias, feats_train_batch, Y_train_batch)\n",
    "    # Compute predictions on train and validation set\n",
    "    predictions_train = [np.sign(vqnn(weights, bias, f)) for f in feats_train]\n",
    "    predictions_val = [np.sign(vqnn(weights, bias, f)) for f in feats_val]\n",
    "    # Compute accuracy on train and validation set\n",
    "    acc_train = accuracy(Y_train, predictions_train)\n",
    "    acc_val = accuracy(Y_val, predictions_val)\n",
    "    if it%10==0:\n",
    "        print(\"Iter: {} | Cost: {:.4f} | Acc train: {:.4f} | Acc validation: {:.4f} \".format(it, qml.math.toarray(cost(weights, bias, features, Y))[0], acc_train, acc_val) )"
   ]
  },
  {
   "cell_type": "code",
   "execution_count": 603,
   "metadata": {},
   "outputs": [
    {
     "data": {
      "image/png": "[encoded data removed]",
      "text/plain": [
       "<Figure size 1152x360 with 4 Axes>"
      ]
     },
     "metadata": {
      "needs_background": "light"
     },
     "output_type": "display_data"
    }
   ],
   "source": [
    "# plot data\n",
    "plt.subplots(1,3,figsize=(16,5))\n",
    "plt.subplot(1,3,1)\n",
    "plt.scatter(coordinates[:,0],coordinates[:,1],c=labels,s=10)\n",
    "plt.title('Original Data')\n",
    "plt.subplot(1,3,2)\n",
    "\n",
    "cm = plt.cm.RdBu\n",
    "\n",
    "# make data for decision regions\n",
    "xx, yy = np.meshgrid(np.linspace(s, l1, 20), np.linspace(s, l1, 20))\n",
    "X_grid = [np.array([x, y]) for x, y in zip(xx.flatten(), yy.flatten())]\n",
    "# preprocess grid points like data inputs above\n",
    "padding = 0.3 * np.ones((len(X_grid), 1))\n",
    "X_grid = np.c_[np.c_[X_grid, padding], np.zeros((len(X_grid), 1))]  # pad each input\n",
    "normalization = np.sqrt(np.sum(X_grid ** 2, -1))\n",
    "X_grid = (X_grid.T / normalization).T  # normalize each input\n",
    "features_grid = np.array([get_angles(x) for x in X_grid])  # angles for state preparation are new features\n",
    "predictions_grid = [vqnn(weights, bias, f) for f in features_grid]\n",
    "Z = np.reshape(predictions_grid, xx.shape)\n",
    "\n",
    "# plot decision regions\n",
    "cnt = plt.contourf(xx, yy, Z, levels=np.arange(-1, 1, 0.2), cmap=cm, alpha=0.8, extend=\"both\")\n",
    "plt.contour(xx, yy, Z, levels=[0.0], colors=(\"black\",), linestyles=(\"--\",), linewidths=(0.8,))\n",
    "plt.colorbar(cnt, ticks=[-1, 0, 1])\n",
    "\n",
    "plt.scatter(\n",
    "    X_train[(Y_train == 1).reshape(Y_train.shape[0],),0],\n",
    "    X_train[(Y_train == 1).reshape(Y_train.shape[0],),1],\n",
    "    c=\"purple\",\n",
    "    marker=\"o\",\n",
    "    edgecolors=\"k\",\n",
    "    label=\"class 1 train\",\n",
    ")\n",
    "plt.scatter(\n",
    "    X_val[(Y_val == 1).reshape(Y_val.shape[0],),0],\n",
    "    X_val[(Y_val == 1).reshape(Y_val.shape[0],),1],\n",
    "    c=\"blue\",\n",
    "    marker=\"^\",\n",
    "    edgecolors=\"k\",\n",
    "    label=\"class 1 validation\",\n",
    ")\n",
    "plt.scatter(\n",
    "    X_train[(Y_train == -1).reshape(Y_train.shape[0],),0],\n",
    "    X_train[(Y_train == -1).reshape(Y_train.shape[0],),1],\n",
    "    c=\"orange\",\n",
    "    marker=\"o\",\n",
    "    edgecolors=\"k\",\n",
    "    label=\"class -1 train\",\n",
    ")\n",
    "plt.scatter(\n",
    "    X_val[(Y_val == -1).reshape(Y_val.shape[0],),0],\n",
    "    X_val[(Y_val == -1).reshape(Y_val.shape[0],),1],\n",
    "    c=\"yellow\",\n",
    "    marker=\"^\",\n",
    "    edgecolors=\"k\",\n",
    "    label=\"class -1 validation\",\n",
    ")\n",
    "plt.title('Items in Each Set and Learned Class Contours')\n",
    "\n",
    "plt.legend()\n",
    "\n",
    "plt.subplot(1,3,3)\n",
    "predictions_now = [int(np.sign(vqnn(weights, bias, f)).item()) for f in features]\n",
    "for i in range(len(predictions_now)):\n",
    "    if predictions_now[i]==-1:\n",
    "        plt.scatter(X[i,0].item(),X[i,1].item(),c='gold',s=10)\n",
    "    else:\n",
    "        plt.scatter(X[i,0].item(),X[i,1].item(),c='purple',s=10)\n",
    "plt.title('Predicitons')\n",
    "plt.show()"
   ]
  },
  {
   "cell_type": "markdown",
   "metadata": {},
   "source": [
    "## Equivariant Quantum Neural Network\n",
    "\n",
    "Based on the equivriance condition:\n",
    "$$\\mathcal{L} = |f(Mx) -  M'f(|\\psi\\rangle)|^2$$\n",
    "In particular,\n",
    "$$\\mathcal{L} = |f(\\mathcal{R}X) -  \\sigma_xf(|\\psi\\rangle)|^2$$\n",
    "where $\\mathcal{R} =\\begin{pmatrix} 0 &-1 \\\\ -1&0 \\end{pmatrix}$ acting in the original data space, and $\\sigma_x$ is the pauli matrix flipping the final state before measurement. Note, we reflect across $y=-x$, the antisymmetric axis of $\\mathbb{Z}_2 \\times \\mathbb{Z}_2$ because this is associated with a change of sign in the final expectation value of the z-Pauli operator, otherwise we would be checking invariance. We can add four more qubits to run through the mnodel, two for the first valued function where we transform the data before forming the initial state, and two for the second valued state which gets affected after being processed by the model by the x-Pauli operator to flip its respective state."
   ]
  },
  {
   "cell_type": "code",
   "execution_count": 604,
   "metadata": {},
   "outputs": [],
   "source": [
    "def get_angles(x):\n",
    "    beta0 = 2 * np.arcsin(np.sqrt(x[1] ** 2) / np.sqrt(x[0] ** 2 + x[1] ** 2 + 1e-12))\n",
    "    beta1 = 2 * np.arcsin(np.sqrt(x[3] ** 2) / np.sqrt(x[2] ** 2 + x[3] ** 2 + 1e-12))\n",
    "    beta2 = 2 * np.arcsin(np.sqrt(x[2] ** 2 + x[3] ** 2) / np.sqrt(x[0] ** 2 + x[1] ** 2 + x[2] ** 2 + x[3] ** 2))\n",
    "    return np.array([beta2, -beta1 / 2, beta1 / 2, -beta0 / 2, beta0 / 2])\n",
    "\n",
    "def statepreparation_equi(a,wire1,wire2):\n",
    "    qml.RY(a[0], wires=wire1)\n",
    "    qml.CNOT(wires=[wire1, wire2])\n",
    "    qml.RY(a[1], wires=wire2)\n",
    "    qml.CNOT(wires=[wire1,wire2])\n",
    "    qml.RY(a[2], wires=wire2)\n",
    "    qml.PauliX(wires=wire1)\n",
    "    qml.CNOT(wires=[wire1,wire2])\n",
    "    qml.RY(a[3], wires=wire2)\n",
    "    qml.CNOT(wires=[wire1,wire2])\n",
    "    qml.RY(a[4], wires=wire2)\n",
    "    qml.PauliX(wires=wire1)\n",
    "\n",
    "def layer_equi(W,wire1,wire2):\n",
    "    qml.Rot(W[0, 0], W[0, 1], W[0, 2], wires=wire1)\n",
    "    qml.Rot(W[1, 0], W[1, 1], W[1, 2], wires=wire2)\n",
    "    qml.CNOT(wires=[wire1, wire2])\n",
    "    \n",
    "def vqnn_model_equi(weights, angles, new_angles):\n",
    "    wire1=0; wire2=1\n",
    "    statepreparation_equi(angles,wire1=wire1,wire2=wire2)\n",
    "    for W in weights:\n",
    "        layer_equi(W,wire1,wire2)\n",
    "        \n",
    "    #Equi Apply at Beginning and reads in transformed state vector\n",
    "    wire1=2; wire2=3\n",
    "    statepreparation_equi(new_angles,wire1=wire1,wire2=wire2)\n",
    "    for W in weights:\n",
    "        layer_equi(W,wire1,wire2)\n",
    "    #Equi Apply at End and flips the final state before measurement\n",
    "    wire1=4; wire2=5\n",
    "    statepreparation_equi(angles,wire1=wire1,wire2=wire2)\n",
    "    for W in weights:\n",
    "        layer_equi(W,wire1,wire2)\n",
    "    qml.PauliX(wires=wire1)\n",
    "    \n",
    "    \n",
    "    return [qml.expval(qml.PauliZ(wires=i)).numeric_type() for i in range(0,6,2)]\n",
    "\n",
    "def vqnn_equi(weights, bias, angles, new_angles):\n",
    "    values_stored = vqnn_model_equi(weights, angles, new_angles)\n",
    "    return [values_stored[0] + bias, values_stored[1]+bias, values_stored[2]+bias]\n",
    "\n",
    "def cost_equi(weights, bias, features, labels, new_features):\n",
    "    predictions = []\n",
    "    equi_terms1 = []\n",
    "    equi_terms2 = []\n",
    "    for f,f_new in zip(features,new_features):\n",
    "        values_stored = vqnn_equi(weights, bias, f, f_new)\n",
    "        predictions.append(values_stored[0])\n",
    "        equi_terms1.append(values_stored[1])\n",
    "        equi_terms2.append(values_stored[2])\n",
    "    return square_loss(labels, predictions)+ square_loss(equi_terms1,equi_terms2)\n",
    "\n",
    "def square_loss(labels, predictions):\n",
    "    loss = 0\n",
    "    for l, p in zip(labels, predictions):\n",
    "        loss += (l - p) ** 2\n",
    "    loss = loss / len(labels)\n",
    "    return loss\n",
    "    \n",
    "def accuracy(labels, predictions):\n",
    "    loss = 0\n",
    "    for l, p in zip(labels, predictions):\n",
    "        if abs(l - p) < 1e-3:\n",
    "            loss += 1\n",
    "    loss = loss / labels.shape[0]\n",
    "    return loss"
   ]
  },
  {
   "cell_type": "code",
   "execution_count": 605,
   "metadata": {},
   "outputs": [
    {
     "name": "stdout",
     "output_type": "stream",
     "text": [
      "New First X sample (original)  : [0.55332537 0.97883216]\n",
      "New First X sample (padded)    : [1.02116784 1.44667463 0.5        0.        ]\n",
      "New First X sample (normalized): [0.44965279 0.79543545 0.40631861 0.        ]\n",
      "New First features sample      : [ 0.55039513 -0.          0.         -0.95613995  0.95613995]\n"
     ]
    }
   ],
   "source": [
    "reflect_new = np.array([[0 ,-1],\n",
    "                        [-1,0]]).reshape(2,2)\n",
    "coordinates_new = np.transpose(reflect_new@np.transpose(coordinates))+2.0\n",
    "labels_new = copy.copy(-1*labels)\n",
    "\n",
    "X_new = copy.copy(coordinates_new)\n",
    "print(\"New First X sample (original)  :\", X[0])\n",
    "# pad the vectors to size 2^2 with constant values\n",
    "padding = 0.5 * np.ones((len(X), 1))\n",
    "X_pad_new = np.c_[np.c_[X_new, padding], np.zeros((len(X_new), 1))]\n",
    "print(\"New First X sample (padded)    :\", X_pad_new[0])\n",
    "# normalize each input\n",
    "normalization_new = np.sqrt(np.sum(X_pad_new ** 2, axis =-1))\n",
    "X_norm_new = (X_pad_new.T / normalization_new).T\n",
    "print(\"New First X sample (normalized):\", X_norm[0])\n",
    "# angles for state preparation are new features\n",
    "features_new = np.array([get_angles(x) for x in X_norm_new], requires_grad=False)\n",
    "print(\"New First features sample      :\", features_new[0])\n",
    "# normalization = np.sqrt(np.sum(X ** 2, axis =-1))\n",
    "# features = (X.T / normalization).T\n",
    "Y_new = copy.copy(labels_new)"
   ]
  },
  {
   "cell_type": "code",
   "execution_count": 606,
   "metadata": {},
   "outputs": [
    {
     "data": {
      "text/plain": [
       "Text(0.5, 1.0, 'Old Data and New Data for Equivariance Constraint')"
      ]
     },
     "execution_count": 606,
     "metadata": {},
     "output_type": "execute_result"
    },
    {
     "data": {
      "image/png": "[encoded data removed]",
      "text/plain": [
       "<Figure size 1008x360 with 3 Axes>"
      ]
     },
     "metadata": {
      "needs_background": "light"
     },
     "output_type": "display_data"
    }
   ],
   "source": [
    "plt.subplots(1,3,figsize=(14,5))\n",
    "plt.subplot(1,3,1)\n",
    "plt.plot(np.linspace(0,2,100),np.linspace(0,2,100),linestyle='--',c='black',label='Symmetry')\n",
    "plt.scatter(X[:,0],X[:,1],s=3)\n",
    "plt.legend()\n",
    "plt.title('Old Data without Labels')\n",
    "plt.subplot(1,3,2)\n",
    "plt.plot(np.linspace(0,2,100),np.linspace(0,2,100),linestyle='--',c='black',label='Symmetry')\n",
    "plt.scatter(X[:,0],X[:,1],c=Y,s=3)\n",
    "plt.legend()\n",
    "plt.title('Old Data with Labels')\n",
    "plt.subplot(1,3,3)\n",
    "plt.plot(np.linspace(0,2,100),np.linspace(0,2,100),linestyle='--',c='black',label='Symmetry')\n",
    "plt.scatter(X[:,0],X[:,1],c=Y,s=3)\n",
    "plt.scatter(X_new[:,0],X_new[:,1],c=Y_new,s=3)\n",
    "plt.legend()\n",
    "plt.title('Old Data and New Data for Equivariance Constraint')"
   ]
  },
  {
   "cell_type": "code",
   "execution_count": 607,
   "metadata": {},
   "outputs": [
    {
     "data": {
      "text/plain": [
       "<matplotlib.collections.PathCollection at 0x7f84dc5427f0>"
      ]
     },
     "execution_count": 607,
     "metadata": {},
     "output_type": "execute_result"
    },
    {
     "data": {
      "image/png": "[encoded data removed]",
      "text/plain": [
       "<Figure size 432x288 with 1 Axes>"
      ]
     },
     "metadata": {
      "needs_background": "light"
     },
     "output_type": "display_data"
    }
   ],
   "source": [
    "plt.scatter(features_new[:,0],features_new[:,3],c=Y_new,s=3)"
   ]
  },
  {
   "cell_type": "code",
   "execution_count": 608,
   "metadata": {},
   "outputs": [],
   "source": [
    "feats_train_new = features_new[index[:num_train]]"
   ]
  },
  {
   "cell_type": "code",
   "execution_count": 612,
   "metadata": {},
   "outputs": [
    {
     "name": "stdout",
     "output_type": "stream",
     "text": [
      "Iter: 0 | Cost: 0.9997 | Acc train: 0.5156 | Acc validation: 0.7500 \n",
      "Iter: 10 | Cost: 0.9986 | Acc train: 0.5156 | Acc validation: 0.7500 \n",
      "Iter: 20 | Cost: 0.9977 | Acc train: 0.5156 | Acc validation: 0.7500 \n",
      "Iter: 30 | Cost: 0.9983 | Acc train: 0.5156 | Acc validation: 0.7500 \n",
      "Iter: 40 | Cost: 0.9985 | Acc train: 0.5156 | Acc validation: 0.7500 \n",
      "Iter: 50 | Cost: 0.9993 | Acc train: 0.5156 | Acc validation: 0.7500 \n",
      "Iter: 60 | Cost: 1.0001 | Acc train: 0.4844 | Acc validation: 0.2500 \n",
      "Iter: 70 | Cost: 0.9987 | Acc train: 0.5156 | Acc validation: 0.7500 \n",
      "Iter: 80 | Cost: 0.9978 | Acc train: 0.5156 | Acc validation: 0.7500 \n",
      "Iter: 90 | Cost: 0.9980 | Acc train: 0.5156 | Acc validation: 0.7500 \n"
     ]
    }
   ],
   "source": [
    "# Defines the new QNode\n",
    "num_qubits = 2\n",
    "vqnn_dev_equi = qml.device(\"default.qubit\", wires=num_qubits*3)\n",
    "vqnn_qnode = qml.QNode(vqnn_model_equi, device=vqnn_dev_equi, interface = 'autograd',diff_method='backprop')\n",
    "num_layers = 10\n",
    "optimizer = qml.GradientDescentOptimizer(stepsize=1e-3)#, beta1=0.5, beta2=0.999)\n",
    "weights_init = 0.01 * np.random.randn(num_layers, num_qubits, 3, requires_grad=True)\n",
    "bias_init = np.array(0.0, requires_grad=True)\n",
    "weights = copy.copy(weights_init)\n",
    "bias = copy.copy(bias_init)\n",
    "batch_size=5\n",
    "steps=100\n",
    "for it in range(steps):\n",
    "    # Update the weights by one optimizer step\n",
    "    batch_index = np.random.randint(0, num_train, (batch_size,))\n",
    "    feats_train_batch = feats_train[batch_index]\n",
    "    Y_train_batch = Y_train[batch_index]\n",
    "    feats_train_new_batch= feats_train_new[batch_index]\n",
    "    weights, bias, _, _, _ = optimizer.step(cost_equi, weights, bias, feats_train_batch, Y_train_batch, feats_train_new_batch)\n",
    "    # Compute predictions on train and validation set\n",
    "    predictions_train = [np.sign(vqnn_equi(weights, bias, f, f))[0] for f in feats_train]\n",
    "    predictions_val = [np.sign(vqnn_equi(weights, bias, f, f))[0] for f in feats_val]\n",
    "    # Compute accuracy on train and validation set\n",
    "    acc_train = accuracy(Y_train, predictions_train)\n",
    "    acc_val = accuracy(Y_val, predictions_val)\n",
    "    if it%10==0:\n",
    "        print(\"Iter: {} | Cost: {:.4f} | Acc train: {:.4f} | Acc validation: {:.4f} \".format(it, qml.math.toarray(cost_equi(weights, bias, features, Y, features_new))[0], acc_train, acc_val) )"
   ]
  },
  {
   "cell_type": "code",
   "execution_count": 614,
   "metadata": {},
   "outputs": [
    {
     "name": "stderr",
     "output_type": "stream",
     "text": [
      "<ipython-input-614-5fe8ae4376f7>:23: UserWarning: No contour levels were found within the data range.\n",
      "  plt.contour(xx, yy, Z, levels=[0.0], colors=(\"black\",), linestyles=(\"--\",), linewidths=(0.8,))\n"
     ]
    },
    {
     "data": {
      "image/png": "[encoded data removed]",
      "text/plain": [
       "<Figure size 1008x432 with 4 Axes>"
      ]
     },
     "metadata": {
      "needs_background": "light"
     },
     "output_type": "display_data"
    }
   ],
   "source": [
    "# plot data\n",
    "plt.subplots(1,3,figsize=(14,6))\n",
    "plt.subplot(1,3,1)\n",
    "plt.scatter(coordinates[:,0],coordinates[:,1],c=labels,s=10)\n",
    "plt.title('Original Data (Colors Switched)')\n",
    "plt.subplot(1,3,2)\n",
    "\n",
    "cm = plt.cm.RdBu\n",
    "# make data for decision regions\n",
    "xx, yy = np.meshgrid(np.linspace(s, l1, 20), np.linspace(s, l1, 20))\n",
    "X_grid = [np.array([x, y]) for x, y in zip(xx.flatten(), yy.flatten())]\n",
    "# preprocess grid points like data inputs above\n",
    "padding = 0.3 * np.ones((len(X_grid), 1))\n",
    "X_grid = np.c_[np.c_[X_grid, padding], np.zeros((len(X_grid), 1))]  # pad each input\n",
    "normalization = np.sqrt(np.sum(X_grid ** 2, -1))\n",
    "X_grid = (X_grid.T / normalization).T  # normalize each input\n",
    "features_grid = np.array([get_angles(x) for x in X_grid])  # angles for state preparation are new features\n",
    "predictions_grid = [vqnn_equi(weights, bias, f,f)[0] for f in features_grid]\n",
    "Z = np.reshape(predictions_grid, xx.shape)\n",
    "\n",
    "# plot decision regions\n",
    "cnt = plt.contourf(xx, yy, Z, levels=np.arange(-1, 1.1, 0.1), cmap=cm, alpha=0.8, extend=\"both\")\n",
    "plt.contour(xx, yy, Z, levels=[0.0], colors=(\"black\",), linestyles=(\"--\",), linewidths=(0.8,))\n",
    "plt.colorbar(cnt, ticks=[-1, 0, 1])\n",
    "\n",
    "plt.scatter(\n",
    "    X_train[(Y_train == 1).reshape(Y_train.shape[0],),0],\n",
    "    X_train[(Y_train == 1).reshape(Y_train.shape[0],),1],\n",
    "    c=\"purple\",\n",
    "    marker=\"o\",\n",
    "    edgecolors=\"k\",\n",
    "    label=\"class 1 train\",\n",
    ")\n",
    "plt.scatter(\n",
    "    X_val[(Y_val == 1).reshape(Y_val.shape[0],),0],\n",
    "    X_val[(Y_val == 1).reshape(Y_val.shape[0],),1],\n",
    "    c=\"blue\",\n",
    "    marker=\"^\",\n",
    "    edgecolors=\"k\",\n",
    "    label=\"class 1 validation\",\n",
    ")\n",
    "plt.scatter(\n",
    "    X_train[(Y_train == -1).reshape(Y_train.shape[0],),0],\n",
    "    X_train[(Y_train == -1).reshape(Y_train.shape[0],),1],\n",
    "    c=\"orange\",\n",
    "    marker=\"o\",\n",
    "    edgecolors=\"k\",\n",
    "    label=\"class -1 train\",\n",
    ")\n",
    "plt.scatter(\n",
    "    X_val[(Y_val == -1).reshape(Y_val.shape[0],),0],\n",
    "    X_val[(Y_val == -1).reshape(Y_val.shape[0],),1],\n",
    "    c=\"yellow\",\n",
    "    marker=\"^\",\n",
    "    edgecolors=\"k\",\n",
    "    label=\"class -1 validation\",\n",
    ")\n",
    "plt.legend()\n",
    "\n",
    "plt.subplot(1,3,3)\n",
    "predictions_new = [int(np.sign(vqnn_equi(weights, bias, f,f)[0]).item()) for f in features]\n",
    "for i in range(len(Y)):\n",
    "    if Y[i].item()==-1:\n",
    "        plt.scatter(X[i,0].item(),X[i,1].item(),c='gold',s=10)\n",
    "    else:\n",
    "        plt.scatter(X[i,0].item(),X[i,1].item(),c='purple',s=10)\n",
    "plt.title('Predicitons')\n",
    "plt.show()"
   ]
  },
  {
   "cell_type": "markdown",
   "metadata": {},
   "source": [
    "---\n",
    "\n",
    "## Task VIII: Vision transformer/Quantum Vision Transformer\n",
    "\n",
    "\n",
    "Implement a classical Vision transformer and apply it to MNIST. Show its performance on the test data. Comment on potential ideas to extend this classical vision transformer architecture to a quantum vision transformer and sketch out the architecture in detail.\n",
    "\n",
    "[1] Adaptation from https://github.com/daewoung/Vision-Transformer-MNIST-Pytorch-Lightning/blob/main/VIT_MNIST_LI.ipynb"
   ]
  },
  {
   "cell_type": "code",
   "execution_count": 615,
   "metadata": {},
   "outputs": [],
   "source": [
    "import numpy as np\n",
    "import os\n",
    "import torch\n",
    "from torch import nn\n",
    "import matplotlib.pyplot as plt\n",
    "import pytorch_lightning as pl\n",
    "from torch.utils.data import DataLoader, random_split\n",
    "from torchvision import datasets, transforms\n",
    "from torchvision.transforms import ToTensor, Lambda\n",
    "from einops.layers.torch import Reduce\n",
    "from pytorch_lightning.callbacks.early_stopping import EarlyStopping\n",
    "import torchmetrics\n",
    "torch.manual_seed(0)\n",
    "torch.set_default_dtype(torch.float64)\n",
    "device = 'cuda' if torch.cuda.is_available() else 'cpu'"
   ]
  },
  {
   "cell_type": "code",
   "execution_count": 616,
   "metadata": {},
   "outputs": [
    {
     "name": "stdout",
     "output_type": "stream",
     "text": [
      "Data Shape:  torch.Size([5, 1, 28, 28])\n",
      "Labels Shape:  torch.Size([5])\n"
     ]
    }
   ],
   "source": [
    "training_data = datasets.MNIST(\n",
    "    root=\"data\",\n",
    "    train=True,\n",
    "    download=False,\n",
    "    transform=ToTensor()\n",
    ")\n",
    "\n",
    "test_data = datasets.MNIST(\n",
    "    root=\"data\",\n",
    "    train=False,\n",
    "    download=False,\n",
    "    transform=ToTensor()\n",
    ")\n",
    "\n",
    "n1 = int(55e3)\n",
    "n2 = int(5e3)\n",
    "train_dataset, val_dataset = random_split(training_data, [n1, n2])\n",
    "train_dataloader = DataLoader(train_dataset, batch_size=batch_size,num_workers=2)\n",
    "val_dataloader = DataLoader(val_dataset, batch_size=batch_size,num_workers=2)\n",
    "test_dataloader = DataLoader(test_data, batch_size=batch_size,num_workers=2)\n",
    "data, label = next(iter(train_dataloader))\n",
    "data = data.to(device)\n",
    "label = label.to(device)\n",
    "print('Data Shape: ',data.shape)\n",
    "print('Labels Shape: ',label.shape)"
   ]
  },
  {
   "cell_type": "code",
   "execution_count": 617,
   "metadata": {},
   "outputs": [],
   "source": [
    "class EmbeddingLayer(nn.Module):\n",
    "    def __init__(self,in_chan, img_size, patch_size,batch_size=128):\n",
    "        super().__init__()\n",
    "        self.num_patches = int(img_size / np.power(patch_size,2) ) # 49\n",
    "        self.emb_size = int(in_chan * patch_size * patch_size) # 16\n",
    "        self.project = nn.Conv2d(in_chan, self.emb_size, kernel_size= patch_size, stride=patch_size)\n",
    "        self.cls_token = nn.Parameter(torch.randn(1,1,self.emb_size))\n",
    "        self.positions = nn.Parameter(torch.randn(self.num_patches+ 1, self.emb_size)) # [50,16]\n",
    "    \n",
    "    def forward(self, x):\n",
    "        x = self.project(x)\n",
    "        x = x.view(-1, 49, 16) # [batch_size, 49, 16]\n",
    "        repeat_cls = self.cls_token.repeat(x.size()[0],1,1) #[batch_size, 1 , 16]\n",
    "        x = torch.cat((repeat_cls, x), dim=1)\n",
    "        x += self.positions\n",
    "        return x\n",
    "\n",
    "class Multihead(nn.Module):\n",
    "    def __init__(self, emb_size, num_heads):\n",
    "        super().__init__()\n",
    "        self.multiheadattention = nn.MultiheadAttention(emb_size, num_heads, batch_first = True, dropout=0.2)\n",
    "        self.query = nn.Linear(emb_size, emb_size)\n",
    "        self.key = nn.Linear(emb_size, emb_size)\n",
    "        self.value = nn.Linear(emb_size, emb_size)\n",
    "\n",
    "    def forward(self, x):\n",
    "        query = self.query(x)\n",
    "        key = self.key(x)\n",
    "        value = self.value(x)\n",
    "        attn_output, attention = self.multiheadattention(query, key, value)\n",
    "        return attn_output, attention\n",
    "    \n",
    "class FeedForwardBlock(nn.Sequential):\n",
    "    def __init__(self, emb_size, expansion = 4, p = 0.2):\n",
    "        super().__init__(nn.Linear(emb_size, expansion * emb_size),\n",
    "                         nn.GELU(),\n",
    "                         nn.Dropout(p),\n",
    "                         nn.Linear(expansion * emb_size, emb_size)  )\n",
    "        \n",
    "class VIT(nn.Module):\n",
    "    def __init__(self,emb_size = 16):\n",
    "        super().__init__()\n",
    "        self.embedding = EmbeddingLayer(1, 28*28, 4)\n",
    "        self.Multihead = Multihead(emb_size, 8)\n",
    "        self.FFB = FeedForwardBlock(emb_size)\n",
    "        self.norm = nn.LayerNorm(emb_size)\n",
    "        \n",
    "    def forward(self, x):\n",
    "        x = self.embedding(x)\n",
    "        norm_x = self.norm(x)\n",
    "        multihead_output, attention = self.Multihead(norm_x)\n",
    "        #residual Function\n",
    "        output = multihead_output + x\n",
    "        norm_output = self.norm(output)\n",
    "        FFB = self.FFB(norm_output)\n",
    "        final_out = FFB + output\n",
    "        \n",
    "        return final_out, attention\n",
    "\n",
    "class TransformerEncoder(nn.Module):\n",
    "    def __init__(self, n_layers=5 ):\n",
    "        super().__init__()\n",
    "        self.layers = nn.ModuleList([VIT() for _ in range(n_layers)])\n",
    "        \n",
    "    def forward(self, x):\n",
    "        for layer in self.layers:\n",
    "            final_out, attention = layer(x)\n",
    "            \n",
    "        return final_out"
   ]
  },
  {
   "cell_type": "code",
   "execution_count": 618,
   "metadata": {},
   "outputs": [],
   "source": [
    "class VIT_Encoder(pl.LightningModule):\n",
    "    def __init__(self):\n",
    "        super().__init__()\n",
    "        self.loss = []\n",
    "        self.Encoder = nn.Sequential(TransformerEncoder(n_layers = 5) )#,Reduce('b n e -> b e', reduction='mean')\n",
    "        self.final_layer = nn.Linear(16, 10)\n",
    "        self.val_loss = []\n",
    "        self.acc = []\n",
    "        self.test_acc =[]\n",
    "        \n",
    "    def forward(self, x):\n",
    "        x = self.Encoder(x.type(torch.float64))\n",
    "        cls_token_final = x[:,0]\n",
    "        cls_token_final = self.final_layer(cls_token_final)\n",
    "        return cls_token_final\n",
    "    \n",
    "    def training_step(self, batch, batch_idx):\n",
    "        x, y = batch\n",
    "        logits = self(x)\n",
    "        loss = nn.CrossEntropyLoss()(logits,y)\n",
    "        self.loss.append(loss.item())\n",
    "        return loss \n",
    "    \n",
    "    def training_epoch_end(self, batch):\n",
    "        mean_loss = sum(self.loss) / 430\n",
    "        print(f'traing_loss :{mean_loss}')\n",
    "        self.loss = []\n",
    "        self.acc = []\n",
    "        \n",
    "    def validation_step(self, batch, batch_idx):\n",
    "        x, y = batch\n",
    "        logits = self(x)\n",
    "        loss = nn.CrossEntropyLoss()(logits,y)\n",
    "        self.val_loss.append(loss.item())\n",
    "        acc = accuracy(logits, y)\n",
    "        self.acc.append(acc)\n",
    "        return loss \n",
    "    \n",
    "    def validation_epoch_end(self, batch):\n",
    "        mean_loss = sum(self.val_loss) / 40\n",
    "        mean_acc = sum(self.acc) / 40\n",
    "        print(f'val loss :{mean_loss}, val_acc : {mean_acc}')\n",
    "\n",
    "        self.val_loss = []\n",
    "        self.acc = []\n",
    "        self.log(\"val_loss\", mean_loss)\n",
    "        \n",
    "    def test_dataloader(self):\n",
    "        return test_dataloader\n",
    "        \n",
    "    def test_step(self, batch, batch_idx):\n",
    "        x, y = batch\n",
    "        logits = self(x)\n",
    "        acc = accuracy(logits, y)\n",
    "        self.test_acc.append(acc)\n",
    "        \n",
    "    def test_epoch_end(self, batch):\n",
    "        mean_acc = sum(self.test_acc)/ 79\n",
    "        print(mean_acc)\n",
    "            \n",
    "    def configure_optimizers(self):\n",
    "        return torch.optim.Adam(self.parameters(), lr=1e-3)    "
   ]
  },
  {
   "cell_type": "code",
   "execution_count": 622,
   "metadata": {},
   "outputs": [
    {
     "name": "stdout",
     "output_type": "stream",
     "text": [
      "Batch Test Data Shape:  torch.Size([5, 1, 28, 28])\n",
      "Batch Test Labels Shape:  torch.Size([5])\n"
     ]
    }
   ],
   "source": [
    "learning_rate = 1e-3\n",
    "batch_size = 128\n",
    "accuracy = torchmetrics.Accuracy(task=\"multiclass\", num_classes = 10).to(device)\n",
    "early_stop_callback = EarlyStopping(monitor='val_loss', mode ='min', patience=5)\n",
    "model = VIT_Encoder()\n",
    "batch_test = model.test_dataloader()\n",
    "batch_test_data, batch_test_labels = next(iter(batch_test))\n",
    "print('Batch Test Data Shape: ',batch_test_data.shape)\n",
    "print('Batch Test Labels Shape: ',batch_test_labels.shape)\n",
    "model = VIT_Encoder().to(device)"
   ]
  },
  {
   "cell_type": "code",
   "execution_count": null,
   "metadata": {},
   "outputs": [
    {
     "name": "stderr",
     "output_type": "stream",
     "text": [
      "GPU available: False, used: False\n",
      "TPU available: False, using: 0 TPU cores\n",
      "IPU available: False, using: 0 IPUs\n",
      "HPU available: False, using: 0 HPUs\n",
      "Missing logger folder: /Users/roythomasf/Work/UF/Research/2023_GSoC/quantum_GNNs/lightning_logs\n",
      "\n",
      "  | Name        | Type       | Params\n",
      "-------------------------------------------\n",
      "0 | Encoder     | Sequential | 25.8 K\n",
      "1 | final_layer | Linear     | 170   \n",
      "-------------------------------------------\n",
      "25.9 K    Trainable params\n",
      "0         Non-trainable params\n",
      "25.9 K    Total params\n",
      "0.104     Total estimated model params size (MB)\n"
     ]
    },
    {
     "data": {
      "application/vnd.jupyter.widget-view+json": {
       "model_id": "8e6e809f4f6a4f339c612a59c174a40e",
       "version_major": 2,
       "version_minor": 0
      },
      "text/plain": [
       "Sanity Checking: 0it [00:00, ?it/s]"
      ]
     },
     "metadata": {},
     "output_type": "display_data"
    },
    {
     "name": "stdout",
     "output_type": "stream",
     "text": [
      "val loss :0.12593769860778622, val_acc : 0.004999999888241291\n"
     ]
    },
    {
     "data": {
      "application/vnd.jupyter.widget-view+json": {
       "model_id": "682bd1b26ec742f494933208e34bb372",
       "version_major": 2,
       "version_minor": 0
      },
      "text/plain": [
       "Training: 0it [00:00, ?it/s]"
      ]
     },
     "metadata": {},
     "output_type": "display_data"
    }
   ],
   "source": [
    "epochs=10\n",
    "# Train from pytorchlightning\n",
    "trainer = pl.Trainer(max_epochs=epochs, callbacks=[early_stop_callback])#gpus\n",
    "trainer.fit(model, train_dataloader, val_dataloader)"
   ]
  },
  {
   "cell_type": "code",
   "execution_count": null,
   "metadata": {},
   "outputs": [],
   "source": [
    "trainer.test()"
   ]
  },
  {
   "cell_type": "markdown",
   "metadata": {},
   "source": [
    "## Possibility for Quantum Transformer\n",
    "\n",
    "Classical Vision Transformer:\n",
    "1. Data into Patches\n",
    "2. Patches to vectors\n",
    "3. Enhance Patches with class embeddings (same size as patches)\n",
    "4. Add positional embedding\n",
    "5. Use class embedding at end to fully connected layer\n",
    "6. Output to transformer: P layers (start of one transformer layer)\n",
    "7. Normalization over all patches\n",
    "8. Attention mechanism (W connects all vectors, turn into attention matrix A, apply AV to all x ->y)\n",
    "9. Add initial state vectors in residual layer and renormalize\n",
    "10. Multi-layer perception and add residual (end of one tranformer layer)\n",
    "11. Take class embedding and apply layer for classes.\n",
    "\n",
    "Quantum Vision Transformer:\n",
    "1. Amplitude encoding of data ($d$ qubits for each vector of size $d$ using RBS gates)\n",
    "$$| x_i \\rangle = \\frac{1}{|x|}\\sum_{i=1}^d x_i | e_i \\rangle$$\n",
    "i.e. 1 in $i$-th state location, 0 therwise. \n",
    "2. Load rows through a vector data loader using CNOTs on ith qubit.\n",
    "$$| X \\rangle = \\frac{1}{|X|}\\sum_{i=1}^n\\sum_{i=1}^d X_{ij} | e_i \\rangle| e_j \\rangle$$\n",
    "2. Transformer: P layers (start of quantum transformer)\n",
    "3. Quantum Orthogonal Layers (e.g. cascadement of RBS gates across adjacent states) for parametrization of the circuit of $d$ qubits. \n",
    "4. Apply same trainable Attention transformation matrix $V$ to encoded state multiple times find attention coefficients through the expectation values of $\\langle W \\rangle$ where $W$ is a trainable matrix. Combine to form $AVx=y$.\n",
    "$$|y_i \\rangle = \\sum_j A_{ij} |e_j \\rangle | V x_j \\rangle$$\n",
    "5. Could go one step further using fully connected transformations $R_{ij}$, ${d \\choose 2}=d(d-1)/2$ of them, for all possible two qubit combinations (imitating self MLP). Can also use a classical fully connected MLP for this by taking new vectors as the complex values of the encoded complex states (qubits).\n",
    "11. For two classes, take expectation value with respect to $PauliZ$ of the $i$-th qubit of $i$-th state vector. For multiple classes, look at the qubit state in the $i$th location of the $i$th vector, plot a 2D encoded classes plot using the real (x) and imag (y) as position vectors. For multiple classes, you can also use a classical Linear layer on $y_i$ and apply a softmax to reduce to the solutions, as well.\n",
    "\n",
    "Note: We can also build this up to connect the encoded vectors more, as in a classical transformer, by applying the $V$ layers across two registers of encoded data."
   ]
  },
  {
   "cell_type": "code",
   "execution_count": null,
   "metadata": {},
   "outputs": [],
   "source": []
  }
 ],
 "metadata": {
  "kernelspec": {
   "display_name": "Python 3",
   "language": "python",
   "name": "python3"
  },
  "language_info": {
   "codemirror_mode": {
    "name": "ipython",
    "version": 3
   },
   "file_extension": ".py",
   "mimetype": "text/x-python",
   "name": "python",
   "nbconvert_exporter": "python",
   "pygments_lexer": "ipython3",
   "version": "3.8.5"
  }
 },
 "nbformat": 4,
 "nbformat_minor": 4
}
