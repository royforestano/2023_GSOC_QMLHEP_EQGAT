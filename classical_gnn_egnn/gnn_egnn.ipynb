{
 "cells": [
  {
   "cell_type": "markdown",
   "metadata": {},
   "source": [
    "# Classical Graph Neural Network (GNN) \n",
    "\n",
    "Classifying Pythia8 Quark and Gluon Jets Using a Graph Convolutional Network (GCN) and Graph Convolutional Attention Network (GCAT)\n",
    "\n",
    "Author: Roy T. Forestano\n",
    "\n",
    "Date: 15-29 June 2023\n",
    "\n",
    "Based on formalisms from:\n",
    "- Graph Convolutional Networks: https://tkipf.github.io/graph-convolutional-networks/\n",
    "- Neural Message Passing for Quantum Chemistry: https://arxiv.org/abs/1704.01212\n",
    "- E(n) Equivariant Graph Neural Networks: https://arxiv.org/abs/2102.09844"
   ]
  },
  {
   "cell_type": "markdown",
   "metadata": {},
   "source": [
    "$\\bf\\text{Database Information: Pythia8 Quark and Gluon Jets for Energy Flow}$\n",
    "\n",
    "Two datasets of quark and gluon jets generated with Pythia 8, one with all kinematically realizable quark jets and one that excludes charm and bottom quark jets (at the level of the hard process). The one without c and b jets was originally used in Energy Flow Networks: Deep Sets for Particle Jets. Generation parameters are listed below:\n",
    "\n",
    "Pythia 8.226 (without bc jets), Pythia 8.235 (with bc jets), s√=14TeV\n",
    "Quarks from WeakBosonAndParton:qg2gmZq, gluons from WeakBosonAndParton:qqbar2gmZg with the Z decaying to neutrinos\n",
    "FastJet 3.3.0, anti-ki jets with R=0.4\n",
    "pjetT∈[500,550]GeV,|yjet|<1.7\n",
    "There are 20 files in each dataset, each in compressed NumPy format. Files including charm and bottom jets have 'withbc' in their filename. There are two arrays in each file\n",
    "\n",
    "X: (100000,M,4), exactly 50k quark and 50k gluon jets, randomly sorted, where M is the max multiplicity of the jets in that file (other jets have been padded with zero-particles), and the features of each particle are its pt, rapidity, azimuthal angle, and pdgid.\n",
    "\n",
    "\n",
    "y: (100000,), an array of labels for the jets where gluon is 0 and quark is 1.\n",
    "\n",
    "[1] P. T. Komiske, E. M. Metodiev, J. Thaler, Energy Flow Networks: Deep Sets for Particle Jets, JHEP 01 (2019) 121, arXiv:1810.05165.\n",
    "\n",
    "[2] Petar Veliˇckovi ́c, Guillem Cucurull, Arantxa Casanova, Adriana Romero, Pietro Lio and Yoshua Bengio. Graph attention networks. 2018"
   ]
  },
  {
   "cell_type": "markdown",
   "metadata": {},
   "source": [
    "Other References:\n",
    "\n",
    "1. Multiplicity of Jets: https://link.springer.com/article/10.1134/S1063778818110236\n",
    "2. GAT: https://github.com/Diego999/pyGAT"
   ]
  },
  {
   "cell_type": "markdown",
   "metadata": {},
   "source": [
    "## Preprocess Data\n",
    "\n",
    "1. We will utlize a package called particle in order to find the particle masses based on their pdgid's.\n",
    "2. We will take the given features $p_T,y,\\phi$ to create new physically realizable features including the \n",
    "\n",
    "$\\bf\\text{Transverse Mass Per Multiplicity ($m_{T,ij}$)}$\n",
    "$$m_{T,ij} = \\sqrt{m_{ij}^2 + p_{T,ij}^2}$$\n",
    "$\\bf\\text{Energy Per Multiplicity ($E_{ij}$)}$\n",
    "$$E_{ij} = m_{T,ij} \\text{cosh} y_{ij}$$\n",
    "$\\bf\\text{Energy Per Jet ($E_i$)}$\n",
    "$$E_i = \\sum_j E_{ij}$$\n",
    "$\\bf\\text{Kinematic Momenta Components Per Multiplicity ($\\vec{p}_{ij} = (p_{x,ij},p_{y,ij},p_{z,ij})$)} \\equiv (N,M,3)$ \n",
    "$$p_{x,ij} = p_{T,ij} \\text{cos} \\phi$$\n",
    "$$p_{y,ij} = p_{T,ij} \\text{sin} \\phi$$\n",
    "$$p_{z,ij} = m_{T,ij} \\text{sinh} y_{ij}$$\n",
    "$\\bf\\text{Kinematic Momenta Components Per Jet ($\\vec{p}_{i} = (p_{x,i},p_{y,i},p_{z,i})$)} \\equiv (N,3)$ \n",
    "$$\\vec{p}_{i} = \\sum_j \\vec{p}_{ij}$$\n",
    "$\\bf\\text{Transverse Momenta Per Jet ($p_{T,i} = |(p_{x,i},p_{y,i})|$)} \\equiv (N,1)$ \n",
    "$$\\vec{p}_{i} = \\sqrt{ \\sum_{x,y}\\left(\\sum_j \\vec{p}_{ij} \\right)^2}$$\n",
    "$\\bf\\text{Mass Per Jet ($m_{i}$)} \\equiv (N,1)$ \n",
    "$$m_{i} = \\sqrt{ (E_i - \\vec{p}_{i} \\cdot \\vec{p}_{i} )^2}$$\n",
    "$\\bf\\text{Rapidity Per Jet ($y_{i}$)} \\equiv (N,1)$ \n",
    "$$y_{i} =\\frac{1}{2}\\ln \\left( \\frac{E_i + p_{z,i}}{E_i - p_{z,i}} \\right)$$\n",
    "2. Make Edges: Connect three nearest neighbors via invariant mass between particles \n",
    "\n",
    "$$m_{ij} = \\left( E_{i} - E_{j} \\right)^2 - \\left( \\vec{p}_{i} - \\vec{p}_{j} \\right)^2$$\n",
    "\n",
    "Add connections for EQNN (as location data) via $R = \\sqrt{\\Delta \\phi^2 + \\Delta y^2}$\n",
    "\n",
    "$$m_{ij} = \\sqrt{ \\left( \\phi_{i} - \\phi_{j} \\right)^2 + \\left( y_{i} - y_{j} \\right)^2 }$$\n",
    "\n",
    "Add masses, energy, and three momentum components to node features."
   ]
  },
  {
   "cell_type": "code",
   "execution_count": 1,
   "metadata": {},
   "outputs": [],
   "source": [
    "# !pip install particle\n",
    "# !pip install torch_geometric\n",
    "# !pip install pyg_lib torch_scatter torch_sparse torch_cluster torch_spline_conv -f https://data.pyg.org/whl/torch-1.13.0+cpu.html"
   ]
  },
  {
   "cell_type": "code",
   "execution_count": 2,
   "metadata": {
    "scrolled": true
   },
   "outputs": [
    {
     "name": "stdout",
     "output_type": "stream",
     "text": [
      "Device:  cuda\n"
     ]
    },
    {
     "data": {
      "text/plain": [
       "<torch._C.Generator at 0x2b72ad5577b0>"
      ]
     },
     "execution_count": 2,
     "metadata": {},
     "output_type": "execute_result"
    }
   ],
   "source": [
    "import numpy as np\n",
    "from numpy.random import default_rng\n",
    "import pandas as pd\n",
    "import matplotlib.pyplot as plt\n",
    "from tqdm import tqdm\n",
    "from time import time\n",
    "import os\n",
    "import copy\n",
    "from particle import Particle\n",
    "from sklearn.model_selection import train_test_split\n",
    "from gnn_egnn.preprocess import *\n",
    "\n",
    "import torch\n",
    "from torch import nn as nn\n",
    "#from torch.utils.data import TensorDataset, DataLoader, Dataset\n",
    "from torchvision import datasets\n",
    "from torchvision.transforms import ToTensor\n",
    "from torch.nn import Linear\n",
    "import torch.nn.functional as F\n",
    "\n",
    "from torch_geometric.data import Data\n",
    "from torch_geometric.loader import DataLoader\n",
    "from torch_geometric.data import Dataset, InMemoryDataset, download_url\n",
    "# from torch_geometric.nn import GCNConv\n",
    "# from torch_geometric.nn import GATConv\n",
    "# from torch_geometric.nn import Sequential\n",
    "# from torch_geometric import nn\n",
    "# from torch_geometric.nn import global_mean_pool\n",
    "\n",
    "\n",
    "torch.set_default_dtype(torch.float64)\n",
    "device = \"cuda\" if torch.cuda.is_available() else \"cpu\"\n",
    "print('Device: ',device)\n",
    "\n",
    "np.random.seed(0)\n",
    "torch.manual_seed(0)"
   ]
  },
  {
   "cell_type": "code",
   "execution_count": 3,
   "metadata": {},
   "outputs": [],
   "source": [
    "path = 'Data_wo_bc/pythia8/'"
   ]
  },
  {
   "cell_type": "code",
   "execution_count": 4,
   "metadata": {},
   "outputs": [],
   "source": [
    "# files = []\n",
    "# for i in range(20):\n",
    "#     if i<10:\n",
    "#         files.append(np.load(path+f'QG_jets_0{i}.npz', allow_pickle=True))\n",
    "#     else:\n",
    "#         files.append(np.load(path+f'QG_jets_{str(i)[0]+str(i)[1]}.npz', allow_pickle=True))"
   ]
  },
  {
   "cell_type": "code",
   "execution_count": 5,
   "metadata": {},
   "outputs": [],
   "source": [
    "# len(files)"
   ]
  },
  {
   "cell_type": "code",
   "execution_count": 6,
   "metadata": {},
   "outputs": [],
   "source": [
    "# M=np.zeros(len(files),)\n",
    "# for i,file in enumerate(files):\n",
    "#     lst = file.files\n",
    "#     for j,item in enumerate(lst):\n",
    "#         if j==0:\n",
    "#             M[i] = file[item][0,:,0].shape[0]"
   ]
  },
  {
   "cell_type": "code",
   "execution_count": 7,
   "metadata": {},
   "outputs": [],
   "source": [
    "# max_multiplicity = int(M.max())"
   ]
  },
  {
   "cell_type": "code",
   "execution_count": 8,
   "metadata": {},
   "outputs": [],
   "source": [
    "# #names = []\n",
    "# #data = []\n",
    "# for i,file in enumerate(files):\n",
    "#     lst = file.files\n",
    "#     print(f'File: {i}')\n",
    "#     for j,item in enumerate(lst):\n",
    "#         #names.append(item)\n",
    "#         #data.append(file[item])\n",
    "#         if j==0:\n",
    "#             if i==0:\n",
    "#                 x_data = np.pad(array=file[item],pad_width=((0,0),(0,int(max_multiplicity-file[item].shape[1])),(0,0)), mode='constant', constant_values=((None,None),(None,0.),(None,None)))\n",
    "#                 print('X Data Shape: ', x_data.shape)\n",
    "#             else:\n",
    "#                 x_new = np.pad(array=file[item],pad_width=((0,0),(0,int(max_multiplicity-file[item].shape[1])),(0,0)), mode='constant', constant_values=((None,None),(None,0.),(None,None)))\n",
    "#                 print('X Data Shape: ', x_new.shape)\n",
    "#                 x_data = np.vstack([x_data,x_new])\n",
    "#         elif j==1:\n",
    "#             if i==0:\n",
    "#                 y_data = file[item]\n",
    "#                 print('Y Data Shape: ', y_data.shape)\n",
    "#             else:\n",
    "#                 y_data = np.vstack([y_data,file[item]])\n",
    "#                 print('Y Data Shape: ', y_data.shape)\n",
    "#             #names.append(item)\n",
    "#             #print(files[item].shape)#.item()['0'].shape)\n",
    "#             #data.append(files[item])"
   ]
  },
  {
   "cell_type": "code",
   "execution_count": 9,
   "metadata": {},
   "outputs": [],
   "source": [
    "# np.save(path+'appended_data.npy',x_data)"
   ]
  },
  {
   "cell_type": "code",
   "execution_count": 10,
   "metadata": {},
   "outputs": [],
   "source": [
    "# np.save(path+'appended_labels.npy',y_data)"
   ]
  },
  {
   "cell_type": "code",
   "execution_count": 11,
   "metadata": {},
   "outputs": [],
   "source": [
    "x_data = np.load(path+'appended_data.npy')\n",
    "y_data = np.load(path+'appended_labels.npy').reshape(x_data.shape[0],)"
   ]
  },
  {
   "cell_type": "code",
   "execution_count": 12,
   "metadata": {},
   "outputs": [
    {
     "data": {
      "text/plain": [
       "(2000000, 148, 4)"
      ]
     },
     "execution_count": 12,
     "metadata": {},
     "output_type": "execute_result"
    }
   ],
   "source": [
    "x_data[:,:,:].shape"
   ]
  },
  {
   "cell_type": "code",
   "execution_count": 13,
   "metadata": {},
   "outputs": [
    {
     "data": {
      "text/plain": [
       "(2000000,)"
      ]
     },
     "execution_count": 13,
     "metadata": {},
     "output_type": "execute_result"
    }
   ],
   "source": [
    "y_data.shape"
   ]
  },
  {
   "cell_type": "code",
   "execution_count": 14,
   "metadata": {},
   "outputs": [],
   "source": [
    "#x = data[0]; y = data[1]"
   ]
  },
  {
   "cell_type": "code",
   "execution_count": 15,
   "metadata": {},
   "outputs": [],
   "source": [
    "Ntry = 1000"
   ]
  },
  {
   "cell_type": "code",
   "execution_count": 16,
   "metadata": {},
   "outputs": [
    {
     "data": {
      "text/plain": [
       "<matplotlib.colorbar.Colorbar at 0x2b7351399ae0>"
      ]
     },
     "execution_count": 16,
     "metadata": {},
     "output_type": "execute_result"
    },
    {
     "data": {
      "image/png": "[encoded data removed]",
      "text/plain": [
       "<Figure size 500x300 with 2 Axes>"
      ]
     },
     "metadata": {},
     "output_type": "display_data"
    }
   ],
   "source": [
    "plt.figure(figsize=(5,3))\n",
    "plt.scatter(x_data[:Ntry,0,0],x_data[:Ntry,0,1],s=1,c=y_data[:Ntry],cmap='RdBu')#,vmin=0.,vmax=1.)\n",
    "plt.scatter(-x_data[:Ntry,0,0],x_data[:Ntry,0,1],s=1,c=y_data[:Ntry],cmap='RdBu')#,vmin=0.,vmax=1.)\n",
    "plt.xlabel('$p_T$')\n",
    "plt.ylabel('$\\eta$')\n",
    "plt.xlim(-5,5)\n",
    "plt.title('')\n",
    "plt.colorbar(label='Class')"
   ]
  },
  {
   "cell_type": "code",
   "execution_count": 17,
   "metadata": {},
   "outputs": [],
   "source": [
    "unique_particles = np.unique(x_data[:Ntry,:,3])"
   ]
  },
  {
   "cell_type": "code",
   "execution_count": 18,
   "metadata": {},
   "outputs": [
    {
     "data": {
      "text/plain": [
       "array([-2212., -2112.,  -321.,  -211.,   -13.,   -11.,     0.,    11.,\n",
       "          13.,    22.,   130.,   211.,   321.,  2112.,  2212.])"
      ]
     },
     "execution_count": 18,
     "metadata": {},
     "output_type": "execute_result"
    }
   ],
   "source": [
    "unique_particles"
   ]
  },
  {
   "cell_type": "code",
   "execution_count": 19,
   "metadata": {},
   "outputs": [
    {
     "name": "stdout",
     "output_type": "stream",
     "text": [
      "0 -2212.0 p~ 0.93827208816\n",
      "1 -2112.0 n~ 0.9395654204999999\n",
      "2 -321.0 K- 0.49367700000000003\n",
      "3 -211.0 pi- 0.13957039000000002\n",
      "4 -13.0 mu+ 0.1056583755\n",
      "5 -11.0 e+ 0.0005109989499999999\n",
      "7 11.0 e- 0.0005109989499999999\n",
      "8 13.0 mu- 0.1056583755\n",
      "9 22.0 gamma 0.0\n",
      "10 130.0 K(L)0 0.49761099999999997\n",
      "11 211.0 pi+ 0.13957039000000002\n",
      "12 321.0 K+ 0.49367700000000003\n",
      "13 2112.0 n 0.9395654204999999\n",
      "14 2212.0 p 0.93827208816\n"
     ]
    }
   ],
   "source": [
    "for i,particle in enumerate(unique_particles):\n",
    "    if particle!=0:\n",
    "        symbol =Particle.from_pdgid(particle).name\n",
    "        mass = Particle.from_pdgid(particle).mass/1000\n",
    "        print(i,particle,symbol,mass)"
   ]
  },
  {
   "cell_type": "code",
   "execution_count": 20,
   "metadata": {},
   "outputs": [],
   "source": [
    "#np.save('masses.npy',masses)"
   ]
  },
  {
   "cell_type": "code",
   "execution_count": 21,
   "metadata": {},
   "outputs": [],
   "source": [
    "# masses = torch.tensor(np.load('masses.npy'))"
   ]
  },
  {
   "cell_type": "code",
   "execution_count": 22,
   "metadata": {},
   "outputs": [
    {
     "name": "stdout",
     "output_type": "stream",
     "text": [
      "--- Finding All Unique Particles ---\n",
      "\n",
      "--- Inserting Masses ---\n"
     ]
    },
    {
     "name": "stderr",
     "output_type": "stream",
     "text": [
      "15it [00:00, 1660.98it/s]"
     ]
    },
    {
     "name": "stdout",
     "output_type": "stream",
     "text": [
      "\n",
      "--- Calculating Momenta and Energies ---\n"
     ]
    },
    {
     "name": "stderr",
     "output_type": "stream",
     "text": [
      "\n"
     ]
    }
   ],
   "source": [
    "print('--- Finding All Unique Particles ---')\n",
    "unique_particles = np.unique(x_data[:Ntry,:,3])\n",
    "print()\n",
    "print('--- Inserting Masses ---')\n",
    "masses = np.zeros((x_data[:Ntry].shape[0],x_data[:Ntry].shape[1]))\n",
    "for i,particle in tqdm(enumerate(unique_particles)):\n",
    "    if particle!=0:\n",
    "        mass = Particle.from_pdgid(particle).mass/1000\n",
    "        inds = np.where(particle==x_data[:Ntry,:,3])\n",
    "        masses[inds]=mass # GeV\n",
    "print()\n",
    "print('--- Calculating Momenta and Energies ---')\n",
    "#theta = torch.arctan(torch.exp(-X[:,:,1]))*2 # polar angle\n",
    "pt        = x_data[:Ntry,:,0]     # transverse momentum\n",
    "rapidity  = x_data[:Ntry,:,1]     # rapidity\n",
    "phi       = x_data[:Ntry,:,2]     # azimuthal angle\n",
    "\n",
    "mt        = np.sqrt(pt**2+masses**2) # Transverse mass\n",
    "energy    = mt*np.cosh(rapidity) # Energy per multiplicity bin\n",
    "e_per_jet = energy.sum(axis=1)  # total energy per jet summed across multiplicity bins\n",
    "\n",
    "px = pt*np.cos(phi)  # momentum in x\n",
    "py = pt*np.sin(phi)  # momentum in y\n",
    "pz = mt*np.sinh(rapidity)  # momentum in z\n",
    "\n",
    "# three momentum\n",
    "p = np.stack(( px[:,:,None],  \n",
    "               py[:,:,None],\n",
    "               pz[:,:,None]), axis=2 )\n",
    "\n",
    "p_per_jet        = np.sum(p,axis=1)  # total componet momentum per jet\n",
    "#pt_per_Mbin      = np.sqrt(np.sum(p_per_jet[:,:2]**2, axis=1))  # transverse momentum per jet\n",
    "#mass_per_jet     = np.sqrt(e_per_jet**2-np.sum(p_per_jet**2,axis=1)) # mass per jet\n",
    "#rapidity_per_jet = np.log( (e_per_jet+p_per_jet[:,2])/(e_per_jet-p_per_jet[:,2]) )/2  # rapidity per jet from analytical formula\n",
    "#end_multiplicity_indx_per_jet = np.sum(pt!=0,axis=1).int() # see where the jet (graph) ends"
   ]
  },
  {
   "cell_type": "code",
   "execution_count": 23,
   "metadata": {},
   "outputs": [
    {
     "data": {
      "image/png": "[encoded data removed]",
      "text/plain": [
       "<Figure size 800x600 with 1 Axes>"
      ]
     },
     "metadata": {},
     "output_type": "display_data"
    }
   ],
   "source": [
    "plt.figure(figsize=(8,6))\n",
    "plt.hist(e_per_jet, color='b', alpha=0.3, bins=100, label='Energy (GeV)')\n",
    "plt.hist(np.sqrt(np.sum((p_per_jet)**2,axis=1)), color='r', alpha=0.3, bins=100,label='Momentum (GeV)')\n",
    "plt.title('Distributions of Total Energy and Momenta Per Jet')\n",
    "plt.xlabel('Energy or Momentum Bin (GeV)')\n",
    "plt.ylabel('Count')\n",
    "plt.legend()\n",
    "plt.show()"
   ]
  },
  {
   "cell_type": "markdown",
   "metadata": {},
   "source": [
    "## Preprocess data"
   ]
  },
  {
   "cell_type": "code",
   "execution_count": 24,
   "metadata": {},
   "outputs": [
    {
     "name": "stdout",
     "output_type": "stream",
     "text": [
      "--- Finding All Unique Particles ---\n",
      "\n",
      "--- Inserting Masses ---\n"
     ]
    },
    {
     "name": "stderr",
     "output_type": "stream",
     "text": [
      "15it [00:00, 24.25it/s]\n"
     ]
    },
    {
     "name": "stdout",
     "output_type": "stream",
     "text": [
      "\n",
      "--- Calculating Momenta and Energies ---\n",
      "\n",
      "--- Calculating Edge Tensors ---\n"
     ]
    },
    {
     "name": "stderr",
     "output_type": "stream",
     "text": [
      "100%|██████████| 200000/200000 [02:43<00:00, 1223.96it/s]\n"
     ]
    }
   ],
   "source": [
    "N=200000\n",
    "rng = default_rng(seed=0)\n",
    "indices = rng.choice(x_data.shape[0], size=N, replace=False)\n",
    "nodes_per_graph = 20\n",
    "# x_data_proc, y_data_proc, edge_tensor, edge_indx_tensor, edge_attr_matrix, graph_help = preprocess_general(x_data[indices],y_data[indices]) #,masses[:N])\n",
    "x_data_proc, y_data_proc, edge_tensor, edge_indx_tensor, edge_attr_matrix, graph_help = preprocess_fixed_nodes(x_data[indices],y_data[indices],nodes_per_graph = nodes_per_graph) #,masses[:N])\n",
    "N = x_data_proc.shape[0]"
   ]
  },
  {
   "cell_type": "code",
   "execution_count": 25,
   "metadata": {},
   "outputs": [],
   "source": [
    "# Check to see if we have the same number of types of particles per jet\n",
    "#unique_ptypes_per_jet = [ np.unique(x[i,:,3]).shape[0] for i in range(x.shape[0]) ]"
   ]
  },
  {
   "cell_type": "code",
   "execution_count": 26,
   "metadata": {},
   "outputs": [],
   "source": [
    "# l=0\n",
    "# max_val = 0\n",
    "# for i in range(np.where(x[l,:,1]==0)[0][0]):\n",
    "#     for j in range(np.where(x[l,:,1]==0)[0][0]):\n",
    "#         val=np.sqrt((x[l,i,1:3]-x[l,j,1:3])**2).sum(axis=0)\n",
    "#         if val>max_val:\n",
    "#             max_val = val"
   ]
  },
  {
   "cell_type": "code",
   "execution_count": 27,
   "metadata": {},
   "outputs": [],
   "source": [
    "# max_val"
   ]
  },
  {
   "cell_type": "code",
   "execution_count": 28,
   "metadata": {},
   "outputs": [],
   "source": [
    "# d_matrix = np.zeros((x[:,0,3].shape[0],x[0,:,3].shape[0],x[0,:,3].shape[0]))\n",
    "# for l in tqdm(range(x[:,0,3].shape[0])):\n",
    "#     for i in range(x[l,:,3].shape[0]):\n",
    "#         inds_edge = np.where(x[l,i,3]==x[l,:,3])\n",
    "#         d_matrix[l,i,inds_edge] = np.sqrt((x[l,i,1:3]-x[l,inds_edge,1:3])**2).sum(axis=0))\n",
    "#     d_matrix[l,:,:]+=np.identity(x[0,:,3].shape[0])"
   ]
  },
  {
   "cell_type": "code",
   "execution_count": 29,
   "metadata": {},
   "outputs": [],
   "source": [
    "#np.save('edge_matrix.npy',d_matrix)"
   ]
  },
  {
   "cell_type": "code",
   "execution_count": 30,
   "metadata": {},
   "outputs": [],
   "source": [
    "#d_matrix = np.load('edge_matrix.npy')"
   ]
  },
  {
   "cell_type": "code",
   "execution_count": 31,
   "metadata": {},
   "outputs": [],
   "source": [
    "#d_matrix.shape"
   ]
  },
  {
   "cell_type": "code",
   "execution_count": 32,
   "metadata": {},
   "outputs": [],
   "source": [
    "# x.max(axis=1).max(axis=0).shape"
   ]
  },
  {
   "cell_type": "code",
   "execution_count": 33,
   "metadata": {},
   "outputs": [],
   "source": [
    "# def process(feature_data,class_labels,feature_data_max=None):\n",
    "#     # Normalize features\n",
    "#     feature_data_max = feature_data.max(axis=1).max(axis=0)\n",
    "#     feature_data = feature_data/feature_data_max[:]\n",
    "#     feature_data = torch.tensor(feature_data)[:,:,:]\n",
    "#     class_labels = torch.tensor(class_labels)[:]\n",
    "#     return feature_data, class_labels"
   ]
  },
  {
   "cell_type": "code",
   "execution_count": 34,
   "metadata": {},
   "outputs": [],
   "source": [
    "# x_data, y_data = process(x,y)"
   ]
  },
  {
   "cell_type": "code",
   "execution_count": 35,
   "metadata": {},
   "outputs": [
    {
     "name": "stdout",
     "output_type": "stream",
     "text": [
      "----- Check for the correctly sized tensors -----\n",
      "\n",
      "Jet Data: torch.Size([187827, 20, 8])\n",
      "Classification: torch.Size([187827])\n",
      "Full Edge Information: torch.Size([187827, 20, 20])\n",
      "Edge Index Information: torch.Size([187827, 2, 380])\n",
      "Edge Attribute Information: torch.Size([187827, 380, 1])\n",
      "Graph Structure Information: torch.Size([187827, 4])\n",
      "\n",
      "\n",
      "----- Check that each tensor is normalized -----\n",
      "\n",
      "Jet Data max: 1.0\n",
      "Classification Max: 1\n",
      "Edge Length Max: 1.0\n"
     ]
    }
   ],
   "source": [
    "print('----- Check for the correctly sized tensors -----')\n",
    "print()\n",
    "print(f'Jet Data: {x_data_proc.shape}')\n",
    "print(f'Classification: {y_data_proc.shape}')\n",
    "print(f'Full Edge Information: {edge_tensor.shape}')\n",
    "print(f'Edge Index Information: {edge_indx_tensor.shape}')\n",
    "print(f'Edge Attribute Information: {edge_attr_matrix.shape}')\n",
    "print(f'Graph Structure Information: {graph_help.shape}')\n",
    "print('\\n')\n",
    "print('----- Check that each tensor is normalized -----')\n",
    "print()\n",
    "print(f'Jet Data max: {torch.max(x_data_proc)}')\n",
    "print(f'Classification Max: {torch.max(y_data_proc)}')\n",
    "print(f'Edge Length Max: {torch.max(edge_tensor)}')"
   ]
  },
  {
   "cell_type": "code",
   "execution_count": 36,
   "metadata": {},
   "outputs": [
    {
     "name": "stdout",
     "output_type": "stream",
     "text": [
      "----- Check the structure of the dataset -----\n",
      "\n",
      "Number of graphs (jets): 187827\n",
      "Number of features per node (p_T(M),y,phi,m,E,px,py,pz): 8\n",
      "Number of classes (2: Quarks or Gluons): 2\n",
      "\n",
      "----- Check the structure of one graph -----\n",
      "\n",
      "Number of nodes (particle IDs): 20\n",
      "Number of edges: 380.0\n",
      "Average node degree: 19.00\n",
      "Is undirected: True\n"
     ]
    }
   ],
   "source": [
    "print('----- Check the structure of the dataset -----')\n",
    "print()\n",
    "print(f'Number of graphs (jets): {x_data_proc.shape[0]}')\n",
    "print(r'Number of features per node (p_T(M),y,phi,m,E,px,py,pz): '+f'{x_data_proc.shape[2]}')\n",
    "print(f'Number of classes (2: Quarks or Gluons): {np.unique(y_data_proc).shape[0]}')\n",
    "print()\n",
    "print('----- Check the structure of one graph -----')\n",
    "print()\n",
    "i=0\n",
    "number_of_edges = graph_help[i,3]\n",
    "# Gather some statistics about the first graph.\n",
    "print(f'Number of nodes (particle IDs): {x_data_proc[i,:,0].shape[0]}')\n",
    "print(f'Number of edges: {number_of_edges}')\n",
    "print(f'Average node degree: {number_of_edges / x_data_proc[i,:,0].shape[0]:.2f}')\n",
    "print(f'Is undirected: {True}')"
   ]
  },
  {
   "cell_type": "code",
   "execution_count": 37,
   "metadata": {},
   "outputs": [],
   "source": [
    "# Create a dataset class\n",
    "class Create_Dataset(Dataset):\n",
    "    def __init__(self, edge_index, x, edge_attr, y, graph_info, transform=None):\n",
    "        self.edge_index = edge_index\n",
    "        self.x          = x\n",
    "        self.edge_attr  = edge_attr\n",
    "        self.y          = y\n",
    "        self.graph_info = graph_info\n",
    "        self.transform  = transform\n",
    "    \n",
    "    def __len__(self):\n",
    "        return self.y.shape[0]\n",
    "        \n",
    "    # Could also just define an x,y,z then pass these variables\n",
    "    # in the training functions over the loop for batch (actually think that way is easier to read)\n",
    "    def __getitem__(self, index):\n",
    "        sample = {'edge_index': self.edge_index[index,:,:self.graph_info[index,3]],\n",
    "                'x': self.x[index,:int(self.graph_info[index,2]),:],\n",
    "                'edge_attr': self.edge_attr[index,:self.graph_info[index,3]],\n",
    "                'y': self.y[index] }\n",
    "\n",
    "        if self.transform is not None:          \n",
    "            sample = self.transform(sample)\n",
    "        return sample"
   ]
  },
  {
   "cell_type": "code",
   "execution_count": 38,
   "metadata": {},
   "outputs": [
    {
     "name": "stderr",
     "output_type": "stream",
     "text": [
      "100%|██████████| 187827/187827 [00:05<00:00, 32668.83it/s]"
     ]
    },
    {
     "name": "stdout",
     "output_type": "stream",
     "text": [
      "Number of training graphs: 131478\n",
      "Number of validation graphs: 37566\n",
      "Number of test graphs: 18783\n"
     ]
    },
    {
     "name": "stderr",
     "output_type": "stream",
     "text": [
      "\n"
     ]
    }
   ],
   "source": [
    "train_index   = int(N*0.7)\n",
    "val_index    = int(N*0.9)\n",
    "batch_size = 64\n",
    "# Create Datasets for Torch for the training and testing pahses\n",
    "dataset = []\n",
    "for i in tqdm(range(N)):\n",
    "#     dataset.append(Data(edge_index=edge_indx_tensor[i,:,:int(graph_help[i,3])],x=x_data_proc[i,:int(graph_help[i,2]),:],edge_attr=edge_attr_matrix[i,:int(graph_help[i,3])],y=y_data_proc[i]))\n",
    "    dataset.append(Data(edge_index=edge_indx_tensor[i,:,:],\n",
    "                        x=x_data_proc[i,:,:],\n",
    "                        edge_attr=edge_attr_matrix[i,:],\n",
    "                        y=y_data_proc[i]))\n",
    "\n",
    "training_data = dataset[:train_index]\n",
    "val_data      = dataset[train_index:val_index]\n",
    "test_data     = dataset[val_index:]\n",
    "# Create data loaders\n",
    "train_dataloader = DataLoader(training_data, \n",
    "                              batch_size = batch_size,\n",
    "                              shuffle = True, \n",
    "                              num_workers = 0)\n",
    "\n",
    "val_dataloader  = DataLoader(val_data, \n",
    "                              batch_size = batch_size,\n",
    "                              shuffle = False, \n",
    "                              num_workers = 0)\n",
    "\n",
    "test_dataloader  = DataLoader(test_data, \n",
    "                              batch_size = batch_size,\n",
    "                              shuffle = False, \n",
    "                              num_workers = 0)\n",
    "\n",
    "print(f'Number of training graphs: {train_index}')\n",
    "print(f'Number of validation graphs: {val_index-train_index}')\n",
    "print(f'Number of test graphs: {N-val_index}')\n",
    "\n",
    "\n",
    "# for step, data in enumerate(train_dataloader):\n",
    "#     print(f'Step {step + 1}:')\n",
    "#     print('=======')\n",
    "#     print(f'Number of graphs in the current batch: {data.num_graphs}')\n",
    "#     print(data)\n",
    "#     print()"
   ]
  },
  {
   "cell_type": "code",
   "execution_count": 39,
   "metadata": {},
   "outputs": [
    {
     "name": "stdout",
     "output_type": "stream",
     "text": [
      "Using cuda device\n"
     ]
    }
   ],
   "source": [
    "# Get cpu or gpu device for training.\n",
    "device = \"cuda\" if torch.cuda.is_available() else \"cpu\"\n",
    "print(f\"Using {device} device\")"
   ]
  },
  {
   "cell_type": "markdown",
   "metadata": {},
   "source": [
    "## Architecture 1: Graph Convolutional Network (GCN)"
   ]
  },
  {
   "cell_type": "code",
   "execution_count": 40,
   "metadata": {},
   "outputs": [],
   "source": [
    "# class GCN(torch.nn.Module):\n",
    "#     def __init__(self, hidden_channels,num_of_features,num_of_classes):\n",
    "#         super(GCN, self).__init__()\n",
    "\n",
    "#         self.gcnn = Sequential('x, edge_index, batch', #edge_attr, batch) \n",
    "#                                [ (nn.Dropout(p=0.2), 'x -> x'),\n",
    "#                                 (GCNConv(in_channels=num_of_features, out_channels=hidden_channels), 'x, edge_index-> x1'),\n",
    "#                                 nn.ReLU(inplace=True),\n",
    "#                                 (GCNConv(in_channels=hidden_channels, out_channels=hidden_channels), 'x1, edge_index -> x2'),\n",
    "#                                 nn.ReLU(inplace=True),\n",
    "#                                 (GCNConv(in_channels=hidden_channels, out_channels=hidden_channels), 'x1, edge_index -> x2'),\n",
    "#                                 (global_mean_pool, 'x2, batch -> x'),# Mean Pooling Layer to Latent Space\n",
    "#                                ])\n",
    "        \n",
    "#         self.reduce = nn.Linear(in_features=hidden_channels, out_features=num_of_classes)\n",
    "            \n",
    "#     def forward(self, x, edge_index, batch): # data.edge_attr, data.batch) \n",
    "#         # Extract Node Embeddings\n",
    "#         x = self.gcnn(x, edge_index, batch)  # data.edge_attr, data.batch) \n",
    "#         x = F.dropout(x, p=0.5, training=self.training)\n",
    "#         x = self.reduce(x)\n",
    "#         return x"
   ]
  },
  {
   "cell_type": "code",
   "execution_count": 41,
   "metadata": {},
   "outputs": [],
   "source": [
    "# def train_on_dataset(model,loss_fn,train_loader):\n",
    "#     model.train()\n",
    "#     for data in train_loader:  # Iterate in batches over the training dataset.\n",
    "#         pred = model(data.x, data.edge_index, data.batch)# data.edge_attr, data.batch)   # Perform a single forward pass.\n",
    "#         loss = loss_fn(pred, data.y)  # Compute the loss.\n",
    "#         loss.backward()  # Derive gradients.\n",
    "#         optimizer.step()  # Update parameters based on gradients.\n",
    "#         optimizer.zero_grad()  # Clear gradients.\n",
    "#     return loss\n",
    "    \n",
    "\n",
    "# def test_on_dataset(model,dataloader):\n",
    "#     model.eval()\n",
    "#     num_correct = 0\n",
    "#     size = len(dataloader.dataset)\n",
    "#     for data in dataloader:  # Iterate in batches over the training/test dataset.\n",
    "#         out = model(data.x, data.edge_index, data.batch)# data.edge_attr, data.batch) \n",
    "#         loss = loss_fn(out, data.y)\n",
    "#         pred = out.argmax(dim=1)  # Use the class with highest probability.\n",
    "#         num_correct += (pred==data.y).sum().int()  # Check against true labels.\n",
    "#     return loss, num_correct / size  # Derive ratio of correct predictions.\n",
    "\n",
    "# def train(model,optimizer,loss_fn,train_dataloader,test_dataloader,epochs):\n",
    "#     history = {'train_loss': [],'test_loss':[],'train_accuracy': [],'test_accuracy':[]} \n",
    "#     best_val_loss = torch.inf\n",
    "#     best_val_acc = 0.\n",
    "#     start = time()\n",
    "#     for i in range(epochs):\n",
    "#         loss = train_on_dataset(model,loss_fn,train_dataloader)\n",
    "#         train_loss, train_acc = test_on_dataset(model,train_dataloader)\n",
    "#         test_loss, test_acc = test_on_dataset(model,test_dataloader)\n",
    "\n",
    "#         history['train_loss'].append(train_loss.data.item())\n",
    "#         history['test_loss'].append(test_loss.data.item())\n",
    "#         history['train_accuracy'].append(train_acc.data.item())\n",
    "#         history['test_accuracy'].append(test_acc.data.item())\n",
    "        \n",
    "#         if best_val_acc<train_acc:\n",
    "#         #if train_loss < best_val_loss:\n",
    "#             best_val_acc = train_acc\n",
    "#             best_val_loss = train_loss\n",
    "#             best_model = copy.deepcopy(model)\n",
    "#             best_model_wts = copy.deepcopy(model.state_dict())\n",
    "            \n",
    "# #         if i<9:\n",
    "# #             print(f'Epoch {i+1}   |  Train Loss: {train_loss:>8f}  |  Train Acc: {train_acc:>4f} | Test Acc: {test_acc:.4f}')\n",
    "# #         else:\n",
    "# #             print(f'Epoch {i+1}  |  Train Loss: {train_loss:>8f}  |  Train Acc: {train_acc:>4f} | Test Acc: {test_acc:.4f}')\n",
    "#         if i<9:\n",
    "#             print(f'Epoch {i+1}   |  Train Loss: {train_loss:>4f} | Test Loss: {test_loss:.4f}  |  Train Acc: {train_acc:>4f} | Test Acc: {test_acc:.4f}')\n",
    "#         else:\n",
    "#             print(f'Epoch {i+1}  |  Train Loss: {train_loss:>4f} | Test Loss: {test_loss:.4f}  |  Train Acc: {train_acc:>4f} | Test Acc: {test_acc:.4f}')\n",
    "\n",
    "#     end = time()\n",
    "#     total_time = end-start\n",
    "#     print(f\"Time: {total_time:.5f} sec\")  #|  Best Loss: {best_val_loss:.5f}\")\n",
    "#     print(\"Complete.\")\n",
    "#     return {'model': best_model,'history': history}"
   ]
  },
  {
   "cell_type": "code",
   "execution_count": 42,
   "metadata": {},
   "outputs": [],
   "source": [
    "# torch.manual_seed(0)\n",
    "# number_of_hidden_channels = batch_size\n",
    "# num_of_features = x_data_proc.shape[2]\n",
    "# num_of_classes  = np.unique(y_data_proc).shape[0]\n",
    "# lr = 5e-3\n",
    "# model = GCN(hidden_channels=number_of_hidden_channels,\n",
    "#             num_of_features=num_of_features,\n",
    "#             num_of_classes=num_of_classes)\n",
    "# print(model)\n",
    "\n",
    "\n",
    "# optimizer = torch.optim.Adam(model.parameters(), lr=lr)\n",
    "# loss_fn = torch.nn.CrossEntropyLoss()\n",
    "# epochs= 100\n",
    "# training = train(model=model,\n",
    "#                  optimizer=optimizer,\n",
    "#                  loss_fn=loss_fn,\n",
    "#                  train_dataloader=train_dataloader,\n",
    "#                  test_dataloader=test_dataloader,\n",
    "#                  epochs=epochs)"
   ]
  },
  {
   "cell_type": "code",
   "execution_count": 43,
   "metadata": {},
   "outputs": [],
   "source": [
    "# # Plot the training accuracy\n",
    "# fig = plt.figure(figsize=(8,5))\n",
    "# plt.plot(training['history']['train_loss'],c='b',label='Train Loss')\n",
    "# plt.plot(training['history']['test_loss'],c='g',label='Test Loss')\n",
    "# plt.plot(training['history']['train_accuracy'],c='cyan',label='Train Loss')\n",
    "# plt.plot(training['history']['test_accuracy'],c='darkorange',label='Test Loss')\n",
    "# plt.title('Training History')\n",
    "# plt.xlabel('Epoch')\n",
    "# plt.ylabel('Loss/Accuracy')\n",
    "# plt.legend()"
   ]
  },
  {
   "cell_type": "code",
   "execution_count": 44,
   "metadata": {},
   "outputs": [],
   "source": [
    "# model = copy.deepcopy(training['model'])\n",
    "# model.eval()\n",
    "# num_correct = 0\n",
    "# size = len(test_dataloader.dataset)\n",
    "# # Compare to initialized test_data = y_data_proc[train_index:]\n",
    "# test_predicitons = torch.zeros((size,1))\n",
    "# for i,data in tqdm(enumerate(test_dataloader)):  # Iterate in batches over the training/test dataset.\n",
    "#     out = model(data.x, data.edge_index, data.batch)  \n",
    "#     pred = out.argmax(dim=1)  # Use the class with highest probability.\n",
    "#     num_correct += (pred==data.y).sum().int()\n",
    "#     if len(test_data)<(i+1)*batch_size:\n",
    "#         test_predicitons[i*batch_size:] = pred.reshape((len(test_data)-i*batch_size,1))\n",
    "#     else:\n",
    "#         test_predicitons[i*batch_size:(i+1)*batch_size] = pred.reshape((batch_size,1))\n",
    "# print('Accuracy for GCN: ',num_correct/size)"
   ]
  },
  {
   "cell_type": "code",
   "execution_count": 45,
   "metadata": {},
   "outputs": [],
   "source": [
    "# print(train_index)\n",
    "# print(len(test_data))"
   ]
  },
  {
   "cell_type": "code",
   "execution_count": 46,
   "metadata": {},
   "outputs": [],
   "source": [
    "# from sklearn.metrics import confusion_matrix\n",
    "# # Calculate the confusion matrix\n",
    "# conf_matrix = confusion_matrix(y_true=y_data_proc[val_index:], y_pred=test_predicitons)\n",
    "# # Print the confusion matrix using Matplotlib\n",
    "# fig, ax = plt.subplots(figsize=(4, 3))\n",
    "# im = ax.imshow(conf_matrix, cmap=plt.cm.Blues, alpha=0.3)\n",
    "# for i in range(conf_matrix.shape[0]):\n",
    "#     for j in range(conf_matrix.shape[1]):\n",
    "#         ax.text(x=j, y=i,s=conf_matrix[i, j], va='center', ha='center', size='xx-large')\n",
    "# plt.xlabel('Pred', fontsize=18)\n",
    "# plt.ylabel('True', fontsize=18)\n",
    "# plt.title('Confusion Matrix for GCN', fontsize=18)\n",
    "# plt.xticks(ticks=[0,1],labels=['Gluon','Quark'])\n",
    "# plt.yticks(ticks=[0,1],labels=['Gluon','Quark'])\n",
    "# plt.colorbar(im)\n",
    "# plt.show()"
   ]
  },
  {
   "cell_type": "markdown",
   "metadata": {},
   "source": [
    "## Architecture 2: Graph Convolutional Attention Network (GCAT)"
   ]
  },
  {
   "cell_type": "code",
   "execution_count": 47,
   "metadata": {},
   "outputs": [],
   "source": [
    "# class GAT(nn.Module):\n",
    "#     def __init__(self, hidden_channels, number_of_features, number_of_classes, dropout1, dropout2, number_attention_heads):\n",
    "#         super(GAT, self).__init__()\n",
    "#         self.dropout1 = dropout1\n",
    "#         self.dropout2 = dropout2\n",
    "#         #self.in_att = Sequential('x, edge_index, batch',[(GATConv(in_channels = number_of_features, out_channels = hidden_channels, dropout2=dropout2, concat=True), 'x, edge_index -> x1')\n",
    "#         self.attentions = [ Sequential('x, edge_index, edge_attr, batch',[(GATConv(in_channels = number_of_features, out_channels = hidden_channels, dropout2=dropout2, concat=True), 'x, edge_index, edge_attr -> x')]) for _ in range(number_attention_heads)]\n",
    "#         for i, attention in enumerate(self.attentions):\n",
    "#             self.add_module('attention_{}'.format(i), attention)\n",
    "            \n",
    "    \n",
    "# #         self.out_att = Sequential('x, edge_index, batch',[(GATConv(in_channels = number_of_hidden_channels*number_attention_heads, out_channels = hidden_channels, dropout2=dropout2, concat=False), 'x, edge_index -> x1')])\n",
    "#         self.out_att = Sequential('x, edge_index, edge_attr, batch',[(GATConv(in_channels = number_of_hidden_channels*number_attention_heads, out_channels = hidden_channels, dropout2=dropout2, concat=False), 'x, edge_index, edge_attr -> x')])\n",
    "\n",
    "# #         self.pool = Sequential('x, edge_index, edge_attr, batch',      \n",
    "# #                            [(global_mean_pool, 'x, batch -> x'),# Mean Pooling Layer to Latent Space\n",
    "# #                            ]) \n",
    "#         self.gat = Sequential('x, edge_index, edge_attr, batch', \n",
    "#                                [(GATConv(in_channels = number_of_hidden_channels, out_channels = hidden_channels, dropout2=dropout2, concat=False), 'x, edge_index, edge_attr -> x1'),\n",
    "#                                 nn.ReLU(inplace=True),\n",
    "#                                 (GATConv(in_channels = number_of_hidden_channels, out_channels = hidden_channels, dropout2=dropout2, concat=False), 'x1, edge_index, edge_attr -> x2'),\n",
    "#                                 nn.ReLU(inplace=True),\n",
    "#                                 (GATConv(in_channels = number_of_hidden_channels, out_channels = hidden_channels, dropout2=dropout2, concat=False), 'x2, edge_index, edge_attr -> x3'),\n",
    "#                                 nn.ReLU(inplace=True),\n",
    "#                                 (GATConv(in_channels = number_of_hidden_channels, out_channels = hidden_channels, dropout2=dropout2, concat=False), 'x3, edge_index, edge_attr -> x4'),\n",
    "#                                 (global_mean_pool, 'x4, batch -> x'),\n",
    "#                                ])\n",
    "\n",
    "# #         self.gcnn = Sequential('x, edge_index, batch', \n",
    "# #                                [(GCNConv(in_channels=hidden_channels, out_channels=hidden_channels), 'x, edge_index -> x1'),\n",
    "# #                                 nn.ReLU(inplace=True),\n",
    "# #                                 (GCNConv(in_channels=hidden_channels, out_channels=hidden_channels), 'x1, edge_index -> x2'),\n",
    "# #                                 (global_mean_pool, 'x2, batch -> x'),# Mean Pooling Layer to Latent Space\n",
    "# #                                ])\n",
    "        \n",
    "#         self.reduce = nn.Linear(in_features=hidden_channels, out_features=num_of_classes)\n",
    "        \n",
    "#     def forward(self, x, edge_index, edge_attr, batch):#adj):\n",
    "#         x = F.dropout(x, p=self.dropout2, training=self.training)\n",
    "# #         x = self.in_att(x, edge_index, batch)\n",
    "# #         for att in self.attentions:\n",
    "#         x = torch.cat([att(x, edge_index, edge_attr, batch) for att in self.attentions],dim=1)\n",
    "#         x = F.dropout(x, self.dropout2, training=self.training)\n",
    "#         x = self.out_att(x, edge_index, edge_attr, batch)\n",
    "# #         x = self.pool(x, edge_index, edge_attr, batch)\n",
    "# #         x = self.reduce(x)\n",
    "# #         x = F.elu(x)\n",
    "# #         x = self.pool(x,edge_index,batch)\n",
    "#         x = self.gat(x, edge_index, edge_attr, batch)\n",
    "# #         x = F.elu(x)\n",
    "# #         x = self.gcnn(x, edge_index, batch)\n",
    "# #         x = F.dropout(x, p=self.dropout2, training=self.training)\n",
    "#         x = self.reduce(x)\n",
    "#         x = F.elu(x)\n",
    "#         return F.log_softmax(x, dim=1)"
   ]
  },
  {
   "cell_type": "code",
   "execution_count": 48,
   "metadata": {},
   "outputs": [],
   "source": [
    "# def train_on_dataset_GAT(model,loss_fn,train_loader):\n",
    "#     model.train()\n",
    "#     for data in train_loader:  # Iterate in batches over the training dataset.\n",
    "#         pred = model(data.x, data.edge_index, data.edge_attr, data.batch)# data.edge_attr, data.batch)   # Perform a single forward pass.\n",
    "#         loss = loss_fn(pred, data.y)  # Compute the loss.\n",
    "#         loss.backward()  # Derive gradients.\n",
    "#         optimizer.step()  # Update parameters based on gradients.\n",
    "#         optimizer.zero_grad()  # Clear gradients.\n",
    "#     return loss\n",
    "    \n",
    "\n",
    "# def test_on_dataset_GAT(model,dataloader):\n",
    "#     model.eval()\n",
    "#     num_correct = 0\n",
    "#     size = len(dataloader.dataset)\n",
    "#     for data in dataloader:  # Iterate in batches over the training/test dataset.\n",
    "#         out = model(data.x, data.edge_index, data.edge_attr, data.batch)# data.edge_attr, data.batch) \n",
    "#         loss = loss_fn(out, data.y)\n",
    "#         pred = out.argmax(dim=1)  # Use the class with highest probability.\n",
    "#         num_correct += (pred==data.y).sum().int()  # Check against true labels.\n",
    "#     return loss, num_correct / size  # Derive ratio of correct predictions.\n",
    "\n",
    "# def train_GAT(model,optimizer,loss_fn,train_dataloader,test_dataloader,epochs):\n",
    "#     history = {'train_loss': [],'test_loss':[],'train_accuracy': [],'test_accuracy':[]} \n",
    "#     best_val_loss = torch.inf\n",
    "#     best_val_acc = 0.\n",
    "#     start = time()\n",
    "#     for i in range(epochs):\n",
    "#         loss = train_on_dataset_GAT(model,loss_fn,train_dataloader)\n",
    "#         train_loss, train_acc = test_on_dataset_GAT(model,train_dataloader)\n",
    "#         test_loss, test_acc = test_on_dataset_GAT(model,test_dataloader)\n",
    "\n",
    "#         history['train_loss'].append(train_loss.data.item())\n",
    "#         history['test_loss'].append(test_loss.data.item())\n",
    "#         history['train_accuracy'].append(train_acc.data.item())\n",
    "#         history['test_accuracy'].append(test_acc.data.item())\n",
    "        \n",
    "#         if best_val_acc<train_acc:\n",
    "#         #if train_loss < best_val_loss:\n",
    "#             best_val_acc = train_acc\n",
    "#             best_val_loss = train_loss\n",
    "#             best_model = copy.deepcopy(model)\n",
    "#             best_model_wts = copy.deepcopy(model.state_dict())\n",
    "            \n",
    "# #         if i<9:\n",
    "# #             print(f'Epoch {i+1}   |  Train Loss: {train_loss:>8f}  |  Train Acc: {train_acc:>4f} | Test Acc: {test_acc:.4f}')\n",
    "# #         else:\n",
    "# #             print(f'Epoch {i+1}  |  Train Loss: {train_loss:>8f}  |  Train Acc: {train_acc:>4f} | Test Acc: {test_acc:.4f}')\n",
    "#         if i<9:\n",
    "#             print(f'Epoch {i+1}   |  Train Loss: {train_loss:>4f} | Test Loss: {test_loss:.4f}  |  Train Acc: {train_acc:>4f} | Test Acc: {test_acc:.4f}')\n",
    "#         else:\n",
    "#             print(f'Epoch {i+1}  |  Train Loss: {train_loss:>4f} | Test Loss: {test_loss:.4f}  |  Train Acc: {train_acc:>4f} | Test Acc: {test_acc:.4f}')\n",
    "\n",
    "#     end = time()\n",
    "#     total_time = end-start\n",
    "#     print(f\"Time: {total_time:.5f} sec\")  #|  Best Loss: {best_val_loss:.5f}\")\n",
    "#     print(\"Complete.\")\n",
    "#     return {'model': best_model,'history': history}"
   ]
  },
  {
   "cell_type": "code",
   "execution_count": 49,
   "metadata": {},
   "outputs": [],
   "source": [
    "# torch.manual_seed(0)\n",
    "# number_of_hidden_channels = batch_size\n",
    "# num_of_features = x_data_proc.shape[2]\n",
    "# num_of_classes  = np.unique(y_data_proc).shape[0]\n",
    "# number_attention_heads = 8\n",
    "# dropout1 = 0.15\n",
    "# dropout2 = 0.4\n",
    "# lr = 5e-3\n",
    "# model = GAT(number_of_features=num_of_features, \n",
    "#             hidden_channels=number_of_hidden_channels, \n",
    "#             number_of_classes=num_of_classes, \n",
    "#             dropout1=dropout1, \n",
    "#             dropout2=dropout2,\n",
    "#             number_attention_heads=number_attention_heads)\n",
    "# print(model)\n",
    "# optimizer = torch.optim.Adam(model.parameters(), lr=lr, weight_decay=5e-4)\n",
    "# loss_fn = torch.nn.CrossEntropyLoss() #F.nll_loss()\n",
    "# epochs= 10\n",
    "# training = train_GAT(model=model,\n",
    "#                  optimizer=optimizer,\n",
    "#                  loss_fn=loss_fn,\n",
    "#                  train_dataloader=train_dataloader,\n",
    "#                  test_dataloader=test_dataloader,\n",
    "#                  epochs=epochs)"
   ]
  },
  {
   "cell_type": "code",
   "execution_count": 50,
   "metadata": {},
   "outputs": [],
   "source": [
    "# # Plot the training accuracy\n",
    "# fig = plt.figure(figsize=(8,5))\n",
    "# plt.plot(training['history']['train_loss'],c='b',label='Train Loss')\n",
    "# plt.plot(training['history']['test_loss'],c='g',label='Test Loss')\n",
    "# plt.plot(training['history']['train_accuracy'],c='cyan',label='Train Loss')\n",
    "# plt.plot(training['history']['test_accuracy'],c='darkorange',label='Test Loss')\n",
    "# plt.title('Training History')\n",
    "# plt.xlabel('Epoch')\n",
    "# plt.ylabel('Loss/Accuracy')\n",
    "# plt.legend()"
   ]
  },
  {
   "cell_type": "code",
   "execution_count": 51,
   "metadata": {},
   "outputs": [],
   "source": [
    "# model = copy.deepcopy(training['model'])\n",
    "# model.eval()\n",
    "# num_correct = 0\n",
    "# size = len(test_dataloader.dataset)\n",
    "# # Compare to initialized test_data = y_data_proc[train_index:]\n",
    "# test_predicitons = torch.zeros((size,1))\n",
    "# for i,data in tqdm(enumerate(test_dataloader)):  # Iterate in batches over the training/test dataset.\n",
    "#     out = model(data.x, data.edge_index, data.edge_attr,data.batch)  \n",
    "#     pred = out.argmax(dim=1)  # Use the class with highest probability.\n",
    "#     num_correct += (pred==data.y).sum().int()\n",
    "#     if len(test_data)<(i+1)*batch_size:\n",
    "#         test_predicitons[i*batch_size:] = pred.reshape((len(test_data)-i*batch_size,1))\n",
    "#     else:\n",
    "#         test_predicitons[i*batch_size:(i+1)*batch_size] = pred.reshape((batch_size,1))\n",
    "# print('Accuracy for GCAT: ',num_correct/size)"
   ]
  },
  {
   "cell_type": "code",
   "execution_count": 52,
   "metadata": {},
   "outputs": [],
   "source": [
    "# from sklearn.metrics import confusion_matrix\n",
    "# # Calculate the confusion matrix\n",
    "# conf_matrix = confusion_matrix(y_true=y_data_proc[val_index:], y_pred=test_predicitons)\n",
    "# # Print the confusion matrix using Matplotlib\n",
    "# fig, ax = plt.subplots(figsize=(4, 3))\n",
    "# im = ax.imshow(conf_matrix, cmap=plt.cm.Blues, alpha=0.3)\n",
    "# for i in range(conf_matrix.shape[0]):\n",
    "#     for j in range(conf_matrix.shape[1]):\n",
    "#         ax.text(x=j, y=i,s=conf_matrix[i, j], va='center', ha='center', size='xx-large')\n",
    "# plt.xlabel('Pred', fontsize=18)\n",
    "# plt.ylabel('True', fontsize=18)\n",
    "# plt.title('Confusion Matrix for GCAT', fontsize=18)\n",
    "# plt.xticks(ticks=[0,1],labels=['Gluon','Quark'])\n",
    "# plt.yticks(ticks=[0,1],labels=['Gluon','Quark'])\n",
    "# plt.colorbar(im)\n",
    "# plt.show()"
   ]
  },
  {
   "cell_type": "markdown",
   "metadata": {},
   "source": [
    "## Comparison Between Architecture 1: GCN and Architecture 2: GCAT\n",
    "\n",
    "Trained each on 160k out of 200k randomly chosen samples from the full 2M jets. Tested on 40k.\n",
    "\n",
    "\n",
    "I. GCN\n",
    "\n",
    "1. Optimizer: Adam , $lr = 5 \\times 10^{-3}$\n",
    "2. Loss: Cross Entropy Loss\n",
    "3. Epochs: $50$\n",
    "4. Structure: (see print out above)\n",
    "- Dropout ratio of 0.2\n",
    "- Three Hidden Graph Convolutional layers\n",
    "- ReLU activation after the first two\n",
    "- Global Mean Pooling Layer\n",
    "- Dropout of 0.5\n",
    "- Linear layer out\n",
    "5. Accuracy: 0.7694 (see confusion matrix above)\n",
    "6. Run time on CPU: 1.5 hours\n",
    "\n",
    "II. GCAT\n",
    "\n",
    "1. Optimizer: Adam , $lr = 5 \\times 10^{-3}$\n",
    "2. Loss: Cross Entropy Loss\n",
    "3. Epochs: $12$\n",
    "4. Structure: (see print out above)\n",
    "- Dropout ratio of 0.4\n",
    "- Attention Network with 8 attention heads\n",
    "- Droput of 0.4\n",
    "- Out attention layer\n",
    "- Four Hidden Feed forward Graph Attention layers\n",
    "- ReLU activation after the first three\n",
    "- Global Mean Pooling Layer\n",
    "- Linear layer out (with functional ELU and softmax applied)\n",
    "5. Accuracy: 0.7617 (see confusion matrix above)\n",
    "6. Run time on CPU: 4 hours. Note: Run on GPU.\n",
    "\n",
    "The standard graph convolutional network (GCN) seemed to perform well with an accuracy of about $77 \\%$. Increasing the number of layers in this network was not shown to significantly increase performance. A run time of one and a half hours is quite good with 50 epochs and a training set of 160k samples on a CPU.\n",
    "\n",
    "The graph attention network (GCAT) performed slightly worse $76\\%$ than the GCN over less epochs, $12$.\n",
    "The attention heads did not seem to be enough to achieve highly accurate results, which is why more attention layers were added in sequence after the attention head output. This network also had a significantly longer training time of about five hours on a CPU.\n",
    "\n",
    "Optimizing both network hyperparameters was challenging. Training the GCAT over more epochs may have offered a more fair comparison, however, training results seemed to fluctuate about a central best value even over longer training times."
   ]
  },
  {
   "cell_type": "markdown",
   "metadata": {},
   "source": [
    "# Proper Implementation of a Graph Neural Network\n",
    "\n",
    "- E(n) Paper: https://arxiv.org/abs/2102.09844\n",
    "- Code: https://github.com/vgsatorras/egnn/tree/3c079e7267dad0aa6443813ac1a12425c3717558\n",
    "- Knock-off code: https://colab.research.google.com/github/senya-ashukha/simple-equivariant-gnn/blob/main/simple-egnn.ipynb#scrollTo=ae30de9d\n",
    "\n",
    "- Derivative of: https://arxiv.org/abs/1609.02907\n",
    "- and Derivative of: https://arxiv.org/abs/1704.01212\n",
    "\n",
    "Other Implementations: \n",
    "- SE(3) Paper: https://paperswithcode.com/paper/equivariant-vector-field-network-for-many-1\n",
    "- Code derived from E(n) Paper: https://github.com/mouthful/ClofNet"
   ]
  },
  {
   "cell_type": "code",
   "execution_count": 53,
   "metadata": {},
   "outputs": [],
   "source": [
    "# from gnn_egnn.main import *\n",
    "import torch\n",
    "# from gnn_egnn.dataset_loaders import NBodyDataset\n",
    "# from gnn_egnn.model import GNN, EGNN #, Baseline, Linear, EGNN_vel, Linear_dynamics, RF_vel\n",
    "import os\n",
    "from torch import nn, optim"
   ]
  },
  {
   "cell_type": "markdown",
   "metadata": {},
   "source": [
    "## Load Dataset"
   ]
  },
  {
   "cell_type": "code",
   "execution_count": 54,
   "metadata": {},
   "outputs": [],
   "source": [
    "# !python -u gnn_egnn/main.py --exp_name exp_1_gnn --model gnn --max_training_samples 3000 --lr 1e-3"
   ]
  },
  {
   "cell_type": "code",
   "execution_count": 55,
   "metadata": {},
   "outputs": [],
   "source": [
    "# batch_size = 64\n",
    "\n",
    "# # Train\n",
    "# dataset_train = NBodyDataset(partition='train', \n",
    "#                              dataset_name=args.dataset,\n",
    "#                              max_samples=2000,#args.max_training_samples)\n",
    "# loader_train = torch.utils.data.DataLoader(dataset_train, \n",
    "#                                            batch_size=batch_size,#args.batch_size, \n",
    "#                                            shuffle=True, \n",
    "#                                            drop_last=True)\n",
    "# # Val\n",
    "# dataset_val = NBodyDataset(partition='val', \n",
    "#                            dataset_name=\"pythia8_small\")\n",
    "# loader_val = torch.utils.data.DataLoader(dataset_val, \n",
    "#                                          batch_size=batch_size,#args.batch_size, \n",
    "#                                          shuffle=False, \n",
    "#                                          drop_last=False)\n",
    "\n",
    "# # Test\n",
    "# dataset_test = NBodyDataset(partition='test', dataset_name=\"pythia8_small\")\n",
    "# loader_test = torch.utils.data.DataLoader(dataset_test, \n",
    "#                                           batch_size=batch_size,#args.batch_size, \n",
    "#                                           shuffle=False, \n",
    "#                                           drop_last=False)"
   ]
  },
  {
   "cell_type": "markdown",
   "metadata": {},
   "source": [
    "## Layers"
   ]
  },
  {
   "cell_type": "code",
   "execution_count": 56,
   "metadata": {},
   "outputs": [],
   "source": [
    "# from torch import nn\n",
    "# import torch\n",
    "\n",
    "class MLP(nn.Module):\n",
    "    \"\"\" a simple 4-layer MLP \"\"\"\n",
    "\n",
    "    def __init__(self, nin, nout, nh):\n",
    "        super().__init__()\n",
    "        self.net = nn.Sequential(nn.Linear(nin, nh),\n",
    "                                 nn.LeakyReLU(0.2),\n",
    "                                 nn.Linear(nh, nh),\n",
    "                                 nn.LeakyReLU(0.2),\n",
    "                                 nn.Linear(nh, nh),\n",
    "                                 nn.LeakyReLU(0.2),\n",
    "                                 nn.Linear(nh, nout)  )\n",
    "\n",
    "    def forward(self, x):\n",
    "        return self.net(x)\n",
    "\n",
    "\n",
    "# class GCL_basic(nn.Module):\n",
    "#     \"\"\"Graph Neural Net with global state and fixed number of nodes per graph.\n",
    "#     Args:\n",
    "#           hidden_dim: Number of hidden units.\n",
    "#           num_nodes: Maximum number of nodes (for self-attentive pooling).\n",
    "#           global_agg: Global aggregation function ('attn' or 'sum').\n",
    "#           temp: Softmax temperature.\n",
    "#     \"\"\"\n",
    "\n",
    "#     def __init__(self):\n",
    "#         super(GCL_basic, self).__init__()\n",
    "\n",
    "\n",
    "#     def edge_model(self, source, target, edge_attr):\n",
    "#         pass\n",
    "\n",
    "#     def node_model(self, h, edge_index, edge_attr):\n",
    "#         pass\n",
    "\n",
    "#     def forward(self, x, edge_index, edge_attr=None):\n",
    "#         row, col = edge_index\n",
    "#         edge_feat = self.edge_model(x[row], x[col], edge_attr) # h_i, h_j, a_ij\n",
    "#         x = self.node_model(x, edge_feat)\n",
    "#         return x, edge_feat\n",
    "\n",
    "\n",
    "\n",
    "class GCL(nn.Module):#GCL_basic):\n",
    "    \"\"\"Graph Neural Net with global state and fixed number of nodes per graph.\n",
    "    Args:\n",
    "          hidden_dim: Number of hidden units.\n",
    "          num_nodes: Maximum number of nodes (for self-attentive pooling).\n",
    "          global_agg: Global aggregation function ('attn' or 'sum').\n",
    "          temp: Softmax temperature.\n",
    "    \"\"\"\n",
    "\n",
    "    def __init__(self, input_nf, output_nf, hidden_nf, edges_in_nf=0, act_fn=nn.ReLU(), bias=True, attention=False, t_eq=False, recurrent=True):\n",
    "        super(GCL, self).__init__()\n",
    "        self.attention = attention\n",
    "        self.t_eq      = t_eq\n",
    "        self.recurrent = recurrent\n",
    "        input_edge_nf  = input_nf * 2\n",
    "        self.edge_mlp  = nn.Sequential( nn.Linear(input_edge_nf + edges_in_nf, hidden_nf, bias=bias),\n",
    "                                       act_fn,\n",
    "                                       nn.Linear(hidden_nf, hidden_nf, bias=bias),\n",
    "                                       act_fn,\n",
    "                                       nn.Linear(hidden_nf, hidden_nf, bias=bias),\n",
    "                                       act_fn )\n",
    "        if self.attention:\n",
    "            self.att_mlp = nn.Sequential( nn.Linear(input_nf, hidden_nf, bias=bias),\n",
    "                                          act_fn,\n",
    "                                          nn.Linear(hidden_nf, 1, bias=bias),\n",
    "                                          nn.Sigmoid() )\n",
    "\n",
    "\n",
    "        self.node_mlp = nn.Sequential( nn.Linear(hidden_nf + input_nf, hidden_nf, bias=bias),\n",
    "                                       act_fn,\n",
    "                                       nn.Linear(hidden_nf, hidden_nf, bias=bias),\n",
    "                                       act_fn,\n",
    "                                       nn.Linear(hidden_nf, output_nf, bias=bias))\n",
    "\n",
    "#         if recurrent:\n",
    "#             self.gru = nn.GRUCell(hidden_nf, hidden_nf)\n",
    "\n",
    "\n",
    "    def edge_model(self, source, target, edge_attr): # h_i, h_j, a_ij\n",
    "#         print('source:',source.shape)\n",
    "#         print('target:',target.shape)\n",
    "        edge_in = torch.cat([source, target], dim=1) # h_i, h_j\n",
    "        if edge_attr is not None:                    # if edge features exist\n",
    "            edge_in = torch.cat([edge_in, edge_attr], dim=1) # add the edge feature a_ij\n",
    "        m_ij = self.edge_mlp(edge_in)\n",
    "        if self.attention:\n",
    "            att = self.att_mlp(torch.abs(source - target))\n",
    "            m_ij = m_ij * att\n",
    "        return m_ij\n",
    "\n",
    "    def node_model(self, h, m_ij):\n",
    "#         row, col = edge_index\n",
    "#         agg = unsorted_segment_sum(edge_attr, row, num_segments=h.size(0)) # sum m_ij over j\n",
    "        size = int(m_ij.shape[0]/h.shape[0])\n",
    "        aggregate = nn.AvgPool1d(kernel_size=size, stride=size)\n",
    "        hi_mi = torch.cat([h, aggregate(m_ij.T).T ], dim=1) #h_i, m_i\n",
    "        hi_lplus1 = self.node_mlp(hi_mi)\n",
    "        if self.recurrent:\n",
    "            hi_lplus1 = hi_lplus1 + h\n",
    "            #out = self.gru(out, h)\n",
    "        return hi_lplus1\n",
    "    \n",
    "    def forward(self, x, edge_index, edge_attr=None):\n",
    "        row, col = edge_index\n",
    "        edge_feat = self.edge_model(x[row], x[col], edge_attr) # h_i, h_j, a_ij\n",
    "        x = self.node_model(x, edge_feat)\n",
    "        return x, edge_feat\n",
    "    \n",
    "# def unsorted_segment_sum(data, segment_ids, num_segments):\n",
    "#     \"\"\"Custom PyTorch op to replicate TensorFlow's `unsorted_segment_sum`.\"\"\"\n",
    "#     result_shape = (num_segments, data.size(1))\n",
    "#     result = data.new_full(result_shape, 0)  # Init empty result tensor.\n",
    "#     segment_ids = segment_ids.unsqueeze(-1).expand(-1, data.size(1))\n",
    "#     result.scatter_add_(0, segment_ids, data)\n",
    "#     return result\n",
    "\n",
    "\n",
    "# def unsorted_segment_mean(data, segment_ids, num_segments):\n",
    "#     result_shape = (num_segments, data.size(1))\n",
    "#     segment_ids = segment_ids.unsqueeze(-1).expand(-1, data.size(1))\n",
    "#     result = data.new_full(result_shape, 0)  # Init empty result tensor.\n",
    "#     count = data.new_full(result_shape, 0)\n",
    "#     result.scatter_add_(0, segment_ids, data)\n",
    "#     count.scatter_add_(0, segment_ids, torch.ones_like(data))\n",
    "#     return result / count.clamp(min=1)"
   ]
  },
  {
   "cell_type": "markdown",
   "metadata": {},
   "source": [
    "## Models"
   ]
  },
  {
   "cell_type": "code",
   "execution_count": 57,
   "metadata": {},
   "outputs": [],
   "source": [
    "class Linear(nn.Module):\n",
    "    def __init__(self, input_nf, output_nf, device='cpu'):\n",
    "        super(Linear, self).__init__()\n",
    "        self.linear = nn.Linear(input_nf, output_nf)\n",
    "        self.device = device\n",
    "        self.to(self.device)\n",
    "\n",
    "    def forward(self, input):\n",
    "        return self.linear(input)\n",
    "    \n",
    "    \n",
    "class GNN(nn.Module):\n",
    "    def __init__(self, input_dim, hidden_nf, device='cpu', act_fn=nn.SiLU(), n_layers=4, kernel_size = None, attention=False, recurrent=False):\n",
    "        super(GNN, self).__init__()\n",
    "        self.hidden_nf = hidden_nf\n",
    "        self.device = device\n",
    "        self.n_layers = n_layers\n",
    "        \n",
    "        self.embedding = nn.Sequential( nn.Linear(input_dim, hidden_nf) )\n",
    "        ### Encoder\n",
    "        #self.add_module(\"gcl_0\", GCL(self.hidden_nf, self.hidden_nf, self.hidden_nf, edges_in_nf=1, act_fn=act_fn, attention=attention, recurrent=recurrent))\n",
    "        for i in range(n_layers):\n",
    "            self.add_module(\"gcl_%d\" % i, GCL(self.hidden_nf, \n",
    "                                              self.hidden_nf, \n",
    "                                              self.hidden_nf, \n",
    "                                              edges_in_nf=1, \n",
    "                                              act_fn=act_fn, \n",
    "                                              attention=attention, \n",
    "                                              recurrent=recurrent) )\n",
    "            \n",
    "            \n",
    "        self.mean_pool = nn.AvgPool1d(kernel_size=kernel_size, stride=kernel_size)\n",
    "        self.decoder = nn.Sequential( nn.Linear(hidden_nf, hidden_nf**2),\n",
    "                                      act_fn,\n",
    "                                      nn.Linear(hidden_nf**2, hidden_nf),\n",
    "                                      act_fn,\n",
    "                                      nn.Linear(hidden_nf, 2) )\n",
    "        \n",
    "        \n",
    "        self.to(self.device)\n",
    "\n",
    "\n",
    "    def forward(self, nodes, edge_index, edge_attr=None):\n",
    "        h = self.embedding(nodes)\n",
    "        #h, _ = self._modules[\"gcl_0\"](h, edges, edge_attr=edge_attr)\n",
    "        for i in range(self.n_layers):\n",
    "            h, _ = self._modules[\"gcl_%d\" % i](h, edge_index, edge_attr=edge_attr)\n",
    "\n",
    "        h = self.mean_pool(h.T).T\n",
    "        h = self.decoder(h)\n",
    "        return F.log_softmax(h, dim=1)"
   ]
  },
  {
   "cell_type": "code",
   "execution_count": 58,
   "metadata": {},
   "outputs": [],
   "source": [
    "def training(model, epochs, loader_train, loader_val, loader_test):\n",
    "\n",
    "    history = {'train_loss': [],'val_loss':[],'train_accuracy': [],'val_accuracy':[]} \n",
    "\n",
    "    best_train_loss = torch.inf\n",
    "    best_val_loss = torch.inf\n",
    "    best_train_acc = 0.\n",
    "    best_val_acc = 0.\n",
    "    best_epoch = 0\n",
    "    start = time()\n",
    "    for epoch in range(epochs):#args.epochs):\n",
    "        train_loss, train_acc = train(model, optimizer, epoch, loader_train)\n",
    "\n",
    "        val_loss, val_acc = train(model, optimizer, epoch, loader_val, backprop=False)\n",
    "#         test_loss = train(model, optimizer, epoch, loader_test, backprop=False)\n",
    "\n",
    "        history['train_loss'].append(train_loss)#.item())\n",
    "        history['val_loss'].append(val_loss)#.item())\n",
    "        history['train_accuracy'].append(train_acc.cpu())#.item())\n",
    "        history['val_accuracy'].append(val_acc.cpu())#.item()) \n",
    "\n",
    "        if val_loss < best_val_loss:\n",
    "            best_train_loss = train_loss\n",
    "            best_val_loss = val_loss\n",
    "            best_train_acc = train_acc\n",
    "            best_val_acc = val_acc\n",
    "            best_model = copy.deepcopy(model)\n",
    "            best_model_wts = copy.deepcopy(model.state_dict())\n",
    "            \n",
    "        if epoch % 1 == 0 or epoch==epochs-1: #args.test_interval == 0:\n",
    "            print(\"Epoch: %d |  Best Train Loss: %.8f | Best Val Loss: %.8f | Best Train Acc: %.8f | Best Val Acc: %.8f\" % (epoch, best_train_loss, best_val_loss, best_train_acc, best_val_acc))\n",
    "    \n",
    "    end = time()\n",
    "    print('-------------------------------------------------------')\n",
    "    print(f'\\n Total Time: {end-start:.8f}')\n",
    "    print('Training Complete.')\n",
    "    return {'model': best_model, 'history': history}\n",
    "\n",
    "\n",
    "def train(model, optimizer, epoch, loader, backprop=True):\n",
    "    if backprop:\n",
    "        model.train()\n",
    "    else:\n",
    "        model.eval()\n",
    "\n",
    "    values = {'epoch': epoch, 'loss': 0, 'coord_reg': 0, 'counter': 0}\n",
    "    time_exp_dic = {'time': 0, 'counter': 0}\n",
    "    \n",
    "    num_correct = 0\n",
    "    size = len(loader.dataset)\n",
    "    for batch_idx, data in enumerate(loader):\n",
    "#         print(data)\n",
    "        node_size = (data.batch==0).sum()\n",
    "        batch_size = data.x.shape[0]\n",
    "        node_size, n_nodes = data[0].x.size()\n",
    "\n",
    "#         data = [d.to(device) for d in data]\n",
    "#         data = [d.view(-1, d.size(2)) for d in data]\n",
    "#         node_loc  = torch.stack([ data.x[:,1],data.x[:,2] ], dim=1).reshape(data.x.shape[0],2).to(device)\n",
    "        edge_index = data.edge_index.to(device)\n",
    "        edge_attr = data.edge_attr.to(device)\n",
    "#         labels = data.y.double().to(device).reshape(batch_size//node_size,)\n",
    "        labels = data.y.long().reshape(batch_size//node_size,).to(device)\n",
    "        \n",
    "\n",
    "#         edges = loader.dataset.get_edges(batch_size, n_nodes)\n",
    "        edge_inds = [edge_index[0,:].to(device), edge_index[1,:].to(device)]\n",
    "#         print('hello:',edges[0])\n",
    "\n",
    "        optimizer.zero_grad()\n",
    "        t1 = time()\n",
    "        \n",
    "        modified_locations = torch.stack([data.x[:,1], \n",
    "                                          data.x[:,2]  ], dim=1).to(device)  # data 1 phi and data 2 rapidity already normalized\n",
    "        \n",
    "        node_features = torch.stack([data.x[:,1], \n",
    "                                     data.x[:,2],\n",
    "                                     data.x[:,0], \n",
    "                                     data.x[:,3], \n",
    "                                     data.x[:,4],\n",
    "                                     data.x[:,5], \n",
    "                                     data.x[:,6],\n",
    "                                     data.x[:,7] ], dim=1).to(device)\n",
    "        \n",
    "        \n",
    "        if model_key == 'GNN':\n",
    "            labels_pred = model(node_features, edge_inds, edge_attr)\n",
    "        elif model_key == 'EGNN':\n",
    "#             nodes = torch.ones(node_features.size(0), 1).to(device)  # all input nodes are set to 1\n",
    "            rows, cols = edge_inds\n",
    "            locations_dist = torch.sum( (modified_locations[rows] - modified_locations[cols])**2, dim=1).unsqueeze(1)  # relative distances among locations \n",
    "#             vel_attr = get_velocity_attr(loc, vel, rows, cols).detach()\n",
    "            edge_attr = torch.cat([ edge_attr, locations_dist ], dim=1).detach()  # concatenate all edge properties\n",
    "            labels_pred = model(node_features, modified_locations, edge_inds, edge_attr) \n",
    "        \n",
    "        t2 = time()\n",
    "        time_exp_dic['time'] += t2 - t1\n",
    "        time_exp_dic['counter'] += 1\n",
    "#         if batch_idx % 10 ==0:\n",
    "#             print(\"Forward average time: %.6f\" % (time_exp_dic['time'] / time_exp_dic['counter']))\n",
    "#         num_classes=2\n",
    "#         new_labels_mean_pool = torch.zeros(batch_size//node_size,num_classes)\n",
    "#         for i in range(batch_size//node_size):\n",
    "#             new_labels_mean_pool[i,:]=torch.mean(labels_pred[i:int((i+1)*node_size)])\n",
    "\n",
    "#         m = nn.AvgPool2d(node_size, stride=node_size)\n",
    "#          loss = loss_fn(new_labels_mean_pool, labels)  #loss_mse(labels_pred, labels)\n",
    "#         avg_labels_pred = m(labels_pred.reshape(1,batch_size)).reshape(batch_size//node_size,1)\n",
    "    \n",
    "        loss = loss_fn(labels_pred,labels)\n",
    "#         loss = loss_mse(labels_pred, labels)\n",
    "        if backprop:\n",
    "            loss.backward()\n",
    "            optimizer.step()\n",
    "        values['loss'] += loss.item()*batch_size\n",
    "        values['counter'] += batch_size\n",
    "        num_correct += (labels_pred.argmax(dim=1)==labels).sum().int()\n",
    "    loss_return = values['loss']/values['counter']\n",
    "#         loss_return += loss/size\n",
    "        \n",
    "        \n",
    "          # Check against true labels.\n",
    "    acc_return = num_correct / size\n",
    "\n",
    "\n",
    "\n",
    "#         if batch_idx % 1: #args.log_interval == 0 and (args.model == \"se3_transformer\" or args.model == \"tfn\"):\n",
    "# #             print('===> Epoch: {} [{}/{} ({:.0f}%)]\\tLoss: {:.6f}'.format(#loader.dataset.partition,\n",
    "# #                 epoch, batch_idx * batch_size, len(loader.dataset),\n",
    "# #                 100. * batch_idx / len(loader),\n",
    "# #                 loss.item() ) )\n",
    "#             print(f'===> Epoch: {epoch}  |  Loss: {loss.item():.8f}')\n",
    "\n",
    "#     print('%s epoch %d avg loss: %.5f' % (prefix+loader.dataset.partition, epoch, res['loss'] / res['counter']))\n",
    "#     print('epoch %d avg loss: %.5f' % (epoch, res['loss'] / res['counter']))\n",
    "    return loss_return, acc_return"
   ]
  },
  {
   "cell_type": "code",
   "execution_count": 59,
   "metadata": {},
   "outputs": [],
   "source": [
    "torch.manual_seed(3)\n",
    "nf = 10\n",
    "n_layers = 4\n",
    "kernel_size = x_data_proc.shape[1]\n",
    "input_dim = x_data_proc.shape[2]\n",
    "model_key = 'GNN'\n",
    "model = GNN(input_dim=input_dim, \n",
    "            hidden_nf=nf, #args.nf, \n",
    "            n_layers=n_layers, #args.n_layers, \n",
    "            kernel_size = kernel_size,\n",
    "            device=device)\n",
    "lr = 1e-3\n",
    "wd = 1e-12\n",
    "optimizer = optim.Adam(model.parameters(), lr=lr,weight_decay=wd) #args.lr, weight_decay=args.weight_decay)\n",
    "# loss_mse = nn.MSELoss()\n",
    "loss_fn = torch.nn.CrossEntropyLoss()"
   ]
  },
  {
   "cell_type": "code",
   "execution_count": 60,
   "metadata": {},
   "outputs": [
    {
     "name": "stdout",
     "output_type": "stream",
     "text": [
      "Epoch: 0 |  Best Train Loss: 0.63248443 | Best Val Loss: 0.59654475 | Best Train Acc: 0.63558922 | Best Val Acc: 0.67859234\n",
      "Epoch: 1 |  Best Train Loss: 0.59642870 | Best Val Loss: 0.59182690 | Best Train Acc: 0.67860783 | Best Val Acc: 0.68234574\n",
      "Epoch: 2 |  Best Train Loss: 0.59323308 | Best Val Loss: 0.58767747 | Best Train Acc: 0.68322457 | Best Val Acc: 0.68732364\n",
      "Epoch: 3 |  Best Train Loss: 0.58969227 | Best Val Loss: 0.58633672 | Best Train Acc: 0.68701228 | Best Val Acc: 0.68868125\n",
      "Epoch: 4 |  Best Train Loss: 0.58969227 | Best Val Loss: 0.58633672 | Best Train Acc: 0.68701228 | Best Val Acc: 0.68868125\n",
      "Epoch: 5 |  Best Train Loss: 0.58582341 | Best Val Loss: 0.58304486 | Best Train Acc: 0.69168226 | Best Val Acc: 0.69238141\n",
      "Epoch: 6 |  Best Train Loss: 0.58467442 | Best Val Loss: 0.58056829 | Best Train Acc: 0.69221467 | Best Val Acc: 0.69549593\n",
      "Epoch: 7 |  Best Train Loss: 0.58289998 | Best Val Loss: 0.58020806 | Best Train Acc: 0.69412373 | Best Val Acc: 0.69645424\n",
      "Epoch: 8 |  Best Train Loss: 0.58289998 | Best Val Loss: 0.58020806 | Best Train Acc: 0.69412373 | Best Val Acc: 0.69645424\n",
      "Epoch: 9 |  Best Train Loss: 0.58072500 | Best Val Loss: 0.57657553 | Best Train Acc: 0.69626858 | Best Val Acc: 0.70060693\n",
      "Epoch: 10 |  Best Train Loss: 0.58072500 | Best Val Loss: 0.57657553 | Best Train Acc: 0.69626858 | Best Val Acc: 0.70060693\n",
      "Epoch: 11 |  Best Train Loss: 0.57833221 | Best Val Loss: 0.57472542 | Best Train Acc: 0.69829934 | Best Val Acc: 0.70345525\n",
      "Epoch: 12 |  Best Train Loss: 0.57744106 | Best Val Loss: 0.57319771 | Best Train Acc: 0.69859596 | Best Val Acc: 0.70446681\n",
      "Epoch: 13 |  Best Train Loss: 0.57668902 | Best Val Loss: 0.57261710 | Best Train Acc: 0.69996501 | Best Val Acc: 0.70473300\n",
      "Epoch: 14 |  Best Train Loss: 0.57588419 | Best Val Loss: 0.57241844 | Best Train Acc: 0.70061151 | Best Val Acc: 0.70547836\n",
      "Epoch: 15 |  Best Train Loss: 0.57537221 | Best Val Loss: 0.57048060 | Best Train Acc: 0.69985093 | Best Val Acc: 0.70670287\n",
      "Epoch: 16 |  Best Train Loss: 0.57537221 | Best Val Loss: 0.57048060 | Best Train Acc: 0.69985093 | Best Val Acc: 0.70670287\n",
      "Epoch: 17 |  Best Train Loss: 0.57537221 | Best Val Loss: 0.57048060 | Best Train Acc: 0.69985093 | Best Val Acc: 0.70670287\n",
      "Epoch: 18 |  Best Train Loss: 0.57537221 | Best Val Loss: 0.57048060 | Best Train Acc: 0.69985093 | Best Val Acc: 0.70670287\n",
      "Epoch: 19 |  Best Train Loss: 0.57150497 | Best Val Loss: 0.56670946 | Best Train Acc: 0.70495444 | Best Val Acc: 0.71019007\n",
      "Epoch: 20 |  Best Train Loss: 0.57150497 | Best Val Loss: 0.56670946 | Best Train Acc: 0.70495444 | Best Val Acc: 0.71019007\n",
      "Epoch: 21 |  Best Train Loss: 0.57150497 | Best Val Loss: 0.56670946 | Best Train Acc: 0.70495444 | Best Val Acc: 0.71019007\n",
      "Epoch: 22 |  Best Train Loss: 0.57150497 | Best Val Loss: 0.56670946 | Best Train Acc: 0.70495444 | Best Val Acc: 0.71019007\n",
      "Epoch: 23 |  Best Train Loss: 0.57150497 | Best Val Loss: 0.56670946 | Best Train Acc: 0.70495444 | Best Val Acc: 0.71019007\n",
      "Epoch: 24 |  Best Train Loss: 0.56674487 | Best Val Loss: 0.56365854 | Best Train Acc: 0.70960161 | Best Val Acc: 0.71303839\n",
      "Epoch: 25 |  Best Train Loss: 0.56674487 | Best Val Loss: 0.56365854 | Best Train Acc: 0.70960161 | Best Val Acc: 0.71303839\n",
      "Epoch: 26 |  Best Train Loss: 0.56594531 | Best Val Loss: 0.56328827 | Best Train Acc: 0.70953315 | Best Val Acc: 0.71466219\n",
      "Epoch: 27 |  Best Train Loss: 0.56594531 | Best Val Loss: 0.56328827 | Best Train Acc: 0.70953315 | Best Val Acc: 0.71466219\n",
      "Epoch: 28 |  Best Train Loss: 0.56514611 | Best Val Loss: 0.56299484 | Best Train Acc: 0.71057515 | Best Val Acc: 0.71218655\n",
      "Epoch: 29 |  Best Train Loss: 0.56492382 | Best Val Loss: 0.56235482 | Best Train Acc: 0.71100869 | Best Val Acc: 0.71322472\n",
      "Epoch: 30 |  Best Train Loss: 0.56396861 | Best Val Loss: 0.56189080 | Best Train Acc: 0.71194420 | Best Val Acc: 0.71516797\n",
      "Epoch: 31 |  Best Train Loss: 0.56396861 | Best Val Loss: 0.56189080 | Best Train Acc: 0.71194420 | Best Val Acc: 0.71516797\n",
      "Epoch: 32 |  Best Train Loss: 0.56356455 | Best Val Loss: 0.56175223 | Best Train Acc: 0.71160194 | Best Val Acc: 0.71458234\n",
      "Epoch: 33 |  Best Train Loss: 0.56356455 | Best Val Loss: 0.56175223 | Best Train Acc: 0.71160194 | Best Val Acc: 0.71458234\n",
      "Epoch: 34 |  Best Train Loss: 0.56356455 | Best Val Loss: 0.56175223 | Best Train Acc: 0.71160194 | Best Val Acc: 0.71458234\n",
      "Epoch: 35 |  Best Train Loss: 0.56222203 | Best Val Loss: 0.55867147 | Best Train Acc: 0.71243858 | Best Val Acc: 0.71743066\n",
      "Epoch: 36 |  Best Train Loss: 0.56222203 | Best Val Loss: 0.55867147 | Best Train Acc: 0.71243858 | Best Val Acc: 0.71743066\n",
      "Epoch: 37 |  Best Train Loss: 0.56222203 | Best Val Loss: 0.55867147 | Best Train Acc: 0.71243858 | Best Val Acc: 0.71743066\n",
      "Epoch: 38 |  Best Train Loss: 0.56222203 | Best Val Loss: 0.55867147 | Best Train Acc: 0.71243858 | Best Val Acc: 0.71743066\n",
      "Epoch: 39 |  Best Train Loss: 0.56222203 | Best Val Loss: 0.55867147 | Best Train Acc: 0.71243858 | Best Val Acc: 0.71743066\n",
      "Epoch: 40 |  Best Train Loss: 0.56222203 | Best Val Loss: 0.55867147 | Best Train Acc: 0.71243858 | Best Val Acc: 0.71743066\n",
      "Epoch: 41 |  Best Train Loss: 0.56222203 | Best Val Loss: 0.55867147 | Best Train Acc: 0.71243858 | Best Val Acc: 0.71743066\n",
      "Epoch: 42 |  Best Train Loss: 0.56222203 | Best Val Loss: 0.55867147 | Best Train Acc: 0.71243858 | Best Val Acc: 0.71743066\n",
      "Epoch: 43 |  Best Train Loss: 0.56222203 | Best Val Loss: 0.55867147 | Best Train Acc: 0.71243858 | Best Val Acc: 0.71743066\n",
      "Epoch: 44 |  Best Train Loss: 0.56036091 | Best Val Loss: 0.55837291 | Best Train Acc: 0.71348058 | Best Val Acc: 0.71711122\n",
      "Epoch: 45 |  Best Train Loss: 0.55977392 | Best Val Loss: 0.55790016 | Best Train Acc: 0.71527556 | Best Val Acc: 0.71793643\n",
      "Epoch: 46 |  Best Train Loss: 0.55977392 | Best Val Loss: 0.55790016 | Best Train Acc: 0.71527556 | Best Val Acc: 0.71793643\n",
      "Epoch: 47 |  Best Train Loss: 0.55977392 | Best Val Loss: 0.55790016 | Best Train Acc: 0.71527556 | Best Val Acc: 0.71793643\n",
      "Epoch: 48 |  Best Train Loss: 0.55977392 | Best Val Loss: 0.55790016 | Best Train Acc: 0.71527556 | Best Val Acc: 0.71793643\n",
      "Epoch: 49 |  Best Train Loss: 0.55977392 | Best Val Loss: 0.55790016 | Best Train Acc: 0.71527556 | Best Val Acc: 0.71793643\n",
      "-------------------------------------------------------\n",
      "\n",
      " Total Time: 1974.99152374\n",
      "Training Complete.\n"
     ]
    }
   ],
   "source": [
    "epochs = 50\n",
    "\n",
    "model_and_history = training(model = model,\n",
    "                             epochs = epochs, \n",
    "                             loader_train = train_dataloader, \n",
    "                             loader_val  = val_dataloader, \n",
    "                             loader_test = test_dataloader)"
   ]
  },
  {
   "cell_type": "code",
   "execution_count": 61,
   "metadata": {},
   "outputs": [
    {
     "data": {
      "image/png": "[encoded data removed]",
      "text/plain": [
       "<Figure size 800x500 with 1 Axes>"
      ]
     },
     "metadata": {},
     "output_type": "display_data"
    }
   ],
   "source": [
    "# Plot the training accuracy\n",
    "fig = plt.figure(figsize=(8,5))\n",
    "plt.plot(model_and_history['history']['train_loss'],c='b',label=f'Train Loss ({train_index} jets/graphs)')\n",
    "plt.plot(model_and_history['history']['val_loss'],c='g',label=f'Val Loss ({val_index-train_index} jets/graphs)')\n",
    "plt.plot(model_and_history['history']['train_accuracy'],c='cyan',label='Train Acc')\n",
    "plt.plot(model_and_history['history']['val_accuracy'],c='darkorange',label='Val Acc')\n",
    "plt.title(f'GNN Training History \\n (Nodes Per Graph: {nodes_per_graph}, Hidden Features: {nf}, Layers: {n_layers})')\n",
    "plt.xlabel('Epoch')\n",
    "plt.ylabel('Loss/Accuracy')\n",
    "plt.legend()\n",
    "plt.savefig('gnn_training.png')"
   ]
  },
  {
   "cell_type": "code",
   "execution_count": 62,
   "metadata": {},
   "outputs": [],
   "source": [
    "model = copy.deepcopy(model_and_history['model'])\n",
    "model.eval()\n",
    "with torch.no_grad():\n",
    "    labels_all = None\n",
    "    for i,data in enumerate(test_dataloader):\n",
    "        node_size = (data.batch==0).sum()\n",
    "        batch_size = data.x.shape[0]\n",
    "        node_size, n_nodes = data[0].x.size()\n",
    "\n",
    "#         data = [d.to(device) for d in data]\n",
    "#         data = [d.view(-1, d.size(2)) for d in data]\n",
    "#         node_loc  = torch.stack([ data.x[:,1],data.x[:,2] ], dim=1).reshape(data.x.shape[0],2).to(device)\n",
    "        edge_index = data.edge_index.to(device)\n",
    "        edge_attr = data.edge_attr.to(device)\n",
    "        labels = data.y.double().reshape(batch_size//node_size,).cpu()\n",
    "\n",
    "\n",
    "#         edges = loader.dataset.get_edges(batch_size, n_nodes)\n",
    "        edges = [edge_index[0,:].to(device), edge_index[1,:].to(device)]\n",
    "#         print('hello:',edges[0])\n",
    "\n",
    "        optimizer.zero_grad()\n",
    "\n",
    "        node_features = torch.stack([data.x[:,1], \n",
    "                                     data.x[:,2],\n",
    "                                     data.x[:,0], \n",
    "                                     data.x[:,3], \n",
    "                                     data.x[:,4],\n",
    "                                     data.x[:,5], \n",
    "                                     data.x[:,6],\n",
    "                                     data.x[:,7] ], dim=1).to(device)\n",
    "        \n",
    "        labels_pred = model(node_features, edges, edge_attr).cpu()\n",
    "        \n",
    "        if labels_all is not None:\n",
    "            labels_all = torch.cat([labels_all,labels],dim=0)\n",
    "            labels_pred_all = torch.cat([labels_pred_all,labels_pred],dim=0)\n",
    "        else:\n",
    "            labels_all = copy.deepcopy(labels)\n",
    "            labels_pred_all = copy.deepcopy(labels_pred)"
   ]
  },
  {
   "cell_type": "code",
   "execution_count": 63,
   "metadata": {},
   "outputs": [],
   "source": [
    "# labels_all"
   ]
  },
  {
   "cell_type": "code",
   "execution_count": 64,
   "metadata": {},
   "outputs": [],
   "source": [
    "# labels_pred_all"
   ]
  },
  {
   "cell_type": "code",
   "execution_count": 65,
   "metadata": {},
   "outputs": [
    {
     "data": {
      "image/png": "[encoded data removed]",
      "text/plain": [
       "<Figure size 400x300 with 2 Axes>"
      ]
     },
     "metadata": {},
     "output_type": "display_data"
    },
    {
     "name": "stdout",
     "output_type": "stream",
     "text": [
      "Accuracy for GNN:  tensor(0.7200)\n"
     ]
    }
   ],
   "source": [
    "from sklearn.metrics import confusion_matrix\n",
    "# Calculate the confusion matrix\n",
    "conf_matrix = confusion_matrix(y_true=labels_all, y_pred=labels_pred_all.argmax(dim=1))\n",
    "# Print the confusion matrix using Matplotlib\n",
    "fig, ax = plt.subplots(figsize=(4, 3))\n",
    "im = ax.imshow(conf_matrix, cmap=plt.cm.Blues, alpha=0.3)\n",
    "for i in range(conf_matrix.shape[0]):\n",
    "    for j in range(conf_matrix.shape[1]):\n",
    "        ax.text(x=j, y=i,s=conf_matrix[i, j], va='center', ha='center', size='xx-large')\n",
    "plt.xlabel('Pred', fontsize=18)\n",
    "plt.ylabel('True', fontsize=18)\n",
    "plt.title('Confusion Matrix for GNN', fontsize=18)\n",
    "plt.xticks(ticks=[0,1],labels=['Gluon','Quark'])\n",
    "plt.yticks(ticks=[0,1],labels=['Gluon','Quark'])\n",
    "plt.colorbar(im)\n",
    "plt.show()\n",
    "\n",
    "size=labels_all.shape[0]\n",
    "num_correct = (labels_all==labels_pred_all.argmax(dim=1)).sum().int()\n",
    "print('Accuracy for GNN: ',num_correct/size)"
   ]
  },
  {
   "cell_type": "markdown",
   "metadata": {},
   "source": [
    "## Equivariant GNN"
   ]
  },
  {
   "cell_type": "code",
   "execution_count": 66,
   "metadata": {},
   "outputs": [],
   "source": [
    "class EGCL(nn.Module):\n",
    "    \"\"\"Graph Neural Net with global state and fixed number of nodes per graph.\n",
    "    Args:\n",
    "          hidden_dim: Number of hidden units.\n",
    "          num_nodes: Maximum number of nodes (for self-attentive pooling).\n",
    "          global_agg: Global aggregation function ('attn' or 'sum').\n",
    "          temp: Softmax temperature.\n",
    "    \"\"\"\n",
    "\n",
    "    def __init__(self, input_nf, output_nf, hidden_nf, edges_in_d=0, nodes_att_dim=0, act_fn=nn.ReLU(), recurrent=True, coords_weight=1.0, attention=False, clamp=False, norm_diff=False, tanh=False):\n",
    "        super(EGCL, self).__init__()\n",
    "        input_edge = input_nf * 2 # hi + hj dim = num_features*2\n",
    "        self.coords_weight = coords_weight\n",
    "        self.recurrent = recurrent\n",
    "        self.attention = attention\n",
    "        self.norm_diff = norm_diff\n",
    "        self.tanh = tanh\n",
    "        edge_coords_nf = 1 # |xi-xj| dim =1\n",
    "\n",
    "\n",
    "        self.edge_mlp = nn.Sequential( nn.Linear(input_edge + edge_coords_nf + edges_in_d, hidden_nf),\n",
    "                                      act_fn,\n",
    "                                      nn.Linear(hidden_nf, hidden_nf),\n",
    "                                      act_fn,\n",
    "                                      nn.Linear(hidden_nf, hidden_nf),\n",
    "                                      act_fn)\n",
    "\n",
    "        self.node_mlp = nn.Sequential( nn.Linear(hidden_nf + input_nf + nodes_att_dim, hidden_nf),\n",
    "                                       act_fn,\n",
    "                                       nn.Linear(hidden_nf, output_nf),\n",
    "                                       act_fn,\n",
    "                                       nn.Linear(hidden_nf, output_nf))\n",
    "\n",
    "        layer = nn.Linear(hidden_nf, 1, bias=False)\n",
    "        torch.nn.init.xavier_uniform_(layer.weight, gain=0.001)\n",
    "\n",
    "        self.clamp = clamp\n",
    "        coord_mlp = []\n",
    "        coord_mlp.append(nn.Linear(hidden_nf, hidden_nf))\n",
    "        coord_mlp.append(act_fn)\n",
    "        coord_mlp.append(layer)\n",
    "        if self.tanh:\n",
    "            coord_mlp.append(nn.Tanh())\n",
    "            self.coords_range = nn.Parameter(torch.ones(1))*3\n",
    "        self.coord_mlp = nn.Sequential(*coord_mlp)\n",
    "\n",
    "        if self.attention:\n",
    "            self.att_mlp = nn.Sequential(\n",
    "                nn.Linear(hidden_nf, 1),\n",
    "                nn.Sigmoid())\n",
    "\n",
    "        #if recurrent:\n",
    "        #    self.gru = nn.GRUCell(hidden_nf, hidden_nf)\n",
    "\n",
    "\n",
    "    def edge_model(self, source, target, radial, edge_attr):\n",
    "        if edge_attr is None:  # Unused.\n",
    "            out = torch.cat([source, target, radial], dim=1) #hi,hj, |x_i-x_j|\n",
    "        else:\n",
    "            out = torch.cat([source, target, radial, edge_attr], dim=1) #hi,hj, |x_i-x_j|, a_ij\n",
    "        m_ij = self.edge_mlp(out)\n",
    "        if self.attention:\n",
    "            att_val = self.att_mlp(m_ij)\n",
    "            m_ij = m_ij * att_val\n",
    "        return m_ij\n",
    "\n",
    "    def node_model(self, h, edge_index, edge_attr, node_attr):\n",
    "        row, col = edge_index\n",
    "#         agg = unsorted_segment_sum(edge_attr, row, num_segments=x.size(0))\n",
    "        size = int(edge_attr.shape[0]/h.shape[0])\n",
    "        aggregate = nn.AvgPool1d(kernel_size=size, stride=size)\n",
    "        if node_attr is not None:\n",
    "            agg = torch.cat([h, aggregate(edge_attr.T).T, node_attr], dim=1)\n",
    "        else:\n",
    "            agg = torch.cat([h, aggregate(edge_attr.T).T], dim=1)  # h_i, m_i\n",
    "        hi_lplus1 = self.node_mlp(agg)\n",
    "        if self.recurrent:\n",
    "            hi_lplus1 = h + hi_lplus1\n",
    "        return hi_lplus1, agg\n",
    "\n",
    "    def coord_model(self, coord, edge_index, coord_diff, m_ij):\n",
    "        row, col = edge_index\n",
    "        weighted_connection_vector = coord_diff * self.coord_mlp(m_ij)\n",
    "        weighted_connection_vector = torch.clamp(weighted_connection_vector, min=-100, max=100) #This is never activated but just in case it case it explosed it may save the train\n",
    "#         agg = unsorted_segment_mean(trans, row, num_segments=coord.size(0))\n",
    "        size = int(m_ij.shape[0]/coord.shape[0])\n",
    "        aggregate = nn.AvgPool1d(kernel_size=size, stride=size)\n",
    "        coord += aggregate(weighted_connection_vector.T).T*self.coords_weight\n",
    "        return coord\n",
    "\n",
    "    def coord2radial(self, edge_index, coordinates):\n",
    "        row, col = edge_index\n",
    "        coord_direction = coordinates[row] - coordinates[col]\n",
    "        radial = torch.sum((coord_direction)**2, dim = 1).unsqueeze(1)\n",
    "\n",
    "        if self.norm_diff:\n",
    "            norm = torch.sqrt(radial) + 1\n",
    "            coord_direction = coord_direction/norm\n",
    "\n",
    "        return radial, coord_direction\n",
    "    \n",
    "    def equi_coordinate(self, edge_index, coordinates):\n",
    "        row, col = edge_index\n",
    "        equi_coordinates = coordinates[row] - (coordinates[row] - coordinates[col])/np.log(row.shape[0])#torch.sum((coordinates[row] - coordinates[col])**2,dim=1).sqrt().reshape(row.shape[0],1)\n",
    "        size = int(len(row)/coordinates.shape[0])\n",
    "        aggregate = nn.AvgPool1d(kernel_size=size, stride=size)\n",
    "        return aggregate(equi_coordinates.T).T\n",
    "\n",
    "    def forward(self, h, edge_index, coordinates, edge_attr=None, node_attr=None):\n",
    "        row, col = edge_index\n",
    "        radial, coord_direction = self.coord2radial(edge_index, coordinates)  # returns radial distance and direction between points\n",
    "        m_ij = self.edge_model(h[row], h[col], radial, edge_attr)\n",
    "        coordinates = self.equi_coordinate(edge_index, coordinates)\n",
    "        coordinates = self.coord_model(coordinates, edge_index, coord_direction, m_ij)\n",
    "        h, agg = self.node_model(h, edge_index, m_ij, node_attr)\n",
    "        # coord = self.node_coord_model(h, coord)\n",
    "        # x = self.node_model(x, edge_index, x[col], u, batch)  # GCN\n",
    "        return h, coordinates, edge_attr"
   ]
  },
  {
   "cell_type": "code",
   "execution_count": 67,
   "metadata": {},
   "outputs": [],
   "source": [
    "class EGNN(nn.Module):\n",
    "    def __init__(self, in_node_nf, in_edge_nf, hidden_nf, device='cpu', act_fn=nn.LeakyReLU(0.2), n_layers=4, kernel_size = None, coords_weight=1.0):\n",
    "        super(EGNN, self).__init__()\n",
    "        self.hidden_nf = hidden_nf\n",
    "        self.device = device\n",
    "        self.n_layers = n_layers\n",
    "        #self.reg = reg\n",
    "        ### Encoder\n",
    "        #self.add_module(\"gcl_0\", EGCL(in_node_nf, self.hidden_nf, self.hidden_nf, edges_in_d=in_edge_nf, act_fn=act_fn, recurrent=False, coords_weight=coords_weight))\n",
    "        self.embedding = nn.Linear(in_node_nf, self.hidden_nf)\n",
    "        for i in range(0, n_layers):\n",
    "            self.add_module(\"gcl_%d\" % i, EGCL(self.hidden_nf, \n",
    "                                               self.hidden_nf, \n",
    "                                               self.hidden_nf, \n",
    "                                               edges_in_d=in_edge_nf, \n",
    "                                               act_fn=act_fn, \n",
    "                                               recurrent=True, \n",
    "                                               coords_weight=coords_weight))\n",
    "        \n",
    "        self.mean_pool = nn.AvgPool1d(kernel_size=kernel_size, stride=kernel_size)\n",
    "        self.coord_dim = 2\n",
    "        self.decoder = nn.Sequential( nn.Linear(self.coord_dim, self.coord_dim**2),\n",
    "                                      act_fn,\n",
    "                                      nn.Linear(self.coord_dim**2, self.coord_dim),\n",
    "                                      act_fn,\n",
    "                                      nn.Linear(self.coord_dim, 2) )\n",
    "        self.to(self.device)\n",
    "        \n",
    "\n",
    "    def forward(self, h, x, edge_index, edge_attr):#, vel=None):\n",
    "        h = self.embedding(h)\n",
    "        for i in range(0, self.n_layers):\n",
    "            #if vel is not None:\n",
    "                #vel_attr = get_velocity_attr(x, vel, edges[0], edges[1])\n",
    "                #edge_attr = torch.cat([edge_attr0, vel_attr], dim=1).detach()\n",
    "            h, x, _ = self._modules[\"gcl_%d\" % i](h, edge_index, x, edge_attr=edge_attr)\n",
    "\n",
    "        x = self.mean_pool(x.T).T\n",
    "        x = self.decoder(x)\n",
    "#         x = F.elu(x)\n",
    "        return F.log_softmax(x, dim=1)"
   ]
  },
  {
   "cell_type": "code",
   "execution_count": 68,
   "metadata": {},
   "outputs": [],
   "source": [
    "torch.manual_seed(3)\n",
    "nf = 10\n",
    "n_layers = 4\n",
    "kernel_size =x_data_proc.shape[1]\n",
    "in_node_nf= x_data_proc.shape[2]\n",
    "model_key = 'EGNN'\n",
    "model = EGNN(in_node_nf=in_node_nf, \n",
    "             in_edge_nf=2,\n",
    "             hidden_nf=nf, #args.nf, \n",
    "             n_layers=n_layers, #args.n_layers, \n",
    "             kernel_size = kernel_size,\n",
    "             device=device)\n",
    "lr = 1e-3\n",
    "wd = 1e-12\n",
    "optimizer = optim.Adam(model.parameters(), lr=lr,weight_decay=wd) #args.lr, weight_decay=args.weight_decay)\n",
    "# loss_mse = nn.MSELoss()\n",
    "loss_fn = torch.nn.CrossEntropyLoss()"
   ]
  },
  {
   "cell_type": "code",
   "execution_count": 69,
   "metadata": {},
   "outputs": [
    {
     "name": "stdout",
     "output_type": "stream",
     "text": [
      "Epoch: 0 |  Best Train Loss: 0.63428276 | Best Val Loss: 0.61133711 | Best Train Acc: 0.63660841 | Best Val Acc: 0.66709258\n",
      "Epoch: 1 |  Best Train Loss: 0.60658159 | Best Val Loss: 0.60041246 | Best Train Acc: 0.67294148 | Best Val Acc: 0.67686206\n",
      "Epoch: 2 |  Best Train Loss: 0.60102028 | Best Val Loss: 0.59549269 | Best Train Acc: 0.67809063 | Best Val Acc: 0.68021615\n",
      "Epoch: 3 |  Best Train Loss: 0.60102028 | Best Val Loss: 0.59549269 | Best Train Acc: 0.67809063 | Best Val Acc: 0.68021615\n",
      "Epoch: 4 |  Best Train Loss: 0.59758417 | Best Val Loss: 0.59258048 | Best Train Acc: 0.68073746 | Best Val Acc: 0.68554012\n",
      "Epoch: 5 |  Best Train Loss: 0.59758417 | Best Val Loss: 0.59258048 | Best Train Acc: 0.68073746 | Best Val Acc: 0.68554012\n",
      "Epoch: 6 |  Best Train Loss: 0.59758417 | Best Val Loss: 0.59258048 | Best Train Acc: 0.68073746 | Best Val Acc: 0.68554012\n",
      "Epoch: 7 |  Best Train Loss: 0.59546261 | Best Val Loss: 0.59207129 | Best Train Acc: 0.68325499 | Best Val Acc: 0.68394293\n",
      "Epoch: 8 |  Best Train Loss: 0.59546261 | Best Val Loss: 0.59207129 | Best Train Acc: 0.68325499 | Best Val Acc: 0.68394293\n",
      "Epoch: 9 |  Best Train Loss: 0.59546261 | Best Val Loss: 0.59207129 | Best Train Acc: 0.68325499 | Best Val Acc: 0.68394293\n",
      "Epoch: 10 |  Best Train Loss: 0.59327528 | Best Val Loss: 0.59053614 | Best Train Acc: 0.68418291 | Best Val Acc: 0.68764308\n",
      "Epoch: 11 |  Best Train Loss: 0.59280555 | Best Val Loss: 0.58856538 | Best Train Acc: 0.68456320 | Best Val Acc: 0.68785604\n",
      "Epoch: 12 |  Best Train Loss: 0.59229850 | Best Val Loss: 0.58839442 | Best Train Acc: 0.68517166 | Best Val Acc: 0.68700421\n",
      "Epoch: 13 |  Best Train Loss: 0.59229850 | Best Val Loss: 0.58839442 | Best Train Acc: 0.68517166 | Best Val Acc: 0.68700421\n",
      "Epoch: 14 |  Best Train Loss: 0.59229850 | Best Val Loss: 0.58839442 | Best Train Acc: 0.68517166 | Best Val Acc: 0.68700421\n",
      "Epoch: 15 |  Best Train Loss: 0.58974212 | Best Val Loss: 0.58660327 | Best Train Acc: 0.68730130 | Best Val Acc: 0.69166267\n",
      "Epoch: 16 |  Best Train Loss: 0.58949407 | Best Val Loss: 0.58576340 | Best Train Acc: 0.68673847 | Best Val Acc: 0.69014534\n",
      "Epoch: 17 |  Best Train Loss: 0.58949407 | Best Val Loss: 0.58576340 | Best Train Acc: 0.68673847 | Best Val Acc: 0.69014534\n",
      "Epoch: 18 |  Best Train Loss: 0.58799830 | Best Val Loss: 0.58403392 | Best Train Acc: 0.68935487 | Best Val Acc: 0.69216845\n",
      "Epoch: 19 |  Best Train Loss: 0.58799830 | Best Val Loss: 0.58403392 | Best Train Acc: 0.68935487 | Best Val Acc: 0.69216845\n",
      "Epoch: 20 |  Best Train Loss: 0.58626182 | Best Val Loss: 0.58309578 | Best Train Acc: 0.69089886 | Best Val Acc: 0.69389874\n",
      "Epoch: 21 |  Best Train Loss: 0.58626182 | Best Val Loss: 0.58309578 | Best Train Acc: 0.69089886 | Best Val Acc: 0.69389874\n",
      "Epoch: 22 |  Best Train Loss: 0.58626182 | Best Val Loss: 0.58309578 | Best Train Acc: 0.69089886 | Best Val Acc: 0.69389874\n",
      "Epoch: 23 |  Best Train Loss: 0.58626182 | Best Val Loss: 0.58309578 | Best Train Acc: 0.69089886 | Best Val Acc: 0.69389874\n",
      "Epoch: 24 |  Best Train Loss: 0.58626182 | Best Val Loss: 0.58309578 | Best Train Acc: 0.69089886 | Best Val Acc: 0.69389874\n",
      "Epoch: 25 |  Best Train Loss: 0.58359195 | Best Val Loss: 0.57985091 | Best Train Acc: 0.69378147 | Best Val Acc: 0.69709312\n",
      "Epoch: 26 |  Best Train Loss: 0.58359195 | Best Val Loss: 0.57985091 | Best Train Acc: 0.69378147 | Best Val Acc: 0.69709312\n",
      "Epoch: 27 |  Best Train Loss: 0.58359195 | Best Val Loss: 0.57985091 | Best Train Acc: 0.69378147 | Best Val Acc: 0.69709312\n",
      "Epoch: 28 |  Best Train Loss: 0.58359195 | Best Val Loss: 0.57985091 | Best Train Acc: 0.69378147 | Best Val Acc: 0.69709312\n",
      "Epoch: 29 |  Best Train Loss: 0.58162810 | Best Val Loss: 0.57872232 | Best Train Acc: 0.69542433 | Best Val Acc: 0.69794495\n",
      "Epoch: 30 |  Best Train Loss: 0.58162810 | Best Val Loss: 0.57872232 | Best Train Acc: 0.69542433 | Best Val Acc: 0.69794495\n",
      "Epoch: 31 |  Best Train Loss: 0.58162810 | Best Val Loss: 0.57872232 | Best Train Acc: 0.69542433 | Best Val Acc: 0.69794495\n",
      "Epoch: 32 |  Best Train Loss: 0.58043525 | Best Val Loss: 0.57788682 | Best Train Acc: 0.69658042 | Best Val Acc: 0.69869031\n",
      "Epoch: 33 |  Best Train Loss: 0.58043525 | Best Val Loss: 0.57788682 | Best Train Acc: 0.69658042 | Best Val Acc: 0.69869031\n",
      "Epoch: 34 |  Best Train Loss: 0.57958983 | Best Val Loss: 0.57713576 | Best Train Acc: 0.69661845 | Best Val Acc: 0.69964862\n",
      "Epoch: 35 |  Best Train Loss: 0.57958983 | Best Val Loss: 0.57713576 | Best Train Acc: 0.69661845 | Best Val Acc: 0.69964862\n",
      "Epoch: 36 |  Best Train Loss: 0.57893513 | Best Val Loss: 0.57630833 | Best Train Acc: 0.69825370 | Best Val Acc: 0.70066017\n",
      "Epoch: 37 |  Best Train Loss: 0.57893513 | Best Val Loss: 0.57630833 | Best Train Acc: 0.69825370 | Best Val Acc: 0.70066017\n",
      "Epoch: 38 |  Best Train Loss: 0.57893513 | Best Val Loss: 0.57630833 | Best Train Acc: 0.69825370 | Best Val Acc: 0.70066017\n",
      "Epoch: 39 |  Best Train Loss: 0.57893513 | Best Val Loss: 0.57630833 | Best Train Acc: 0.69825370 | Best Val Acc: 0.70066017\n",
      "Epoch: 40 |  Best Train Loss: 0.57893513 | Best Val Loss: 0.57630833 | Best Train Acc: 0.69825370 | Best Val Acc: 0.70066017\n",
      "Epoch: 41 |  Best Train Loss: 0.57800825 | Best Val Loss: 0.57501607 | Best Train Acc: 0.69860357 | Best Val Acc: 0.70169834\n",
      "Epoch: 42 |  Best Train Loss: 0.57800825 | Best Val Loss: 0.57501607 | Best Train Acc: 0.69860357 | Best Val Acc: 0.70169834\n",
      "Epoch: 43 |  Best Train Loss: 0.57800825 | Best Val Loss: 0.57501607 | Best Train Acc: 0.69860357 | Best Val Acc: 0.70169834\n",
      "Epoch: 44 |  Best Train Loss: 0.57800825 | Best Val Loss: 0.57501607 | Best Train Acc: 0.69860357 | Best Val Acc: 0.70169834\n",
      "Epoch: 45 |  Best Train Loss: 0.57800825 | Best Val Loss: 0.57501607 | Best Train Acc: 0.69860357 | Best Val Acc: 0.70169834\n",
      "Epoch: 46 |  Best Train Loss: 0.57800825 | Best Val Loss: 0.57501607 | Best Train Acc: 0.69860357 | Best Val Acc: 0.70169834\n",
      "Epoch: 47 |  Best Train Loss: 0.57800825 | Best Val Loss: 0.57501607 | Best Train Acc: 0.69860357 | Best Val Acc: 0.70169834\n",
      "Epoch: 48 |  Best Train Loss: 0.57800825 | Best Val Loss: 0.57501607 | Best Train Acc: 0.69860357 | Best Val Acc: 0.70169834\n",
      "Epoch: 49 |  Best Train Loss: 0.57800825 | Best Val Loss: 0.57501607 | Best Train Acc: 0.69860357 | Best Val Acc: 0.70169834\n",
      "Epoch: 50 |  Best Train Loss: 0.57800825 | Best Val Loss: 0.57501607 | Best Train Acc: 0.69860357 | Best Val Acc: 0.70169834\n",
      "Epoch: 51 |  Best Train Loss: 0.57583243 | Best Val Loss: 0.57460963 | Best Train Acc: 0.69964557 | Best Val Acc: 0.70324229\n",
      "Epoch: 52 |  Best Train Loss: 0.57583243 | Best Val Loss: 0.57460963 | Best Train Acc: 0.69964557 | Best Val Acc: 0.70324229\n",
      "Epoch: 53 |  Best Train Loss: 0.57583243 | Best Val Loss: 0.57460963 | Best Train Acc: 0.69964557 | Best Val Acc: 0.70324229\n",
      "Epoch: 54 |  Best Train Loss: 0.57583243 | Best Val Loss: 0.57460963 | Best Train Acc: 0.69964557 | Best Val Acc: 0.70324229\n",
      "Epoch: 55 |  Best Train Loss: 0.57516889 | Best Val Loss: 0.57424379 | Best Train Acc: 0.70017037 | Best Val Acc: 0.70153863\n",
      "Epoch: 56 |  Best Train Loss: 0.57516889 | Best Val Loss: 0.57424379 | Best Train Acc: 0.70017037 | Best Val Acc: 0.70153863\n",
      "Epoch: 57 |  Best Train Loss: 0.57516889 | Best Val Loss: 0.57424379 | Best Train Acc: 0.70017037 | Best Val Acc: 0.70153863\n",
      "Epoch: 58 |  Best Train Loss: 0.57516889 | Best Val Loss: 0.57424379 | Best Train Acc: 0.70017037 | Best Val Acc: 0.70153863\n",
      "Epoch: 59 |  Best Train Loss: 0.57456866 | Best Val Loss: 0.57287316 | Best Train Acc: 0.70169154 | Best Val Acc: 0.70353511\n",
      "Epoch: 60 |  Best Train Loss: 0.57456866 | Best Val Loss: 0.57287316 | Best Train Acc: 0.70169154 | Best Val Acc: 0.70353511\n",
      "Epoch: 61 |  Best Train Loss: 0.57394872 | Best Val Loss: 0.57249143 | Best Train Acc: 0.70194253 | Best Val Acc: 0.70470638\n",
      "Epoch: 62 |  Best Train Loss: 0.57394872 | Best Val Loss: 0.57249143 | Best Train Acc: 0.70194253 | Best Val Acc: 0.70470638\n",
      "Epoch: 63 |  Best Train Loss: 0.57394872 | Best Val Loss: 0.57249143 | Best Train Acc: 0.70194253 | Best Val Acc: 0.70470638\n",
      "Epoch: 64 |  Best Train Loss: 0.57394872 | Best Val Loss: 0.57249143 | Best Train Acc: 0.70194253 | Best Val Acc: 0.70470638\n",
      "Epoch: 65 |  Best Train Loss: 0.57394872 | Best Val Loss: 0.57249143 | Best Train Acc: 0.70194253 | Best Val Acc: 0.70470638\n",
      "Epoch: 66 |  Best Train Loss: 0.57286935 | Best Val Loss: 0.57240313 | Best Train Acc: 0.70303016 | Best Val Acc: 0.70425385\n",
      "Epoch: 67 |  Best Train Loss: 0.57286935 | Best Val Loss: 0.57240313 | Best Train Acc: 0.70303016 | Best Val Acc: 0.70425385\n",
      "Epoch: 68 |  Best Train Loss: 0.57286935 | Best Val Loss: 0.57240313 | Best Train Acc: 0.70303016 | Best Val Acc: 0.70425385\n",
      "Epoch: 69 |  Best Train Loss: 0.57255848 | Best Val Loss: 0.57167269 | Best Train Acc: 0.70349412 | Best Val Acc: 0.70497258\n",
      "Epoch: 70 |  Best Train Loss: 0.57255848 | Best Val Loss: 0.57167269 | Best Train Acc: 0.70349412 | Best Val Acc: 0.70497258\n",
      "Epoch: 71 |  Best Train Loss: 0.57255848 | Best Val Loss: 0.57167269 | Best Train Acc: 0.70349412 | Best Val Acc: 0.70497258\n",
      "Epoch: 72 |  Best Train Loss: 0.57197439 | Best Val Loss: 0.57133877 | Best Train Acc: 0.70297692 | Best Val Acc: 0.70555822\n",
      "Epoch: 73 |  Best Train Loss: 0.57197439 | Best Val Loss: 0.57133877 | Best Train Acc: 0.70297692 | Best Val Acc: 0.70555822\n",
      "Epoch: 74 |  Best Train Loss: 0.57197439 | Best Val Loss: 0.57133877 | Best Train Acc: 0.70297692 | Best Val Acc: 0.70555822\n",
      "Epoch: 75 |  Best Train Loss: 0.57197439 | Best Val Loss: 0.57133877 | Best Train Acc: 0.70297692 | Best Val Acc: 0.70555822\n",
      "Epoch: 76 |  Best Train Loss: 0.57197439 | Best Val Loss: 0.57133877 | Best Train Acc: 0.70297692 | Best Val Acc: 0.70555822\n",
      "Epoch: 77 |  Best Train Loss: 0.57197439 | Best Val Loss: 0.57133877 | Best Train Acc: 0.70297692 | Best Val Acc: 0.70555822\n",
      "Epoch: 78 |  Best Train Loss: 0.57197439 | Best Val Loss: 0.57133877 | Best Train Acc: 0.70297692 | Best Val Acc: 0.70555822\n",
      "Epoch: 79 |  Best Train Loss: 0.57197439 | Best Val Loss: 0.57133877 | Best Train Acc: 0.70297692 | Best Val Acc: 0.70555822\n",
      "Epoch: 80 |  Best Train Loss: 0.57129396 | Best Val Loss: 0.57089262 | Best Train Acc: 0.70427752 | Best Val Acc: 0.70569132\n",
      "Epoch: 81 |  Best Train Loss: 0.57129396 | Best Val Loss: 0.57089262 | Best Train Acc: 0.70427752 | Best Val Acc: 0.70569132\n",
      "Epoch: 82 |  Best Train Loss: 0.57129396 | Best Val Loss: 0.57089262 | Best Train Acc: 0.70427752 | Best Val Acc: 0.70569132\n",
      "Epoch: 83 |  Best Train Loss: 0.57077530 | Best Val Loss: 0.57000914 | Best Train Acc: 0.70500768 | Best Val Acc: 0.70577118\n",
      "Epoch: 84 |  Best Train Loss: 0.57077530 | Best Val Loss: 0.57000914 | Best Train Acc: 0.70500768 | Best Val Acc: 0.70577118\n",
      "Epoch: 85 |  Best Train Loss: 0.57077530 | Best Val Loss: 0.57000914 | Best Train Acc: 0.70500768 | Best Val Acc: 0.70577118\n",
      "Epoch: 86 |  Best Train Loss: 0.57077530 | Best Val Loss: 0.57000914 | Best Train Acc: 0.70500768 | Best Val Acc: 0.70577118\n",
      "Epoch: 87 |  Best Train Loss: 0.57029380 | Best Val Loss: 0.56973218 | Best Train Acc: 0.70480993 | Best Val Acc: 0.70752808\n",
      "Epoch: 88 |  Best Train Loss: 0.57029380 | Best Val Loss: 0.56973218 | Best Train Acc: 0.70480993 | Best Val Acc: 0.70752808\n",
      "Epoch: 89 |  Best Train Loss: 0.57029380 | Best Val Loss: 0.56973218 | Best Train Acc: 0.70480993 | Best Val Acc: 0.70752808\n",
      "Epoch: 90 |  Best Train Loss: 0.57029380 | Best Val Loss: 0.56973218 | Best Train Acc: 0.70480993 | Best Val Acc: 0.70752808\n",
      "Epoch: 91 |  Best Train Loss: 0.57029380 | Best Val Loss: 0.56973218 | Best Train Acc: 0.70480993 | Best Val Acc: 0.70752808\n",
      "Epoch: 92 |  Best Train Loss: 0.57029380 | Best Val Loss: 0.56973218 | Best Train Acc: 0.70480993 | Best Val Acc: 0.70752808\n",
      "Epoch: 93 |  Best Train Loss: 0.57029380 | Best Val Loss: 0.56973218 | Best Train Acc: 0.70480993 | Best Val Acc: 0.70752808\n",
      "Epoch: 94 |  Best Train Loss: 0.57029380 | Best Val Loss: 0.56973218 | Best Train Acc: 0.70480993 | Best Val Acc: 0.70752808\n",
      "Epoch: 95 |  Best Train Loss: 0.56868845 | Best Val Loss: 0.56915234 | Best Train Acc: 0.70646800 | Best Val Acc: 0.70662301\n",
      "Epoch: 96 |  Best Train Loss: 0.56868845 | Best Val Loss: 0.56915234 | Best Train Acc: 0.70646800 | Best Val Acc: 0.70662301\n",
      "Epoch: 97 |  Best Train Loss: 0.56868845 | Best Val Loss: 0.56915234 | Best Train Acc: 0.70646800 | Best Val Acc: 0.70662301\n",
      "Epoch: 98 |  Best Train Loss: 0.56868845 | Best Val Loss: 0.56915234 | Best Train Acc: 0.70646800 | Best Val Acc: 0.70662301\n",
      "Epoch: 99 |  Best Train Loss: 0.56868845 | Best Val Loss: 0.56915234 | Best Train Acc: 0.70646800 | Best Val Acc: 0.70662301\n",
      "-------------------------------------------------------\n",
      "\n",
      " Total Time: 4891.15165377\n",
      "Training Complete.\n"
     ]
    }
   ],
   "source": [
    "epochs = 100\n",
    "\n",
    "model_and_history = training(model = model,\n",
    "                             epochs = epochs, \n",
    "                             loader_train = train_dataloader, \n",
    "                             loader_val  = val_dataloader, \n",
    "                             loader_test = test_dataloader)"
   ]
  },
  {
   "cell_type": "code",
   "execution_count": 70,
   "metadata": {},
   "outputs": [
    {
     "data": {
      "image/png": "[encoded data removed]",
      "text/plain": [
       "<Figure size 800x500 with 1 Axes>"
      ]
     },
     "metadata": {},
     "output_type": "display_data"
    }
   ],
   "source": [
    "# Plot the training accuracy\n",
    "fig = plt.figure(figsize=(8,5))\n",
    "plt.plot(model_and_history['history']['train_loss'],c='b',label=f'Train Loss ({train_index} jets/graphs)')\n",
    "plt.plot(model_and_history['history']['val_loss'],c='g',label=f'Val Loss ({val_index-train_index} jets/graphs)')\n",
    "plt.plot(model_and_history['history']['train_accuracy'],c='cyan',label='Train Acc')\n",
    "plt.plot(model_and_history['history']['val_accuracy'],c='darkorange',label='Val Acc')\n",
    "plt.title(f'EGNN Training History \\n (Nodes Per Graph: {nodes_per_graph}, Hidden Features: {nf}, Layers: {n_layers})')\n",
    "plt.xlabel('Epoch')\n",
    "plt.ylabel('Loss/Accuracy')\n",
    "plt.legend()\n",
    "plt.savefig('egnn_training.png')"
   ]
  },
  {
   "cell_type": "code",
   "execution_count": 71,
   "metadata": {},
   "outputs": [],
   "source": [
    "model = copy.deepcopy(model_and_history['model'])\n",
    "model.eval()\n",
    "with torch.no_grad():\n",
    "    labels_all = None\n",
    "    for i,data in enumerate(test_dataloader):\n",
    "        node_size = (data.batch==0).sum()\n",
    "        batch_size = data.x.shape[0]\n",
    "        node_size, n_nodes = data[0].x.size()\n",
    "\n",
    "#         data = [d.to(device) for d in data]\n",
    "#         data = [d.view(-1, d.size(2)) for d in data]\n",
    "#         node_loc  = torch.stack([ data.x[:,1],data.x[:,2] ], dim=1).reshape(data.x.shape[0],2).to(device)\n",
    "        edge_index = data.edge_index.to(device)\n",
    "        edge_attr = data.edge_attr.to(device)\n",
    "        labels = data.y.double().reshape(batch_size//node_size,).cpu()\n",
    "\n",
    "\n",
    "#         edges = loader.dataset.get_edges(batch_size, n_nodes)\n",
    "        edge_inds = [edge_index[0,:].to(device), edge_index[1,:].to(device)]\n",
    "#         print('hello:',edges[0])\n",
    "\n",
    "        optimizer.zero_grad()\n",
    "\n",
    "        locations = torch.stack([data.x[:,1], \n",
    "                                 data.x[:,2]  ], dim=1).to(device)\n",
    "        \n",
    "        node_features = torch.stack([data.x[:,1], \n",
    "                                     data.x[:,2],\n",
    "                                     data.x[:,0], \n",
    "                                     data.x[:,3], \n",
    "                                     data.x[:,4],\n",
    "                                     data.x[:,5], \n",
    "                                     data.x[:,6],\n",
    "                                     data.x[:,7] ], dim=1).to(device)\n",
    "        \n",
    "\n",
    "#             nodes = torch.ones(node_features.size(0), 1).to(device)  # all input nodes are set to 1\n",
    "        rows, cols = edge_inds\n",
    "        locations_dist = torch.sum( (locations[rows] - locations[cols])**2, dim=1).unsqueeze(1)  # relative distances among locations \n",
    "#             vel_attr = get_velocity_attr(loc, vel, rows, cols).detach()\n",
    "        edge_attr = torch.cat([ edge_attr, locations_dist ], dim=1).detach()  # concatenate all edge properties\n",
    "        labels_pred = model(node_features, locations, edge_inds, edge_attr).cpu()\n",
    "        \n",
    "        if labels_all is not None:\n",
    "            labels_all = torch.cat([labels_all,labels],dim=0)\n",
    "            labels_pred_all = torch.cat([labels_pred_all,labels_pred],dim=0)\n",
    "        else:\n",
    "            labels_all = copy.deepcopy(labels)\n",
    "            labels_pred_all = copy.deepcopy(labels_pred)"
   ]
  },
  {
   "cell_type": "code",
   "execution_count": 72,
   "metadata": {},
   "outputs": [],
   "source": [
    "# labels_all"
   ]
  },
  {
   "cell_type": "code",
   "execution_count": 73,
   "metadata": {},
   "outputs": [],
   "source": [
    "# labels_pred_all"
   ]
  },
  {
   "cell_type": "code",
   "execution_count": 74,
   "metadata": {},
   "outputs": [
    {
     "data": {
      "image/png": "[encoded data removed]",
      "text/plain": [
       "<Figure size 400x300 with 2 Axes>"
      ]
     },
     "metadata": {},
     "output_type": "display_data"
    },
    {
     "name": "stdout",
     "output_type": "stream",
     "text": [
      "Accuracy for EGNN:  tensor(0.7134)\n"
     ]
    }
   ],
   "source": [
    "from sklearn.metrics import confusion_matrix\n",
    "# Calculate the confusion matrix\n",
    "conf_matrix = confusion_matrix(y_true=labels_all, y_pred=labels_pred_all.argmax(dim=1))\n",
    "# Print the confusion matrix using Matplotlib\n",
    "fig, ax = plt.subplots(figsize=(4, 3))\n",
    "im = ax.imshow(conf_matrix, cmap=plt.cm.Blues, alpha=0.3)\n",
    "for i in range(conf_matrix.shape[0]):\n",
    "    for j in range(conf_matrix.shape[1]):\n",
    "        ax.text(x=j, y=i,s=conf_matrix[i, j], va='center', ha='center', size='xx-large')\n",
    "plt.xlabel('Pred', fontsize=18)\n",
    "plt.ylabel('True', fontsize=18)\n",
    "plt.title('Confusion Matrix for EGNN', fontsize=18)\n",
    "plt.xticks(ticks=[0,1],labels=['Gluon','Quark'])\n",
    "plt.yticks(ticks=[0,1],labels=['Gluon','Quark'])\n",
    "plt.colorbar(im)\n",
    "plt.show()\n",
    "\n",
    "size=labels_all.shape[0]\n",
    "num_correct = (labels_all==labels_pred_all.argmax(dim=1)).sum().int()\n",
    "print('Accuracy for EGNN: ',num_correct/size)"
   ]
  },
  {
   "cell_type": "code",
   "execution_count": null,
   "metadata": {},
   "outputs": [],
   "source": []
  },
  {
   "cell_type": "markdown",
   "metadata": {},
   "source": [
    "## Moving Forward\n",
    "\n",
    "- Run on GPU(s)\n",
    "- Increase sample size\n",
    "- Modify edge and node MLPs in GNNs, change hyperparamters\n",
    "- Track run times\n",
    "- Build quantum versions of GNN/EGNN using Verdon et al. 2019 (Graph Isomorphism)\n",
    "- Manipulate equivariance. Compare to implementation of 2021 GSOC ENN for Clasification of Dark Matter Substructure\n",
    "- Change preprocessing\n",
    "- Try another jet dataset"
   ]
  },
  {
   "cell_type": "code",
   "execution_count": null,
   "metadata": {},
   "outputs": [],
   "source": []
  }
 ],
 "metadata": {
  "kernelspec": {
   "display_name": "PyTorch-1.13",
   "language": "python",
   "name": "pytorch-1.13"
  },
  "language_info": {
   "codemirror_mode": {
    "name": "ipython",
    "version": 3
   },
   "file_extension": ".py",
   "mimetype": "text/x-python",
   "name": "python",
   "nbconvert_exporter": "python",
   "pygments_lexer": "ipython3",
   "version": "3.10.8"
  }
 },
 "nbformat": 4,
 "nbformat_minor": 4
}
